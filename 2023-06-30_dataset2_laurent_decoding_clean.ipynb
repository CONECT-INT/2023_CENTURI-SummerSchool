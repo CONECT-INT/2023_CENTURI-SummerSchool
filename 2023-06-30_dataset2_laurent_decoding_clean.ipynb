{
 "cells": [
  {
   "cell_type": "code",
   "execution_count": 1,
   "id": "f1fec7f6-4c47-4c18-90ec-11e430dab517",
   "metadata": {},
   "outputs": [],
   "source": [
    "import numpy as np\n",
    "import matplotlib.pyplot as plt"
   ]
  },
  {
   "cell_type": "code",
   "execution_count": 2,
   "id": "9008a877",
   "metadata": {},
   "outputs": [
    {
     "name": "stdout",
     "output_type": "stream",
     "text": [
      "total 2267760\n",
      "-rw-r--r--  1 laurentperrinet  staff   211M Jun 14 10:42 H_Ready-Set_bin1ms_alignedReady.mat\n",
      "-rw-r--r--  1 laurentperrinet  staff   407M Jun 14 10:55 G_Ready-Set_bin1ms_alignedReady.mat\n",
      "-rw-r--r--@ 1 laurentperrinet  staff   2.0K Jun 15 12:29 README.md\n",
      "-rw-r--r--@ 1 laurentperrinet  staff   183M Jun 27 15:52 G_Ready-Set_bin1ms_alignedReady_session=0.npz\n",
      "-rw-r--r--@ 1 laurentperrinet  staff   212M Jun 27 15:52 G_Ready-Set_bin1ms_alignedReady_session=1.npz\n",
      "-rw-r--r--@ 1 laurentperrinet  staff    17M Jun 27 15:52 H_Ready-Set_bin1ms_alignedReady_session=0.npz\n",
      "-rw-r--r--@ 1 laurentperrinet  staff    68M Jun 27 15:52 H_Ready-Set_bin1ms_alignedReady_session=1.npz\n"
     ]
    }
   ],
   "source": [
    "%ls -ltrh /Users/laurentperrinet/quantic/grants/Polychronies/RSG-spikepatterns/Data/"
   ]
  },
  {
   "cell_type": "code",
   "execution_count": 3,
   "id": "16476f59",
   "metadata": {},
   "outputs": [
    {
     "data": {
      "text/plain": [
       "(1200, 107, 1498)"
      ]
     },
     "execution_count": 3,
     "metadata": {},
     "output_type": "execute_result"
    }
   ],
   "source": [
    "i_session = 0\n",
    "monkey = 'G'\n",
    "from pathlib import Path\n",
    "path = Path.home()/'quantic'/'grants'/'polychronies'/'RSG-spikepatterns'/'Data'/f'{monkey}_Ready-Set_bin1ms_alignedReady_session={i_session}.npz'\n",
    "\n",
    "dictdata = np.load(path)\n",
    "data, id_neuron, id_short, t_s, t_p = dictdata['data'], dictdata['id_neuron'], dictdata['id_short'], dictdata['t_s'], dictdata['t_p']\n",
    "data = data.astype(float)\n",
    "data[data==255] = np.nan\n",
    "N_time, N_neuron, N_trial = data.shape\n",
    "\n",
    "N_time, N_neuron, N_trial"
   ]
  },
  {
   "attachments": {},
   "cell_type": "markdown",
   "id": "62b0b690",
   "metadata": {},
   "source": [
    "### computing the firing rates"
   ]
  },
  {
   "cell_type": "code",
   "execution_count": 4,
   "id": "aa340cf9",
   "metadata": {},
   "outputs": [
    {
     "data": {
      "text/plain": [
       "(array([ 100,  140,  180,  220,  260,  300,  340,  380,  420,  460,  500,\n",
       "         540,  580,  620,  660,  700,  740,  780,  820,  860,  900,  940,\n",
       "         980, 1020, 1060, 1100, 1140, 1180]),\n",
       " 28)"
      ]
     },
     "execution_count": 4,
     "metadata": {},
     "output_type": "execute_result"
    }
   ],
   "source": [
    "t_s_max = int(t_s.max())\n",
    "DeltaT = 100 # number of time bins on which we average\n",
    "dt = 40 # temporal distance between points on which we compute the firing rate\n",
    "\n",
    "timepoints = np.arange(DeltaT, t_s_max+1, dt)\n",
    "N_timepoint = len(timepoints)\n",
    "timepoints, N_timepoint"
   ]
  },
  {
   "cell_type": "code",
   "execution_count": 5,
   "id": "5ec9a4e7",
   "metadata": {},
   "outputs": [],
   "source": [
    "fr = np.empty((N_timepoint, N_neuron, N_trial)) * np.nan\n",
    "for i_timepoint, timepoint in enumerate(timepoints):\n",
    "    fr[i_timepoint, :, :] = np.nansum(data[(timepoint-DeltaT):timepoint, :, :], axis=0) / (DeltaT/1000)"
   ]
  },
  {
   "cell_type": "code",
   "execution_count": 6,
   "id": "cb35aebf",
   "metadata": {},
   "outputs": [
    {
     "data": {
      "text/plain": [
       "(28, 107, 1498)"
      ]
     },
     "execution_count": 6,
     "metadata": {},
     "output_type": "execute_result"
    }
   ],
   "source": [
    "fr.shape"
   ]
  },
  {
   "cell_type": "code",
   "execution_count": 7,
   "id": "f825ab78",
   "metadata": {},
   "outputs": [
    {
     "data": {
      "text/plain": [
       "array([934, 157, 392, ..., 826, 542, 868])"
      ]
     },
     "execution_count": 7,
     "metadata": {},
     "output_type": "execute_result"
    }
   ],
   "source": [
    "ratio_train = 80/100\n",
    "N_trial_train = int(N_trial*ratio_train)\n",
    "N_trial_test = N_trial - N_trial_train\n",
    "idx_trial = np.random.permutation(N_trial)\n",
    "idx_trial"
   ]
  },
  {
   "cell_type": "code",
   "execution_count": 8,
   "id": "5b4b0c83",
   "metadata": {},
   "outputs": [
    {
     "data": {
      "text/plain": [
       "<matplotlib.image.AxesImage at 0x117085c10>"
      ]
     },
     "execution_count": 8,
     "metadata": {},
     "output_type": "execute_result"
    },
    {
     "data": {
      "image/png": "[encoded data removed]",
      "text/plain": [
       "<Figure size 1300x1300 with 1 Axes>"
      ]
     },
     "metadata": {},
     "output_type": "display_data"
    }
   ],
   "source": [
    "fig, ax = plt.subplots(figsize=(13, 13))\n",
    "ax.imshow(fr[:, :, 102], cmap='viridis')"
   ]
  },
  {
   "attachments": {},
   "cell_type": "markdown",
   "id": "e9714952",
   "metadata": {},
   "source": [
    "### logistic regression model with NaNs"
   ]
  },
  {
   "attachments": {},
   "cell_type": "markdown",
   "id": "4c568a01",
   "metadata": {},
   "source": [
    "### inference model"
   ]
  },
  {
   "cell_type": "code",
   "execution_count": 9,
   "id": "6abe4441",
   "metadata": {},
   "outputs": [],
   "source": [
    "import torch\n",
    "if torch.backends.mps.is_available():\n",
    "    device = torch.device('mps')\n",
    "elif torch.cuda.is_available():\n",
    "    device = torch.device('cuda')\n",
    "else:\n",
    "    device = 'cpu'\n",
    "\n",
    "device = 'cpu'"
   ]
  },
  {
   "cell_type": "code",
   "execution_count": 10,
   "id": "ff55e8fa",
   "metadata": {},
   "outputs": [],
   "source": [
    "import torch.nn.functional as F\n",
    "from torch.utils.data import TensorDataset, DataLoader\n",
    "torch.set_default_dtype(torch.float64) # -> torch.tensor([1.2, 3]).dtype = torch.float64\n",
    "criterion = torch.nn.BCELoss(reduction=\"mean\") \n",
    "\n",
    "class LogisticRegressionModel(torch.nn.Module):\n",
    "    def __init__(self, N_neuron, N_timepoint, logit_0=-2., logit_wt=0.1):\n",
    "        super(LogisticRegressionModel, self).__init__() \n",
    "        self.bias = torch.nn.Parameter(logit_0*torch.ones(1, N_timepoint))\n",
    "        self.weight = torch.nn.Parameter(logit_wt * torch.randn((N_neuron, N_timepoint)))\n",
    "\n",
    "    def forward(self, X_input):\n",
    "        # X_input.shape = N_batch, N_neuron\n",
    "        X_input[torch.isnan(X_input)] = 0.\n",
    "        return F.softmax(torch.tensordot(X_input, self.weight, dims=1) +  self.bias, dim=1)"
   ]
  },
  {
   "cell_type": "code",
   "execution_count": 11,
   "id": "98dce17f",
   "metadata": {},
   "outputs": [],
   "source": [
    "learning_rate = 1.e-05\n",
    "logit_0 = -2.\n",
    "logit_wt = 0.01\n",
    "beta1, beta2 = 0.995, 0.999\n",
    "num_epochs = 2 ** 10 + 1\n",
    "amsgrad = True  # gives similar results\n",
    "amsgrad = False # gives similar results"
   ]
  },
  {
   "cell_type": "code",
   "execution_count": 12,
   "id": "733ce849",
   "metadata": {},
   "outputs": [],
   "source": [
    "\n",
    "def fit_data(fr, logit_0=logit_0, logit_wt=logit_wt,\n",
    "                learning_rate=learning_rate,\n",
    "                num_epochs=num_epochs,\n",
    "                beta1=beta1, beta2=beta2, amsgrad=amsgrad,\n",
    "                verbose=False, \n",
    "        ):\n",
    "\n",
    "    logistic_model = LogisticRegressionModel(N_neuron, N_timepoint, logit_0=logit_0, logit_wt=logit_wt)\n",
    "    logistic_model = logistic_model.to(device)\n",
    "    logistic_model.train()\n",
    "    optimizer = torch.optim.Adam(\n",
    "        logistic_model.parameters(), lr=learning_rate, betas=(beta1, beta2), amsgrad=amsgrad\n",
    "    )\n",
    "    for epoch in range(int(num_epochs)):\n",
    "        logistic_model.train()\n",
    "        losses = []\n",
    "        for i_trial in idx_trial[range(N_trial_train)]:\n",
    "            X = torch.tensor(fr[:, :, i_trial], dtype=torch.float64)\n",
    "            time_labels = np.arange(N_timepoint)[X.sum(axis=1)>0]\n",
    "            X = X[time_labels, :]\n",
    "            labels = F.one_hot(torch.tensor(time_labels), num_classes=N_timepoint)*1.\n",
    "            X, labels = X.to(device), labels.to(device)\n",
    "            outputs = logistic_model(X)\n",
    "            loss = criterion(outputs, labels)\n",
    "\n",
    "            optimizer.zero_grad()\n",
    "            loss.backward()\n",
    "            optimizer.step()\n",
    "            losses.append(loss.item())\n",
    "\n",
    "        if verbose and (epoch % (num_epochs // 32) == 0):\n",
    "            print(f\"Iteration: {epoch} - Loss: {np.mean(losses):.5f}\")\n",
    "\n",
    "    return logistic_model, np.mean(losses)\n"
   ]
  },
  {
   "cell_type": "code",
   "execution_count": 13,
   "id": "36eb6b45",
   "metadata": {},
   "outputs": [
    {
     "name": "stdout",
     "output_type": "stream",
     "text": [
      "Iteration: 0 - Loss: 0.15965\n",
      "Iteration: 32 - Loss: 0.13099\n",
      "Iteration: 64 - Loss: 0.13015\n",
      "Iteration: 96 - Loss: 0.12997\n",
      "Iteration: 128 - Loss: 0.12989\n",
      "Iteration: 160 - Loss: 0.12984\n",
      "Iteration: 192 - Loss: 0.12980\n",
      "Iteration: 224 - Loss: 0.12977\n",
      "Iteration: 256 - Loss: 0.12974\n",
      "Iteration: 288 - Loss: 0.12971\n",
      "Iteration: 320 - Loss: 0.12969\n",
      "Iteration: 352 - Loss: 0.12967\n",
      "Iteration: 384 - Loss: 0.12965\n",
      "Iteration: 416 - Loss: 0.12963\n",
      "Iteration: 448 - Loss: 0.12961\n",
      "Iteration: 480 - Loss: 0.12959\n",
      "Iteration: 512 - Loss: 0.12957\n",
      "Iteration: 544 - Loss: 0.12956\n",
      "Iteration: 576 - Loss: 0.12954\n",
      "Iteration: 608 - Loss: 0.12953\n",
      "Iteration: 640 - Loss: 0.12951\n"
     ]
    }
   ],
   "source": [
    "logistic_model, loss = fit_data(fr, verbose=True)"
   ]
  },
  {
   "cell_type": "code",
   "execution_count": null,
   "id": "0bb4ce15",
   "metadata": {},
   "outputs": [],
   "source": [
    "with torch.no_grad():\n",
    "    counts = np.zeros((N_timepoint, N_timepoint))\n",
    "    outputs = np.zeros((N_timepoint, N_timepoint))\n",
    "    for i_trial in idx_trial[range(N_trial_train, N_trial)]:\n",
    "        X = torch.tensor(fr[:, :, i_trial], dtype=torch.float64)\n",
    "        time_labels = np.arange(N_timepoint)[X.sum(axis=1)>0]\n",
    "        counts[time_labels, :] += 1\n",
    "        X = X[time_labels, :]\n",
    "        output = logistic_model(X).numpy()\n",
    "        outputs[time_labels, :] += output\n",
    "\n",
    "    outputs = outputs/counts\n",
    "\n",
    "outputs.shape, counts.shape, outputs.sum(axis=1)"
   ]
  },
  {
   "cell_type": "code",
   "execution_count": null,
   "id": "b7757287",
   "metadata": {},
   "outputs": [],
   "source": [
    "outputs.min(), outputs.max()"
   ]
  },
  {
   "cell_type": "code",
   "execution_count": null,
   "id": "d4953e24",
   "metadata": {},
   "outputs": [],
   "source": [
    "fig, ax = plt.subplots(figsize=(13, 13))\n",
    "ax.imshow(outputs, cmap='viridis')\n",
    "ax.set_xlabel('predicted time')\n",
    "ax.set_ylabel('true time')"
   ]
  },
  {
   "attachments": {},
   "cell_type": "markdown",
   "id": "59d44e8f",
   "metadata": {},
   "source": [
    "## scan parameters"
   ]
  },
  {
   "cell_type": "code",
   "execution_count": null,
   "id": "a8378946",
   "metadata": {},
   "outputs": [],
   "source": [
    "N_scan = 5\n",
    "for learning_rate_ in learning_rate*np.logspace(-1, 1, N_scan, base=10):\n",
    "    logistic_model, loss = fit_data(fr, learning_rate=learning_rate_, verbose=False)\n",
    "    print(f'learning_rate={learning_rate_:.3e}:{loss=:.3e}')"
   ]
  },
  {
   "cell_type": "code",
   "execution_count": null,
   "id": "a2b59fd2",
   "metadata": {},
   "outputs": [],
   "source": [
    "for logit_0_ in logit_0*np.logspace(-1, 1, N_scan, base=10):\n",
    "    logistic_model, loss = fit_data(fr, logit_0=logit_0_, verbose=False)\n",
    "    print(f'logit_0={logit_0_:.3e}:{loss=:.3e}')"
   ]
  },
  {
   "cell_type": "code",
   "execution_count": null,
   "id": "ad355197",
   "metadata": {},
   "outputs": [],
   "source": [
    "for logit_wt_ in logit_wt*np.logspace(-1, 1, N_scan, base=10):\n",
    "    logistic_model, loss = fit_data(fr, logit_wt=logit_wt_, verbose=False)\n",
    "    print(f'logit_wt={logit_wt_:.3e}:{loss=:.3e}')"
   ]
  },
  {
   "cell_type": "code",
   "execution_count": null,
   "id": "ab94a08c",
   "metadata": {},
   "outputs": [],
   "source": [
    "for beta1_ in 1-np.logspace(-2, -5, N_scan, base=10):\n",
    "    logistic_model, loss = fit_data(fr, beta1=beta1_, verbose=False)\n",
    "    print(f'beta1={beta1_:.3e}:{loss=:.3e}')"
   ]
  },
  {
   "cell_type": "code",
   "execution_count": null,
   "id": "ce111043",
   "metadata": {},
   "outputs": [],
   "source": [
    "for beta2_ in 1-np.logspace(-1, -4, N_scan, base=10):\n",
    "    logistic_model, loss = fit_data(fr, beta2=beta2_, verbose=False)\n",
    "    print(f'beta2={beta2_:.3e}:{loss=:.3e}')"
   ]
  },
  {
   "cell_type": "code",
   "execution_count": null,
   "id": "c796488e",
   "metadata": {},
   "outputs": [],
   "source": [
    "logistic_model, loss = fit_data(fr, amsgrad=not(amsgrad), verbose=False)\n",
    "print(f'amsgrad={not(amsgrad)}:{loss=:.3e}')"
   ]
  }
 ],
 "metadata": {
  "kernelspec": {
   "display_name": "Python 3",
   "language": "python",
   "name": "python3"
  },
  "language_info": {
   "codemirror_mode": {
    "name": "ipython",
    "version": 3
   },
   "file_extension": ".py",
   "mimetype": "text/x-python",
   "name": "python",
   "nbconvert_exporter": "python",
   "pygments_lexer": "ipython3",
   "version": "3.11.4"
  }
 },
 "nbformat": 4,
 "nbformat_minor": 5
}
