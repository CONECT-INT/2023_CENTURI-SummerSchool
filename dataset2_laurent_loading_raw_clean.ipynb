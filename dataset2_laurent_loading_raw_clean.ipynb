{
 "cells": [
  {
   "cell_type": "code",
   "execution_count": 1,
   "id": "f1fec7f6-4c47-4c18-90ec-11e430dab517",
   "metadata": {},
   "outputs": [],
   "source": [
    "import numpy as np\n",
    "import matplotlib.pyplot as plt\n",
    "from pathlib import Path"
   ]
  },
  {
   "cell_type": "code",
   "execution_count": 2,
   "id": "854af98e-6f5d-4b74-8c3a-7e3e258f2aa2",
   "metadata": {},
   "outputs": [],
   "source": [
    "G_path = Path.home()/'quantic'/'grants'/'polychronies'/'RSG-spikepatterns'/'Data'/'G_Ready-Set_bin1ms_alignedReady.mat'\n",
    "H_path = Path.home()/'quantic'/'grants'/'polychronies'/'RSG-spikepatterns'/'Data'/'H_Ready-Set_bin1ms_alignedReady.mat'\n",
    "path = G_path\n",
    "# data = scipy.io.loadmat(path)"
   ]
  },
  {
   "attachments": {},
   "cell_type": "markdown",
   "id": "64c9982d",
   "metadata": {},
   "source": [
    "The data inside each file is organized as follows:\n",
    "\n",
    "\\- D [1xS cells] is the spiking data, where S is the number of sessions. Each cell contains data from a given session in the form of a 3-D tensor [TxNxK] where T is the number of time points within a trial (sampled at 1-ms resolution), N is the number of neurons, and K is the number of trials. The entries of the tensor are 0 (no spike), or 1 (spike). Note that the data has been NaN-padded to accommodate trials of different durations. The data provided is between the Ready and the Set cues.\n",
    "\n",
    "\\- t_s [1xS cells] is the sample interval presented to the animal on every trial (duration of the Ready-Set epoch).\n",
    "\n",
    "\\- t_p [1xS cells] is the interval produced by the animal on every trial (duration of the Set-Go epoch).\n",
    "\n",
    "\\- id_eye [1xS cells] is an indicator of whether the monkey used the eye (1) or the hand (0) to respond at Go.\n",
    "\n",
    "\\- id_left [1xS cells] is an indicator of whether the target was located to the left (1) or right (0) to  fixation point.\n",
    "\n",
    "\\- id_short [1xS cells] is an indicator of whether the color cue was red (1) or blue (0) respectively corresponding to the Short and Long distribution.\n",
    "\n",
    "\\- id_trial [1xS cells] is the trial number within each session. Some trials were excluded offline due to the animal not responding or breaking fixation early.\n",
    "\n",
    "\\- id_neuron [1xS cells] is the neuron identity for each session in the form of a matrix [Nx2] where N is the number of neurons. The first column is the neuron label, the second column indicates 1 for putative single units and 0 for multi units.\n",
    "\n",
    "\\- wbin is the size of the bin (in ms) used to discretize the data\n",
    "\n",
    "\\- sp_times [1xS cells] is the spike times for each session in the form of a series of cells [Nx1] where N is the number of neurons, containing the spike times [N_times x 1]. Note here that we include ALL spikes, even those outside of trial periods. "
   ]
  },
  {
   "attachments": {},
   "cell_type": "markdown",
   "id": "2b8d69c1",
   "metadata": {},
   "source": [
    "## trying mat73"
   ]
  },
  {
   "cell_type": "code",
   "execution_count": 3,
   "id": "c1dca5fb",
   "metadata": {},
   "outputs": [],
   "source": [
    "import mat73\n",
    "mat73data_dict = mat73.loadmat(path)"
   ]
  },
  {
   "cell_type": "code",
   "execution_count": 4,
   "id": "0f9413fd",
   "metadata": {},
   "outputs": [
    {
     "data": {
      "text/plain": [
       "array(1.)"
      ]
     },
     "execution_count": 4,
     "metadata": {},
     "output_type": "execute_result"
    }
   ],
   "source": [
    "dt = mat73data_dict['wbin']\n",
    "dt"
   ]
  },
  {
   "cell_type": "code",
   "execution_count": 5,
   "id": "1cbfc605",
   "metadata": {},
   "outputs": [
    {
     "data": {
      "text/plain": [
       "dict_keys(['D', 'id_eye', 'id_left', 'id_neuron', 'id_short', 'id_trial', 'sp_times', 't_p', 't_s', 'wbin'])"
      ]
     },
     "execution_count": 5,
     "metadata": {},
     "output_type": "execute_result"
    }
   ],
   "source": [
    "mat73data_dict.keys()"
   ]
  },
  {
   "cell_type": "code",
   "execution_count": 6,
   "id": "d7a82965",
   "metadata": {},
   "outputs": [
    {
     "name": "stdout",
     "output_type": "stream",
     "text": [
      "number of sessions = 12\n"
     ]
    }
   ],
   "source": [
    "N_session = len(mat73data_dict['D'])\n",
    "print('number of sessions =', N_session)"
   ]
  },
  {
   "cell_type": "code",
   "execution_count": 7,
   "id": "aa917105",
   "metadata": {},
   "outputs": [
    {
     "data": {
      "text/plain": [
       "(1200, 107, 1498)"
      ]
     },
     "execution_count": 7,
     "metadata": {},
     "output_type": "execute_result"
    }
   ],
   "source": [
    "i_session = 0\n",
    "data = mat73data_dict['D'][i_session]\n",
    "N_time, N_neurons, N_trial = data.shape\n",
    "N_time, N_neurons, N_trial"
   ]
  },
  {
   "attachments": {},
   "cell_type": "markdown",
   "id": "75bc541b",
   "metadata": {},
   "source": [
    "## displaying some raster plots"
   ]
  },
  {
   "cell_type": "code",
   "execution_count": 8,
   "id": "014bf315",
   "metadata": {},
   "outputs": [
    {
     "name": "stdout",
     "output_type": "stream",
     "text": [
      "0 4.391640246799251 0.6562914299858119\n"
     ]
    }
   ],
   "source": [
    "print(i_session, np.mean(np.nanmean(data, axis=(0, 1))*1000), np.std(np.nanmean(data, axis=(0, 1))*1000))"
   ]
  },
  {
   "cell_type": "code",
   "execution_count": 9,
   "id": "2a0d65bf",
   "metadata": {},
   "outputs": [
    {
     "data": {
      "text/plain": [
       "(1100, 107)"
      ]
     },
     "execution_count": 9,
     "metadata": {},
     "output_type": "execute_result"
    }
   ],
   "source": [
    "i_trial = 0\n",
    "data_trimT = data[np.isnan(data[:, :, i_trial]).sum(axis=1)<N_neurons, :, i_trial]\n",
    "data_trimT.shape"
   ]
  },
  {
   "cell_type": "code",
   "execution_count": 10,
   "id": "025e2420",
   "metadata": {},
   "outputs": [
    {
     "data": {
      "text/plain": [
       "(1100, 85)"
      ]
     },
     "execution_count": 10,
     "metadata": {},
     "output_type": "execute_result"
    }
   ],
   "source": [
    "data_trim = data_trimT[:, np.isnan(data_trimT).sum(axis=0)==0]\n",
    "data_trim.shape"
   ]
  },
  {
   "cell_type": "code",
   "execution_count": 11,
   "id": "58fdd143",
   "metadata": {},
   "outputs": [
    {
     "data": {
      "image/png": "[encoded data removed]",
      "text/plain": [
       "<Figure size 1300x800 with 1 Axes>"
      ]
     },
     "metadata": {},
     "output_type": "display_data"
    }
   ],
   "source": [
    "fig, ax = plt.subplots(figsize=(13, 8))\n",
    "ax.imshow((data_trim>0)[:300, :].T, cmap='gray');"
   ]
  },
  {
   "attachments": {},
   "cell_type": "markdown",
   "id": "087cad23",
   "metadata": {},
   "source": [
    "### checking we have the good t_s on each trial"
   ]
  },
  {
   "cell_type": "code",
   "execution_count": 12,
   "id": "6855dc76",
   "metadata": {},
   "outputs": [
    {
     "name": "stdout",
     "output_type": "stream",
     "text": [
      "ts= 1100\n",
      "ts= 1200\n",
      "ts= 800\n",
      "ts= 900\n",
      "ts= 900\n",
      "ts= 1200\n",
      "ts= 900\n",
      "ts= 1200\n",
      "ts= 1000\n",
      "ts= 900\n",
      "ts= 1100\n",
      "ts= 800\n"
     ]
    }
   ],
   "source": [
    "for i_trial in range(N_trial):\n",
    "    print('ts=', (np.isnan(data[:, :, i_trial]).sum(axis=1)<N_neurons).sum())\n",
    "    if i_trial>10: break\n"
   ]
  },
  {
   "cell_type": "code",
   "execution_count": 13,
   "id": "457ead92",
   "metadata": {},
   "outputs": [
    {
     "data": {
      "text/plain": [
       "array([1100., 1200.,  800., ...,  640.,  800.,  560.])"
      ]
     },
     "execution_count": 13,
     "metadata": {},
     "output_type": "execute_result"
    }
   ],
   "source": [
    "mat73data_dict['t_s'][i_session]"
   ]
  },
  {
   "cell_type": "code",
   "execution_count": 14,
   "id": "0ad7e7ef",
   "metadata": {},
   "outputs": [],
   "source": [
    "for i_trial, t_s in enumerate(mat73data_dict['t_s'][i_session]):\n",
    "    t_s_obs = (np.isnan(data[:, :, i_trial]).sum(axis=1)<N_neurons).sum()\n",
    "    if not(t_s_obs == t_s): print('trial', i_trial)"
   ]
  },
  {
   "attachments": {},
   "cell_type": "markdown",
   "id": "fa47e0fb",
   "metadata": {},
   "source": [
    "### checking we have the same neurons on each trial"
   ]
  },
  {
   "cell_type": "code",
   "execution_count": 15,
   "id": "e0a70300",
   "metadata": {},
   "outputs": [
    {
     "data": {
      "text/plain": [
       "(560, 107)"
      ]
     },
     "execution_count": 15,
     "metadata": {},
     "output_type": "execute_result"
    }
   ],
   "source": [
    "for i_trial, t_s in enumerate(mat73data_dict['t_s'][i_session]):\n",
    "    data_trimT = data[:int(t_s), :, i_trial]\n",
    "data_trimT.shape"
   ]
  },
  {
   "cell_type": "code",
   "execution_count": 16,
   "id": "290e3e00",
   "metadata": {},
   "outputs": [
    {
     "data": {
      "text/plain": [
       "array([ True, False,  True, False, False,  True,  True,  True,  True,\n",
       "        True, False,  True,  True,  True,  True,  True,  True,  True,\n",
       "        True,  True,  True,  True, False,  True,  True,  True,  True,\n",
       "       False,  True,  True, False,  True, False, False,  True, False,\n",
       "        True,  True,  True,  True,  True,  True,  True,  True,  True,\n",
       "        True,  True,  True,  True,  True, False,  True,  True,  True,\n",
       "        True,  True,  True,  True,  True, False,  True,  True,  True,\n",
       "        True,  True, False,  True, False,  True, False, False,  True,\n",
       "        True,  True,  True,  True, False,  True,  True,  True,  True,\n",
       "        True,  True,  True,  True,  True,  True,  True,  True,  True,\n",
       "        True,  True,  True,  True,  True,  True,  True,  True,  True,\n",
       "        True,  True,  True,  True,  True, False,  True, False])"
      ]
     },
     "execution_count": 16,
     "metadata": {},
     "output_type": "execute_result"
    }
   ],
   "source": [
    "active_neurons = np.isnan(data_trimT).sum(axis=0)==0\n",
    "active_neurons"
   ]
  },
  {
   "cell_type": "code",
   "execution_count": 17,
   "id": "d4a9873f",
   "metadata": {},
   "outputs": [
    {
     "name": "stdout",
     "output_type": "stream",
     "text": [
      "85\n",
      "87\n",
      "91\n",
      "92\n",
      "97\n",
      "97\n",
      "97\n",
      "99\n",
      "99\n",
      "99\n",
      "99\n",
      "99\n"
     ]
    }
   ],
   "source": [
    "for i_trial, t_s in enumerate(mat73data_dict['t_s'][i_session]):\n",
    "    data_trimT = data[:int(t_s), :, i_trial]\n",
    "    print((np.isnan(data_trimT).sum(axis=0)==0).sum())\n",
    "    if i_trial>10: break\n"
   ]
  },
  {
   "attachments": {},
   "cell_type": "markdown",
   "id": "c4241f12",
   "metadata": {},
   "source": [
    "### saving all to numpy arrays (generates huge files!)"
   ]
  },
  {
   "cell_type": "code",
   "execution_count": 18,
   "id": "d0702eb5",
   "metadata": {},
   "outputs": [
    {
     "data": {
      "text/plain": [
       "'/Users/laurentperrinet/quantic/grants/polychronies/RSG-spikepatterns/Data/G_Ready-Set_bin1ms_alignedReady.npy'"
      ]
     },
     "execution_count": 18,
     "metadata": {},
     "output_type": "execute_result"
    }
   ],
   "source": [
    "str(path).replace('.mat', '.npy')"
   ]
  },
  {
   "cell_type": "code",
   "execution_count": 19,
   "id": "e4b4f81e",
   "metadata": {},
   "outputs": [
    {
     "data": {
      "text/plain": [
       "'/Users/laurentperrinet/quantic/grants/polychronies/RSG-spikepatterns/Data/G_Ready-Set_bin1ms_alignedReady.mat'"
      ]
     },
     "execution_count": 19,
     "metadata": {},
     "output_type": "execute_result"
    }
   ],
   "source": [
    "str(path)"
   ]
  },
  {
   "cell_type": "code",
   "execution_count": 23,
   "metadata": {},
   "outputs": [],
   "source": [
    "DEBUG = True\n",
    "for path in [G_path, H_path]:\n",
    "    import mat73\n",
    "    mat73data_dict = mat73.loadmat(path)\n",
    "    N_session = len(mat73data_dict['D'])\n",
    "    for i_session in range(N_session):\n",
    "        data = mat73data_dict['D'][i_session]\n",
    "        np.save(str(path).replace('.mat', f'_session={i_session}.npy'), data)\n",
    "        if DEBUG and i_session>0: break"
   ]
  },
  {
   "cell_type": "code",
   "execution_count": 24,
   "id": "78f9e8d0",
   "metadata": {},
   "outputs": [
    {
     "name": "stdout",
     "output_type": "stream",
     "text": [
      "total 9138656\n",
      "-rw-r--r--  1 laurentperrinet  staff   211M Jun 14 10:42 H_Ready-Set_bin1ms_alignedReady.mat\n",
      "-rw-r--r--  1 laurentperrinet  staff   407M Jun 14 10:55 G_Ready-Set_bin1ms_alignedReady.mat\n",
      "-rw-r--r--@ 1 laurentperrinet  staff   2.0K Jun 15 12:29 README.md\n",
      "-rw-r--r--@ 1 laurentperrinet  staff   1.4G Jun 26 16:39 G_Ready-Set_bin1ms_alignedReady_session=0.npy\n",
      "-rw-r--r--@ 1 laurentperrinet  staff   1.7G Jun 26 16:39 G_Ready-Set_bin1ms_alignedReady_session=1.npy\n",
      "-rw-r--r--@ 1 laurentperrinet  staff   138M Jun 26 16:40 H_Ready-Set_bin1ms_alignedReady_session=0.npy\n",
      "-rw-r--r--@ 1 laurentperrinet  staff   545M Jun 26 16:40 H_Ready-Set_bin1ms_alignedReady_session=1.npy\n"
     ]
    }
   ],
   "source": [
    "%ls -ltrh /Users/laurentperrinet/quantic/grants/Polychronies/RSG-spikepatterns/Data/"
   ]
  },
  {
   "cell_type": "code",
   "execution_count": null,
   "id": "eeb243be",
   "metadata": {},
   "outputs": [],
   "source": []
  }
 ],
 "metadata": {
  "kernelspec": {
   "display_name": "Python 3",
   "language": "python",
   "name": "python3"
  },
  "language_info": {
   "codemirror_mode": {
    "name": "ipython",
    "version": 3
   },
   "file_extension": ".py",
   "mimetype": "text/x-python",
   "name": "python",
   "nbconvert_exporter": "python",
   "pygments_lexer": "ipython3",
   "version": "3.11.4"
  }
 },
 "nbformat": 4,
 "nbformat_minor": 5
}
