{
 "cells": [
  {
   "cell_type": "code",
   "execution_count": 1,
   "id": "f1fec7f6-4c47-4c18-90ec-11e430dab517",
   "metadata": {},
   "outputs": [],
   "source": [
    "import numpy as np\n",
    "import matplotlib.pyplot as plt"
   ]
  },
  {
   "cell_type": "code",
   "execution_count": 2,
   "id": "9008a877",
   "metadata": {},
   "outputs": [
    {
     "name": "stdout",
     "output_type": "stream",
     "text": [
      "total 2267760\n",
      "-rw-r--r--  1 laurentperrinet  staff   211M Jun 14 10:42 H_Ready-Set_bin1ms_alignedReady.mat\n",
      "-rw-r--r--  1 laurentperrinet  staff   407M Jun 14 10:55 G_Ready-Set_bin1ms_alignedReady.mat\n",
      "-rw-r--r--@ 1 laurentperrinet  staff   2.0K Jun 15 12:29 README.md\n",
      "-rw-r--r--@ 1 laurentperrinet  staff   183M Jun 27 15:52 G_Ready-Set_bin1ms_alignedReady_session=0.npz\n",
      "-rw-r--r--@ 1 laurentperrinet  staff   212M Jun 27 15:52 G_Ready-Set_bin1ms_alignedReady_session=1.npz\n",
      "-rw-r--r--@ 1 laurentperrinet  staff    17M Jun 27 15:52 H_Ready-Set_bin1ms_alignedReady_session=0.npz\n",
      "-rw-r--r--@ 1 laurentperrinet  staff    68M Jun 27 15:52 H_Ready-Set_bin1ms_alignedReady_session=1.npz\n"
     ]
    }
   ],
   "source": [
    "%ls -ltrh /Users/laurentperrinet/quantic/grants/Polychronies/RSG-spikepatterns/Data/"
   ]
  },
  {
   "cell_type": "code",
   "execution_count": 3,
   "id": "16476f59",
   "metadata": {},
   "outputs": [
    {
     "data": {
      "text/plain": [
       "(1200, 107, 1498)"
      ]
     },
     "execution_count": 3,
     "metadata": {},
     "output_type": "execute_result"
    }
   ],
   "source": [
    "i_session = 0\n",
    "monkey = 'G'\n",
    "from pathlib import Path\n",
    "path = Path.home()/'quantic'/'grants'/'polychronies'/'RSG-spikepatterns'/'Data'/f'{monkey}_Ready-Set_bin1ms_alignedReady_session={i_session}.npz'\n",
    "\n",
    "dictdata = np.load(path)\n",
    "data, id_neuron, id_short, t_s, t_p = dictdata['data'], dictdata['id_neuron'], dictdata['id_short'], dictdata['t_s'], dictdata['t_p']\n",
    "data = data.astype(float)\n",
    "data[data==255] = np.nan\n",
    "N_time, N_neuron, N_trial = data.shape\n",
    "\n",
    "N_time, N_neuron, N_trial"
   ]
  },
  {
   "attachments": {},
   "cell_type": "markdown",
   "id": "62b0b690",
   "metadata": {},
   "source": [
    "### computing the firing rates"
   ]
  },
  {
   "cell_type": "code",
   "execution_count": 4,
   "id": "aa340cf9",
   "metadata": {},
   "outputs": [
    {
     "data": {
      "text/plain": [
       "(array([ 100,  140,  180,  220,  260,  300,  340,  380,  420,  460,  500,\n",
       "         540,  580,  620,  660,  700,  740,  780,  820,  860,  900,  940,\n",
       "         980, 1020, 1060, 1100, 1140, 1180]),\n",
       " 28)"
      ]
     },
     "execution_count": 4,
     "metadata": {},
     "output_type": "execute_result"
    }
   ],
   "source": [
    "t_s_max = int(t_s.max())\n",
    "DeltaT = 100 # number of time bins on which we average\n",
    "dt = 40 # temporal distance between points on which we compute the firing rate\n",
    "\n",
    "timepoints = np.arange(DeltaT, t_s_max+1, dt)\n",
    "N_timepoint = len(timepoints)\n",
    "timepoints, N_timepoint"
   ]
  },
  {
   "cell_type": "code",
   "execution_count": 5,
   "id": "5ec9a4e7",
   "metadata": {},
   "outputs": [],
   "source": [
    "fr = np.empty((N_timepoint, N_neuron, N_trial)) * np.nan\n",
    "for i_timepoint, timepoint in enumerate(timepoints):\n",
    "    fr[i_timepoint, :, :] = np.nansum(data[(timepoint-DeltaT):timepoint, :, :], axis=0) / (DeltaT/1000)"
   ]
  },
  {
   "cell_type": "code",
   "execution_count": 6,
   "id": "a102fd8c",
   "metadata": {},
   "outputs": [],
   "source": [
    "# for i_trial in range(N_trial):\n",
    "#     print(i_trial, torch.isnan(torch.tensor(fr[:, :, i_trial].astype(float))).sum())\n",
    "#     break\n",
    "# torch.isnan(torch.tensor(fr.astype(float))).sum(), torch.isnan(torch.tensor(data.astype(float))).sum()"
   ]
  },
  {
   "cell_type": "code",
   "execution_count": 7,
   "id": "cb35aebf",
   "metadata": {},
   "outputs": [
    {
     "data": {
      "text/plain": [
       "(28, 107, 1498)"
      ]
     },
     "execution_count": 7,
     "metadata": {},
     "output_type": "execute_result"
    }
   ],
   "source": [
    "fr.shape"
   ]
  },
  {
   "cell_type": "code",
   "execution_count": 8,
   "id": "f825ab78",
   "metadata": {},
   "outputs": [
    {
     "data": {
      "text/plain": [
       "array([ 663, 1047,  209, ...,  217,  604, 1141])"
      ]
     },
     "execution_count": 8,
     "metadata": {},
     "output_type": "execute_result"
    }
   ],
   "source": [
    "ratio_train = 80/100\n",
    "N_trial_train = int(N_trial*ratio_train)\n",
    "N_trial_test = N_trial - N_trial_train\n",
    "idx_trial = np.random.permutation(N_trial)\n",
    "idx_trial"
   ]
  },
  {
   "cell_type": "code",
   "execution_count": 9,
   "id": "5b4b0c83",
   "metadata": {},
   "outputs": [
    {
     "data": {
      "text/plain": [
       "<matplotlib.image.AxesImage at 0x11ab45890>"
      ]
     },
     "execution_count": 9,
     "metadata": {},
     "output_type": "execute_result"
    },
    {
     "data": {
      "image/png": "[encoded data removed]",
      "text/plain": [
       "<Figure size 1300x1300 with 1 Axes>"
      ]
     },
     "metadata": {},
     "output_type": "display_data"
    }
   ],
   "source": [
    "fig, ax = plt.subplots(figsize=(13, 13))\n",
    "ax.imshow(fr[:, :, 102], cmap='viridis')"
   ]
  },
  {
   "attachments": {},
   "cell_type": "markdown",
   "id": "e9714952",
   "metadata": {},
   "source": [
    "### logistic regression model with NaNs"
   ]
  },
  {
   "attachments": {},
   "cell_type": "markdown",
   "id": "4c568a01",
   "metadata": {},
   "source": [
    "### inference model"
   ]
  },
  {
   "cell_type": "code",
   "execution_count": 10,
   "id": "6abe4441",
   "metadata": {},
   "outputs": [],
   "source": [
    "import torch\n",
    "if torch.backends.mps.is_available():\n",
    "    device = torch.device('mps')\n",
    "elif torch.cuda.is_available():\n",
    "    device = torch.device('cuda')\n",
    "else:\n",
    "    device = 'cpu'\n",
    "\n",
    "device = 'cpu'"
   ]
  },
  {
   "cell_type": "code",
   "execution_count": 11,
   "id": "ff55e8fa",
   "metadata": {},
   "outputs": [
    {
     "name": "stderr",
     "output_type": "stream",
     "text": [
      "/opt/homebrew/lib/python3.11/site-packages/torch/__init__.py:615: UserWarning: torch.set_default_tensor_type() is deprecated as of PyTorch 2.1, please use torch.set_default_dtype() and torch.set_default_device() as alternatives. (Triggered internally at /Users/runner/work/pytorch/pytorch/pytorch/torch/csrc/tensor/python_tensor.cpp:453.)\n",
      "  _C._set_default_tensor_type(t)\n"
     ]
    }
   ],
   "source": [
    "import torch.nn.functional as F\n",
    "from torch.utils.data import TensorDataset, DataLoader\n",
    "torch.set_default_tensor_type(\"torch.DoubleTensor\") # -> torch.tensor([1.2, 3]).dtype = torch.float64\n",
    "# torch.set_default_tensor_type(\"torch.FloatTensor\") # -> torch.tensor([1.2, 3]).dtype = torch.float\n",
    "# see https://sebastianraschka.com/faq/docs/pytorch-crossentropy.html#pytorch-loss-input-confusion-cheatsheet\n",
    "criterion = torch.nn.BCELoss(reduction=\"mean\") # loss divided by output size\n",
    "#criterion = torch.nn.NLLLoss(reduction=\"mean\") # loss divided by output size\n",
    "\n",
    "\n",
    "class LogisticRegressionModel(torch.nn.Module):\n",
    "    def __init__(self, N_neuron, N_timepoint, logit_0=-2., logit_wt=0.1):\n",
    "        super(LogisticRegressionModel, self).__init__() \n",
    "        self.bias = torch.nn.Parameter(logit_0*torch.ones(1, N_timepoint))\n",
    "        self.weight = torch.nn.Parameter(logit_wt * torch.randn((N_neuron, N_timepoint)))\n",
    "        # self.nl = torch.nn.Softmax(N_timepoint)\n",
    "        # self.nl = torch.nn.Sigmoid()\n",
    "\n",
    "    def forward(self, X_input):\n",
    "        # X_input.shape = N_batch, N_neuron\n",
    "        X_input[torch.isnan(X_input)] = 0.\n",
    "        # return self.nl(X_input @ self.weight +  self.bias)\n",
    "        # print(X_input.dtype, self.bias.dtype, self.weight.dtype)\n",
    "        return F.softmax(torch.tensordot(X_input, self.weight, dims=1) +  self.bias, dim=1)"
   ]
  },
  {
   "cell_type": "code",
   "execution_count": 12,
   "id": "52fe6e9e",
   "metadata": {},
   "outputs": [],
   "source": [
    "# F.softmax?\n",
    "# torch.tensor?"
   ]
  },
  {
   "cell_type": "code",
   "execution_count": 13,
   "id": "8b94dc1f",
   "metadata": {},
   "outputs": [
    {
     "data": {
      "text/plain": [
       "(torch.Size([28, 107]), torch.Size([28, 28]))"
      ]
     },
     "execution_count": 13,
     "metadata": {},
     "output_type": "execute_result"
    }
   ],
   "source": [
    "logistic_model = LogisticRegressionModel(N_neuron, N_timepoint)\n",
    "i_trial = 3\n",
    "X = torch.tensor(fr[:, :, i_trial], dtype=torch.float64)\n",
    "outputs = logistic_model(X)\n",
    "X.shape, outputs.shape"
   ]
  },
  {
   "cell_type": "code",
   "execution_count": 14,
   "id": "fb0d8d56",
   "metadata": {},
   "outputs": [
    {
     "data": {
      "text/plain": [
       "(tensor([480., 490., 440., 370., 390., 520., 610., 490., 410., 440., 420., 460.,\n",
       "         480., 530., 500., 430., 480., 470., 410., 480., 540., 350., 100.,   0.,\n",
       "           0.,   0.,   0.,   0.]),\n",
       " torch.Size([28]))"
      ]
     },
     "execution_count": 14,
     "metadata": {},
     "output_type": "execute_result"
    }
   ],
   "source": [
    "X.sum(axis=1), (X.sum(axis=1)>0).shape"
   ]
  },
  {
   "cell_type": "code",
   "execution_count": 15,
   "id": "0403d75d",
   "metadata": {},
   "outputs": [
    {
     "data": {
      "text/plain": [
       "<matplotlib.image.AxesImage at 0x15bd76d90>"
      ]
     },
     "execution_count": 15,
     "metadata": {},
     "output_type": "execute_result"
    },
    {
     "data": {
      "image/png": "[encoded data removed]",
      "text/plain": [
       "<Figure size 1300x1300 with 1 Axes>"
      ]
     },
     "metadata": {},
     "output_type": "display_data"
    }
   ],
   "source": [
    "fig, ax = plt.subplots(figsize=(13, 13))\n",
    "ax.imshow(X.numpy(), cmap='viridis')"
   ]
  },
  {
   "cell_type": "code",
   "execution_count": 16,
   "id": "bf3eed67",
   "metadata": {},
   "outputs": [
    {
     "data": {
      "text/plain": [
       "(28,\n",
       " array([ 0,  1,  2,  3,  4,  5,  6,  7,  8,  9, 10, 11, 12, 13, 14, 15, 16,\n",
       "        17, 18, 19, 20, 21, 22, 23, 24, 25, 26, 27]),\n",
       " array([ 0,  1,  2,  3,  4,  5,  6,  7,  8,  9, 10, 11, 12, 13, 14, 15, 16,\n",
       "        17, 18, 19, 20, 21, 22]))"
      ]
     },
     "execution_count": 16,
     "metadata": {},
     "output_type": "execute_result"
    }
   ],
   "source": [
    "N_timepoint, np.arange(N_timepoint),  np.arange(N_timepoint)[X.sum(axis=1)>0]\n"
   ]
  },
  {
   "cell_type": "code",
   "execution_count": 17,
   "id": "cdc9e161",
   "metadata": {},
   "outputs": [
    {
     "data": {
      "text/plain": [
       "(array([ 0,  1,  2,  3,  4,  5,  6,  7,  8,  9, 10, 11, 12, 13, 14, 15, 16,\n",
       "        17, 18, 19, 20, 21, 22]),\n",
       " torch.Size([23, 107]),\n",
       " torch.Size([23, 28]))"
      ]
     },
     "execution_count": 17,
     "metadata": {},
     "output_type": "execute_result"
    }
   ],
   "source": [
    "X = torch.tensor(fr[:, :, i_trial], dtype=torch.float64)\n",
    "time_labels = np.arange(N_timepoint)[X.sum(axis=1)>0]\n",
    "X = X[time_labels, :]\n",
    "outputs = logistic_model(X)\n",
    "time_labels, X.shape, outputs.shape"
   ]
  },
  {
   "cell_type": "code",
   "execution_count": 18,
   "id": "98e008d7",
   "metadata": {},
   "outputs": [
    {
     "data": {
      "text/plain": [
       "tensor([[1., 0., 0., 0., 0., 0., 0., 0., 0., 0., 0., 0., 0., 0., 0., 0., 0., 0.,\n",
       "         0., 0., 0., 0., 0., 0., 0., 0., 0., 0.],\n",
       "        [0., 1., 0., 0., 0., 0., 0., 0., 0., 0., 0., 0., 0., 0., 0., 0., 0., 0.,\n",
       "         0., 0., 0., 0., 0., 0., 0., 0., 0., 0.],\n",
       "        [0., 0., 1., 0., 0., 0., 0., 0., 0., 0., 0., 0., 0., 0., 0., 0., 0., 0.,\n",
       "         0., 0., 0., 0., 0., 0., 0., 0., 0., 0.],\n",
       "        [0., 0., 0., 1., 0., 0., 0., 0., 0., 0., 0., 0., 0., 0., 0., 0., 0., 0.,\n",
       "         0., 0., 0., 0., 0., 0., 0., 0., 0., 0.],\n",
       "        [0., 0., 0., 0., 1., 0., 0., 0., 0., 0., 0., 0., 0., 0., 0., 0., 0., 0.,\n",
       "         0., 0., 0., 0., 0., 0., 0., 0., 0., 0.],\n",
       "        [0., 0., 0., 0., 0., 1., 0., 0., 0., 0., 0., 0., 0., 0., 0., 0., 0., 0.,\n",
       "         0., 0., 0., 0., 0., 0., 0., 0., 0., 0.],\n",
       "        [0., 0., 0., 0., 0., 0., 1., 0., 0., 0., 0., 0., 0., 0., 0., 0., 0., 0.,\n",
       "         0., 0., 0., 0., 0., 0., 0., 0., 0., 0.],\n",
       "        [0., 0., 0., 0., 0., 0., 0., 1., 0., 0., 0., 0., 0., 0., 0., 0., 0., 0.,\n",
       "         0., 0., 0., 0., 0., 0., 0., 0., 0., 0.],\n",
       "        [0., 0., 0., 0., 0., 0., 0., 0., 1., 0., 0., 0., 0., 0., 0., 0., 0., 0.,\n",
       "         0., 0., 0., 0., 0., 0., 0., 0., 0., 0.],\n",
       "        [0., 0., 0., 0., 0., 0., 0., 0., 0., 1., 0., 0., 0., 0., 0., 0., 0., 0.,\n",
       "         0., 0., 0., 0., 0., 0., 0., 0., 0., 0.],\n",
       "        [0., 0., 0., 0., 0., 0., 0., 0., 0., 0., 1., 0., 0., 0., 0., 0., 0., 0.,\n",
       "         0., 0., 0., 0., 0., 0., 0., 0., 0., 0.],\n",
       "        [0., 0., 0., 0., 0., 0., 0., 0., 0., 0., 0., 1., 0., 0., 0., 0., 0., 0.,\n",
       "         0., 0., 0., 0., 0., 0., 0., 0., 0., 0.],\n",
       "        [0., 0., 0., 0., 0., 0., 0., 0., 0., 0., 0., 0., 1., 0., 0., 0., 0., 0.,\n",
       "         0., 0., 0., 0., 0., 0., 0., 0., 0., 0.],\n",
       "        [0., 0., 0., 0., 0., 0., 0., 0., 0., 0., 0., 0., 0., 1., 0., 0., 0., 0.,\n",
       "         0., 0., 0., 0., 0., 0., 0., 0., 0., 0.],\n",
       "        [0., 0., 0., 0., 0., 0., 0., 0., 0., 0., 0., 0., 0., 0., 1., 0., 0., 0.,\n",
       "         0., 0., 0., 0., 0., 0., 0., 0., 0., 0.],\n",
       "        [0., 0., 0., 0., 0., 0., 0., 0., 0., 0., 0., 0., 0., 0., 0., 1., 0., 0.,\n",
       "         0., 0., 0., 0., 0., 0., 0., 0., 0., 0.],\n",
       "        [0., 0., 0., 0., 0., 0., 0., 0., 0., 0., 0., 0., 0., 0., 0., 0., 1., 0.,\n",
       "         0., 0., 0., 0., 0., 0., 0., 0., 0., 0.],\n",
       "        [0., 0., 0., 0., 0., 0., 0., 0., 0., 0., 0., 0., 0., 0., 0., 0., 0., 1.,\n",
       "         0., 0., 0., 0., 0., 0., 0., 0., 0., 0.],\n",
       "        [0., 0., 0., 0., 0., 0., 0., 0., 0., 0., 0., 0., 0., 0., 0., 0., 0., 0.,\n",
       "         1., 0., 0., 0., 0., 0., 0., 0., 0., 0.],\n",
       "        [0., 0., 0., 0., 0., 0., 0., 0., 0., 0., 0., 0., 0., 0., 0., 0., 0., 0.,\n",
       "         0., 1., 0., 0., 0., 0., 0., 0., 0., 0.],\n",
       "        [0., 0., 0., 0., 0., 0., 0., 0., 0., 0., 0., 0., 0., 0., 0., 0., 0., 0.,\n",
       "         0., 0., 1., 0., 0., 0., 0., 0., 0., 0.],\n",
       "        [0., 0., 0., 0., 0., 0., 0., 0., 0., 0., 0., 0., 0., 0., 0., 0., 0., 0.,\n",
       "         0., 0., 0., 1., 0., 0., 0., 0., 0., 0.],\n",
       "        [0., 0., 0., 0., 0., 0., 0., 0., 0., 0., 0., 0., 0., 0., 0., 0., 0., 0.,\n",
       "         0., 0., 0., 0., 1., 0., 0., 0., 0., 0.]])"
      ]
     },
     "execution_count": 18,
     "metadata": {},
     "output_type": "execute_result"
    }
   ],
   "source": [
    "F.one_hot(torch.tensor(time_labels), num_classes=N_timepoint)*1."
   ]
  },
  {
   "cell_type": "code",
   "execution_count": 19,
   "id": "928a2cc9",
   "metadata": {},
   "outputs": [
    {
     "data": {
      "text/plain": [
       "<matplotlib.image.AxesImage at 0x15daaf510>"
      ]
     },
     "execution_count": 19,
     "metadata": {},
     "output_type": "execute_result"
    },
    {
     "data": {
      "image/png": "[encoded data removed]",
      "text/plain": [
       "<Figure size 1300x1300 with 1 Axes>"
      ]
     },
     "metadata": {},
     "output_type": "display_data"
    }
   ],
   "source": [
    "fig, ax = plt.subplots(figsize=(13, 13))\n",
    "ax.imshow(outputs.detach().numpy(), cmap='viridis')"
   ]
  },
  {
   "cell_type": "code",
   "execution_count": 20,
   "id": "98dce17f",
   "metadata": {},
   "outputs": [
    {
     "name": "stdout",
     "output_type": "stream",
     "text": [
      "Iteration: 0 - Loss: 0.26916\n",
      "Iteration: 16 - Loss: 0.21296\n",
      "Iteration: 32 - Loss: 0.21949\n",
      "Iteration: 48 - Loss: 0.22038\n",
      "Iteration: 64 - Loss: 0.22505\n",
      "Iteration: 80 - Loss: 0.21974\n",
      "Iteration: 96 - Loss: 0.21978\n",
      "Iteration: 112 - Loss: 0.21632\n",
      "Iteration: 128 - Loss: 0.21616\n",
      "Iteration: 144 - Loss: 0.22156\n",
      "Iteration: 160 - Loss: 0.21710\n",
      "Iteration: 176 - Loss: 0.22197\n",
      "Iteration: 192 - Loss: 0.21379\n",
      "Iteration: 208 - Loss: 0.21562\n",
      "Iteration: 224 - Loss: 0.20799\n",
      "Iteration: 240 - Loss: 0.21564\n",
      "Iteration: 256 - Loss: 0.22121\n",
      "Iteration: 272 - Loss: 0.22139\n",
      "Iteration: 288 - Loss: 0.22613\n",
      "Iteration: 304 - Loss: 0.21577\n",
      "Iteration: 320 - Loss: 0.21251\n",
      "Iteration: 336 - Loss: 0.21311\n",
      "Iteration: 352 - Loss: 0.21409\n",
      "Iteration: 368 - Loss: 0.22291\n",
      "Iteration: 384 - Loss: 0.21856\n",
      "Iteration: 400 - Loss: 0.21764\n",
      "Iteration: 416 - Loss: 0.21829\n",
      "Iteration: 432 - Loss: 0.21624\n",
      "Iteration: 448 - Loss: 0.22268\n",
      "Iteration: 464 - Loss: 0.22420\n",
      "Iteration: 480 - Loss: 0.22663\n",
      "Iteration: 496 - Loss: 0.22219\n",
      "Iteration: 512 - Loss: 0.21792\n"
     ]
    }
   ],
   "source": [
    "learning_rate = 0.005\n",
    "logit_0 = -2.\n",
    "logit_wt = 0.1\n",
    "beta1, beta2 = 0.9, 0.999\n",
    "betas = (beta1, beta2)\n",
    "num_epochs = 2 ** 9 + 1\n",
    "amsgrad = True  # gives similar results\n",
    "amsgrad = False # gives similar results\n",
    "\n",
    "def fit_data(fr, logit_0=logit_0, logit_wt=0.1,\n",
    "                learning_rate=learning_rate,\n",
    "                num_epochs=num_epochs,\n",
    "                betas=betas, amsgrad=amsgrad,\n",
    "                verbose=False, \n",
    "        ):\n",
    "\n",
    "    logistic_model = LogisticRegressionModel(N_neuron, N_timepoint, logit_0=logit_0, logit_wt=logit_wt)\n",
    "    # logistic_model = logistic_model.to(device)\n",
    "    logistic_model.train()\n",
    "    optimizer = torch.optim.Adam(\n",
    "        logistic_model.parameters(), lr=learning_rate, betas=betas, amsgrad=amsgrad\n",
    "    )\n",
    "    for epoch in range(int(num_epochs)):\n",
    "        logistic_model.train()\n",
    "        losses = []\n",
    "        for i_trial in idx_trial[range(N_trial_train)]:\n",
    "            X = torch.tensor(fr[:, :, i_trial], dtype=torch.float64)\n",
    "            time_labels = np.arange(N_timepoint)[X.sum(axis=1)>0]\n",
    "            X = X[time_labels, :]\n",
    "            labels = F.one_hot(torch.tensor(time_labels), num_classes=N_timepoint)*1.\n",
    "            # X, labels = X.to(device), labels.to(device)\n",
    "            outputs = logistic_model(X)\n",
    "            loss = criterion(outputs, labels)\n",
    "\n",
    "            optimizer.zero_grad()\n",
    "            loss.backward()\n",
    "            optimizer.step()\n",
    "            losses.append(loss.item())\n",
    "\n",
    "        if verbose and (epoch % (num_epochs // 32) == 0):\n",
    "            print(f\"Iteration: {epoch} - Loss: {np.mean(losses):.5f}\")\n",
    "\n",
    "    return logistic_model, np.mean(losses)\n",
    "\n",
    "logistic_model, loss = fit_data(fr, verbose=True)"
   ]
  },
  {
   "cell_type": "code",
   "execution_count": 21,
   "id": "63d1dd5c",
   "metadata": {},
   "outputs": [
    {
     "data": {
      "text/plain": [
       "((107, 28), (2996,))"
      ]
     },
     "execution_count": 21,
     "metadata": {},
     "output_type": "execute_result"
    }
   ],
   "source": [
    "logistic_model.weight.detach().numpy().shape, logistic_model.weight.detach().numpy().ravel().shape"
   ]
  },
  {
   "cell_type": "code",
   "execution_count": 22,
   "id": "0bb4ce15",
   "metadata": {},
   "outputs": [
    {
     "data": {
      "text/plain": [
       "(array([[1.49623098e-01, 9.05409571e-02, 2.48813715e-01, 2.02208711e-01,\n",
       "         4.56785712e-02, 2.48544323e-02, 1.72348042e-02, 1.88522889e-03,\n",
       "         7.48085126e-03, 5.74939404e-03, 1.17504532e-02, 2.38937024e-03,\n",
       "         1.07884144e-02, 3.12046457e-02, 1.27909506e-02, 1.94875451e-02,\n",
       "         2.44726499e-03, 3.67095596e-02, 5.79594527e-04, 1.65554646e-02,\n",
       "         1.14792491e-02, 4.97976269e-03, 1.77547579e-03, 1.15538885e-02,\n",
       "         8.54566815e-03, 1.70840784e-02, 5.46718599e-03, 3.41665122e-04],\n",
       "        [1.20934639e-01, 8.92571964e-02, 2.39206121e-01, 2.28376445e-01,\n",
       "         5.89895866e-02, 2.97299879e-02, 2.40473349e-02, 2.49226898e-03,\n",
       "         5.25144645e-03, 4.59022439e-03, 1.04712526e-02, 3.28461952e-03,\n",
       "         8.95103551e-03, 3.21673738e-02, 1.22011992e-02, 1.66006359e-02,\n",
       "         2.73464895e-03, 3.57285384e-02, 7.39899254e-04, 2.15297612e-02,\n",
       "         1.06819014e-02, 3.95304308e-03, 5.69870920e-04, 1.06015777e-02,\n",
       "         7.44443537e-03, 1.09199577e-02, 7.97186486e-03, 5.73134440e-04],\n",
       "        [8.25078909e-02, 6.44083780e-02, 2.51390751e-01, 2.73221387e-01,\n",
       "         8.57935321e-02, 3.50022933e-02, 3.27017864e-02, 5.80462401e-03,\n",
       "         5.69775348e-03, 5.35769925e-03, 9.95941170e-03, 4.57603608e-03,\n",
       "         7.73697395e-03, 3.03520455e-02, 1.10918682e-02, 1.62954330e-02,\n",
       "         3.63779167e-03, 2.22262316e-02, 4.77066155e-04, 1.39941843e-02,\n",
       "         7.76846246e-03, 3.48060056e-03, 1.37984641e-04, 3.48961072e-03,\n",
       "         5.67331065e-03, 4.04981319e-03, 1.30786170e-02, 8.84634729e-05],\n",
       "        [5.04903404e-02, 4.35586151e-02, 2.37979776e-01, 3.06815782e-01,\n",
       "         1.06405980e-01, 5.02767095e-02, 5.17947699e-02, 9.09386523e-03,\n",
       "         9.05258437e-03, 5.85856764e-03, 1.08576733e-02, 4.08997547e-03,\n",
       "         8.05360462e-03, 2.64178875e-02, 9.48138149e-03, 1.50975886e-02,\n",
       "         1.65611174e-03, 2.02758650e-02, 2.62497211e-04, 1.11217712e-02,\n",
       "         4.89010459e-03, 1.89627072e-03, 3.89916089e-05, 4.77514922e-03,\n",
       "         1.70663016e-03, 2.56434632e-03, 5.43542886e-03, 5.17325337e-05],\n",
       "        [2.93570061e-02, 2.57558593e-02, 1.93596343e-01, 3.10825707e-01,\n",
       "         1.22344511e-01, 7.39754698e-02, 6.77869090e-02, 1.71430558e-02,\n",
       "         1.17318156e-02, 8.36814325e-03, 1.48019859e-02, 4.34605763e-03,\n",
       "         7.45757966e-03, 2.83971160e-02, 1.29531959e-02, 1.17228011e-02,\n",
       "         2.39033382e-03, 2.42844555e-02, 2.58406369e-04, 1.09219792e-02,\n",
       "         2.61540151e-03, 2.10081606e-03, 2.21324467e-04, 7.78140231e-03,\n",
       "         2.38938306e-03, 3.98546121e-03, 2.05517722e-03, 4.32302865e-04],\n",
       "        [2.11428223e-02, 2.54296963e-02, 1.50932697e-01, 2.71367198e-01,\n",
       "         1.27671097e-01, 8.67052931e-02, 8.25841739e-02, 2.71559276e-02,\n",
       "         1.42739848e-02, 8.78742925e-03, 2.18075704e-02, 4.94765942e-03,\n",
       "         9.68665129e-03, 3.91166750e-02, 1.44003986e-02, 1.84287503e-02,\n",
       "         3.67531562e-03, 2.75541624e-02, 5.14200752e-04, 9.83164378e-03,\n",
       "         6.20776803e-03, 3.08483004e-03, 8.05806221e-04, 9.23196478e-03,\n",
       "         4.19643859e-03, 7.27939677e-03, 3.00792312e-03, 1.72525438e-04],\n",
       "        [1.80723694e-02, 2.62476096e-02, 1.43907190e-01, 2.26072513e-01,\n",
       "         1.19361295e-01, 7.85931342e-02, 1.11269802e-01, 3.98426534e-02,\n",
       "         1.69561634e-02, 9.89824086e-03, 2.16614388e-02, 6.53011623e-03,\n",
       "         1.09751900e-02, 4.20401307e-02, 1.78626151e-02, 2.04880808e-02,\n",
       "         5.03442817e-03, 3.74272134e-02, 2.87586124e-04, 1.20542422e-02,\n",
       "         6.55853061e-03, 2.70535560e-03, 1.55351995e-04, 8.04778428e-03,\n",
       "         6.78971275e-03, 5.55036927e-03, 5.56283529e-03, 4.80481622e-05],\n",
       "        [1.73137454e-02, 2.06809369e-02, 1.19238196e-01, 2.06117916e-01,\n",
       "         9.39516583e-02, 5.98792904e-02, 1.01927419e-01, 4.42337455e-02,\n",
       "         3.12885438e-02, 1.53501749e-02, 3.82305513e-02, 1.07549031e-02,\n",
       "         1.81514746e-02, 5.63355860e-02, 3.00313195e-02, 2.79583168e-02,\n",
       "         5.00845572e-03, 4.02681911e-02, 3.46969631e-04, 1.34432986e-02,\n",
       "         7.65838576e-03, 3.12570893e-03, 2.01840023e-04, 1.26775766e-02,\n",
       "         8.92198714e-03, 1.15690141e-02, 5.29741912e-03, 3.73759847e-05],\n",
       "        [2.19579501e-02, 2.57801497e-02, 1.31519327e-01, 1.66317388e-01,\n",
       "         7.26024652e-02, 5.83473000e-02, 9.87529183e-02, 4.73834826e-02,\n",
       "         3.05497319e-02, 1.67941072e-02, 4.07790488e-02, 1.21816559e-02,\n",
       "         1.90872437e-02, 6.76584714e-02, 3.86664312e-02, 3.10449141e-02,\n",
       "         4.77488494e-03, 3.63847980e-02, 3.93372977e-04, 1.72552573e-02,\n",
       "         8.23166171e-03, 6.42890181e-03, 2.42280310e-04, 1.16092750e-02,\n",
       "         1.27191048e-02, 2.01943115e-02, 2.22499586e-03, 1.18571216e-04],\n",
       "        [1.99408201e-02, 2.47269780e-02, 1.32677599e-01, 1.58856584e-01,\n",
       "         6.87879800e-02, 4.42412033e-02, 7.40737328e-02, 2.77118473e-02,\n",
       "         2.91425821e-02, 2.11021485e-02, 4.16773559e-02, 1.46192445e-02,\n",
       "         2.63525698e-02, 7.42711706e-02, 4.38078864e-02, 4.44549869e-02,\n",
       "         7.39334717e-03, 4.28150137e-02, 5.11332989e-04, 2.58636509e-02,\n",
       "         1.31293620e-02, 6.50380382e-03, 4.48857912e-04, 1.31577479e-02,\n",
       "         1.47691013e-02, 2.32327247e-02, 5.20887565e-03, 5.21492090e-04],\n",
       "        [1.85082416e-02, 2.18349963e-02, 1.42754118e-01, 1.41014514e-01,\n",
       "         6.60076924e-02, 3.36141658e-02, 7.25998463e-02, 2.59587807e-02,\n",
       "         2.15936246e-02, 1.59539170e-02, 4.13473341e-02, 1.38461919e-02,\n",
       "         3.46144970e-02, 9.14146353e-02, 5.93277395e-02, 4.65592889e-02,\n",
       "         5.73498656e-03, 4.43975183e-02, 6.83962270e-04, 3.10295457e-02,\n",
       "         1.04715762e-02, 1.06554881e-02, 3.27354314e-04, 8.88176463e-03,\n",
       "         1.28653236e-02, 2.10138307e-02, 6.47859242e-03, 5.10474128e-04],\n",
       "        [2.03540610e-02, 1.73165090e-02, 1.27978667e-01, 1.28405533e-01,\n",
       "         6.66002505e-02, 2.60793153e-02, 6.02781930e-02, 2.74131401e-02,\n",
       "         2.06760290e-02, 1.36608292e-02, 4.00924457e-02, 1.97925344e-02,\n",
       "         3.62558089e-02, 1.02396608e-01, 6.15685137e-02, 5.16582430e-02,\n",
       "         6.60439640e-03, 5.56888163e-02, 1.88266051e-03, 3.51057300e-02,\n",
       "         1.53932174e-02, 1.58406728e-02, 1.17484511e-03, 1.42157995e-02,\n",
       "         1.60103186e-02, 1.09229187e-02, 4.07015232e-03, 2.56379150e-03],\n",
       "        [1.88087622e-02, 1.81426609e-02, 1.18733075e-01, 1.11188697e-01,\n",
       "         6.44827153e-02, 2.55712593e-02, 5.00502006e-02, 1.48809571e-02,\n",
       "         2.13652320e-02, 1.39373295e-02, 4.12910183e-02, 1.86471718e-02,\n",
       "         4.07487155e-02, 1.16138716e-01, 5.64948830e-02, 5.85148975e-02,\n",
       "         7.22393825e-03, 6.85884468e-02, 1.77509541e-03, 3.23251704e-02,\n",
       "         1.96198187e-02, 1.19150080e-02, 2.32701457e-03, 1.58879182e-02,\n",
       "         2.81890711e-02, 1.67724190e-02, 5.79215535e-03, 5.87653529e-04],\n",
       "        [1.59670417e-02, 2.15661892e-02, 1.21552584e-01, 1.03102644e-01,\n",
       "         6.57452302e-02, 3.00734094e-02, 3.97244876e-02, 1.17818641e-02,\n",
       "         1.73850625e-02, 1.09222302e-02, 3.75359317e-02, 2.00853324e-02,\n",
       "         3.56915001e-02, 1.08011741e-01, 6.78379461e-02, 6.88104445e-02,\n",
       "         9.29955955e-03, 6.87115726e-02, 1.50914587e-03, 3.91169454e-02,\n",
       "         1.50337810e-02, 1.36843553e-02, 2.23158227e-03, 2.53964850e-02,\n",
       "         2.93886358e-02, 1.10151709e-02, 7.31705352e-03, 1.50207394e-03],\n",
       "        [1.96664787e-02, 1.98789283e-02, 1.15943671e-01, 1.16948474e-01,\n",
       "         5.37124818e-02, 3.11621663e-02, 5.37823425e-02, 1.29986236e-02,\n",
       "         1.69692106e-02, 1.28204974e-02, 3.34034317e-02, 1.53415546e-02,\n",
       "         3.28283117e-02, 1.05314648e-01, 7.31028081e-02, 5.93636912e-02,\n",
       "         7.44916820e-03, 8.26489779e-02, 1.72726423e-03, 2.81415244e-02,\n",
       "         1.46822563e-02, 1.20332155e-02, 7.13413001e-04, 3.69005764e-02,\n",
       "         1.58783908e-02, 1.89047013e-02, 5.61934270e-03, 2.06384891e-03],\n",
       "        [2.37324002e-02, 2.15460146e-02, 1.04449330e-01, 9.22619242e-02,\n",
       "         4.78888696e-02, 3.15814807e-02, 4.56802826e-02, 1.41799424e-02,\n",
       "         1.32282369e-02, 1.18250643e-02, 2.73968493e-02, 1.83496548e-02,\n",
       "         2.57406236e-02, 1.04613718e-01, 8.75051288e-02, 6.42413771e-02,\n",
       "         7.59616134e-03, 7.70073284e-02, 2.38699297e-03, 4.20840128e-02,\n",
       "         1.93771395e-02, 1.24731701e-02, 3.31074736e-03, 3.35425373e-02,\n",
       "         2.67442908e-02, 2.50792403e-02, 1.14864804e-02, 4.69100193e-03],\n",
       "        [1.78355025e-02, 2.31055109e-02, 1.22080000e-01, 9.11718149e-02,\n",
       "         4.39996447e-02, 2.18042876e-02, 4.48651709e-02, 9.34955383e-03,\n",
       "         1.05814325e-02, 1.06761095e-02, 2.41235009e-02, 1.04458401e-02,\n",
       "         3.02002571e-02, 9.82682504e-02, 9.05333620e-02, 6.51055936e-02,\n",
       "         7.37189602e-03, 8.88365189e-02, 1.82340540e-03, 3.77510065e-02,\n",
       "         3.08931978e-02, 1.14287494e-02, 4.35084758e-03, 3.69260023e-02,\n",
       "         2.62058827e-02, 2.55127450e-02, 1.38450559e-02, 9.08860540e-04],\n",
       "        [2.91056835e-02, 2.70926093e-02, 1.23933968e-01, 7.85642378e-02,\n",
       "         3.53047500e-02, 2.61551276e-02, 4.09391844e-02, 7.21982906e-03,\n",
       "         1.11590505e-02, 1.22909687e-02, 3.07389211e-02, 1.23414482e-02,\n",
       "         2.85944281e-02, 7.91644943e-02, 8.07340175e-02, 6.44630441e-02,\n",
       "         7.04833933e-03, 8.85215652e-02, 2.44061451e-03, 3.97687743e-02,\n",
       "         2.81042440e-02, 1.55025949e-02, 5.31930860e-03, 4.01718818e-02,\n",
       "         2.71385898e-02, 3.16692514e-02, 2.37771187e-02, 2.73595590e-03],\n",
       "        [3.97789671e-02, 2.47293347e-02, 1.15678712e-01, 9.24116623e-02,\n",
       "         4.23693751e-02, 2.58507735e-02, 4.39222344e-02, 6.27038631e-03,\n",
       "         1.13851041e-02, 9.81208648e-03, 2.36722101e-02, 1.09761652e-02,\n",
       "         3.22370462e-02, 7.51644909e-02, 7.84223345e-02, 5.96424607e-02,\n",
       "         7.38081638e-03, 9.92574090e-02, 1.52417314e-03, 3.51579527e-02,\n",
       "         3.26575600e-02, 2.54673900e-02, 5.54115521e-03, 3.00952944e-02,\n",
       "         3.01519185e-02, 2.78387871e-02, 1.14040196e-02, 1.20018025e-03],\n",
       "        [4.17134357e-02, 2.27059508e-02, 9.92987327e-02, 7.04410090e-02,\n",
       "         3.31166264e-02, 2.55244263e-02, 4.34680414e-02, 1.30596779e-02,\n",
       "         1.06267206e-02, 9.94675726e-03, 2.38101417e-02, 2.20480142e-02,\n",
       "         2.65031299e-02, 6.90969446e-02, 5.75667010e-02, 7.11099330e-02,\n",
       "         9.01433421e-03, 8.85005327e-02, 3.75578459e-03, 5.97799652e-02,\n",
       "         2.39051517e-02, 2.88248177e-02, 1.66077224e-02, 2.27214438e-02,\n",
       "         4.00683857e-02, 2.67340783e-02, 2.46823053e-02, 1.53692361e-02],\n",
       "        [4.27110610e-02, 4.28439748e-02, 1.32391245e-01, 7.51959925e-02,\n",
       "         4.34279525e-02, 2.76227679e-02, 5.59081881e-02, 6.20521610e-03,\n",
       "         8.65107844e-03, 3.70582332e-03, 1.23938465e-02, 5.29072721e-03,\n",
       "         1.58046499e-02, 4.48718987e-02, 5.88203682e-02, 5.46830721e-02,\n",
       "         5.81790169e-03, 1.00166176e-01, 2.03574956e-03, 6.09830931e-02,\n",
       "         4.53562113e-02, 3.15855188e-02, 3.87098084e-03, 3.49958449e-02,\n",
       "         2.50417089e-02, 4.62801105e-02, 1.15656291e-02, 1.77321399e-03],\n",
       "        [6.39789542e-02, 3.70532287e-02, 1.09436898e-01, 9.34276560e-02,\n",
       "         3.48818328e-02, 3.07504723e-02, 6.01397943e-02, 5.24761402e-03,\n",
       "         1.09037445e-02, 6.39673354e-03, 1.22268226e-02, 6.07127327e-03,\n",
       "         9.72289286e-03, 4.02755716e-02, 5.71693834e-02, 4.61160285e-02,\n",
       "         4.69856929e-03, 9.31972332e-02, 3.26873662e-03, 6.72413395e-02,\n",
       "         4.55908617e-02, 2.34854173e-02, 3.67001016e-03, 3.43774238e-02,\n",
       "         4.78677145e-02, 3.86195356e-02, 8.34254575e-03, 5.84171249e-03],\n",
       "        [6.53181022e-02, 3.64397204e-02, 8.48381095e-02, 5.27786597e-02,\n",
       "         2.49076716e-02, 2.09566172e-02, 2.96630362e-02, 1.15882669e-02,\n",
       "         1.12330742e-02, 8.92877242e-03, 1.39246382e-02, 1.52665929e-02,\n",
       "         1.11655091e-02, 3.98757455e-02, 6.04647922e-02, 5.43980349e-02,\n",
       "         6.63515729e-03, 9.07888407e-02, 5.58172508e-03, 9.22424370e-02,\n",
       "         4.17559120e-02, 3.14168554e-02, 2.46236624e-02, 3.16160104e-02,\n",
       "         5.35399292e-02, 3.25490275e-02, 1.78701625e-02, 2.96329375e-02],\n",
       "        [5.59778530e-02, 4.35797064e-02, 9.07927306e-02, 9.13194846e-02,\n",
       "         1.94529823e-02, 1.63283472e-02, 2.76728806e-02, 5.11051094e-03,\n",
       "         9.28218121e-03, 5.71369655e-03, 1.28815621e-02, 3.26958913e-03,\n",
       "         9.19936258e-03, 2.97452198e-02, 8.28428015e-02, 4.66498857e-02,\n",
       "         3.48492919e-03, 1.09683261e-01, 3.29888065e-03, 4.23544948e-02,\n",
       "         4.41168972e-02, 2.95784723e-02, 4.96878977e-03, 4.55762624e-02,\n",
       "         8.02236617e-02, 6.06597362e-02, 1.50401671e-02, 1.11956535e-02],\n",
       "        [4.94757153e-02, 3.79261798e-02, 7.44270854e-02, 6.26422673e-02,\n",
       "         2.39195182e-02, 1.46711458e-02, 2.75561513e-02, 5.82337726e-03,\n",
       "         8.04357927e-03, 5.30984435e-03, 1.54836170e-02, 7.33415339e-03,\n",
       "         1.65630245e-02, 4.42591884e-02, 7.77546689e-02, 5.62001450e-02,\n",
       "         6.67381597e-03, 9.12374560e-02, 9.93166099e-03, 6.21724202e-02,\n",
       "         3.37021635e-02, 2.65010261e-02, 2.62860042e-02, 3.98138936e-02,\n",
       "         7.04977041e-02, 6.94346675e-02, 1.40706432e-02, 2.22888833e-02],\n",
       "        [5.83597407e-02, 3.85080505e-02, 1.21210406e-01, 9.00911653e-02,\n",
       "         3.06638819e-02, 1.14308235e-02, 2.67932622e-02, 3.57913382e-03,\n",
       "         3.70991516e-03, 2.34025902e-03, 1.06526101e-02, 2.53416512e-03,\n",
       "         2.76821582e-02, 3.79949349e-02, 7.18468377e-02, 4.67212850e-02,\n",
       "         5.29009938e-03, 8.29477053e-02, 1.03933594e-03, 5.22075226e-02,\n",
       "         2.94490381e-02, 1.30362508e-02, 6.92623788e-03, 3.34256436e-02,\n",
       "         5.30869096e-02, 1.15075152e-01, 2.25239519e-02, 8.73523276e-04],\n",
       "        [4.07351962e-02, 3.48961420e-02, 7.13581229e-02, 8.37485612e-02,\n",
       "         2.99168191e-02, 1.80813134e-02, 3.55428044e-02, 4.58572835e-03,\n",
       "         8.83270866e-03, 4.94583656e-03, 2.14264079e-02, 7.19341987e-03,\n",
       "         2.06915180e-02, 4.88467025e-02, 6.36455852e-02, 7.81130161e-02,\n",
       "         1.27564370e-02, 9.89556096e-02, 6.33733296e-03, 6.43156250e-02,\n",
       "         4.65902982e-02, 1.42022242e-02, 1.08870359e-02, 2.47322326e-02,\n",
       "         6.79432880e-02, 4.22738318e-02, 3.22165235e-02, 6.22967880e-03],\n",
       "        [4.00658011e-02, 2.04899739e-02, 4.38868406e-02, 4.59436387e-02,\n",
       "         3.03095189e-02, 2.15972066e-02, 4.07031322e-02, 7.81929419e-03,\n",
       "         8.85717530e-03, 6.84144301e-03, 1.67995710e-02, 3.10675910e-02,\n",
       "         2.00730620e-02, 3.74526237e-02, 3.73090942e-02, 6.79979538e-02,\n",
       "         1.06243712e-02, 6.68315131e-02, 1.35279443e-02, 9.07691312e-02,\n",
       "         3.36711067e-02, 2.45251950e-02, 4.83215735e-02, 2.70608829e-02,\n",
       "         7.97053037e-02, 1.20121635e-02, 5.62428345e-02, 5.94940602e-02]]),\n",
       " (28, 28),\n",
       " array([[300., 300., 300., 300., 300., 300., 300., 300., 300., 300., 300.,\n",
       "         300., 300., 300., 300., 300., 300., 300., 300., 300., 300., 300.,\n",
       "         300., 300., 300., 300., 300., 300.],\n",
       "        [300., 300., 300., 300., 300., 300., 300., 300., 300., 300., 300.,\n",
       "         300., 300., 300., 300., 300., 300., 300., 300., 300., 300., 300.,\n",
       "         300., 300., 300., 300., 300., 300.],\n",
       "        [300., 300., 300., 300., 300., 300., 300., 300., 300., 300., 300.,\n",
       "         300., 300., 300., 300., 300., 300., 300., 300., 300., 300., 300.,\n",
       "         300., 300., 300., 300., 300., 300.],\n",
       "        [300., 300., 300., 300., 300., 300., 300., 300., 300., 300., 300.,\n",
       "         300., 300., 300., 300., 300., 300., 300., 300., 300., 300., 300.,\n",
       "         300., 300., 300., 300., 300., 300.],\n",
       "        [300., 300., 300., 300., 300., 300., 300., 300., 300., 300., 300.,\n",
       "         300., 300., 300., 300., 300., 300., 300., 300., 300., 300., 300.,\n",
       "         300., 300., 300., 300., 300., 300.],\n",
       "        [300., 300., 300., 300., 300., 300., 300., 300., 300., 300., 300.,\n",
       "         300., 300., 300., 300., 300., 300., 300., 300., 300., 300., 300.,\n",
       "         300., 300., 300., 300., 300., 300.],\n",
       "        [300., 300., 300., 300., 300., 300., 300., 300., 300., 300., 300.,\n",
       "         300., 300., 300., 300., 300., 300., 300., 300., 300., 300., 300.,\n",
       "         300., 300., 300., 300., 300., 300.],\n",
       "        [300., 300., 300., 300., 300., 300., 300., 300., 300., 300., 300.,\n",
       "         300., 300., 300., 300., 300., 300., 300., 300., 300., 300., 300.,\n",
       "         300., 300., 300., 300., 300., 300.],\n",
       "        [300., 300., 300., 300., 300., 300., 300., 300., 300., 300., 300.,\n",
       "         300., 300., 300., 300., 300., 300., 300., 300., 300., 300., 300.,\n",
       "         300., 300., 300., 300., 300., 300.],\n",
       "        [300., 300., 300., 300., 300., 300., 300., 300., 300., 300., 300.,\n",
       "         300., 300., 300., 300., 300., 300., 300., 300., 300., 300., 300.,\n",
       "         300., 300., 300., 300., 300., 300.],\n",
       "        [300., 300., 300., 300., 300., 300., 300., 300., 300., 300., 300.,\n",
       "         300., 300., 300., 300., 300., 300., 300., 300., 300., 300., 300.,\n",
       "         300., 300., 300., 300., 300., 300.],\n",
       "        [300., 300., 300., 300., 300., 300., 300., 300., 300., 300., 300.,\n",
       "         300., 300., 300., 300., 300., 300., 300., 300., 300., 300., 300.,\n",
       "         300., 300., 300., 300., 300., 300.],\n",
       "        [271., 271., 271., 271., 271., 271., 271., 271., 271., 271., 271.,\n",
       "         271., 271., 271., 271., 271., 271., 271., 271., 271., 271., 271.,\n",
       "         271., 271., 271., 271., 271., 271.],\n",
       "        [271., 271., 271., 271., 271., 271., 271., 271., 271., 271., 271.,\n",
       "         271., 271., 271., 271., 271., 271., 271., 271., 271., 271., 271.,\n",
       "         271., 271., 271., 271., 271., 271.],\n",
       "        [236., 236., 236., 236., 236., 236., 236., 236., 236., 236., 236.,\n",
       "         236., 236., 236., 236., 236., 236., 236., 236., 236., 236., 236.,\n",
       "         236., 236., 236., 236., 236., 236.],\n",
       "        [236., 236., 236., 236., 236., 236., 236., 236., 236., 236., 236.,\n",
       "         236., 236., 236., 236., 236., 236., 236., 236., 236., 236., 236.,\n",
       "         236., 236., 236., 236., 236., 236.],\n",
       "        [210., 210., 210., 210., 210., 210., 210., 210., 210., 210., 210.,\n",
       "         210., 210., 210., 210., 210., 210., 210., 210., 210., 210., 210.,\n",
       "         210., 210., 210., 210., 210., 210.],\n",
       "        [210., 210., 210., 210., 210., 210., 210., 210., 210., 210., 210.,\n",
       "         210., 210., 210., 210., 210., 210., 210., 210., 210., 210., 210.,\n",
       "         210., 210., 210., 210., 210., 210.],\n",
       "        [182., 182., 182., 182., 182., 182., 182., 182., 182., 182., 182.,\n",
       "         182., 182., 182., 182., 182., 182., 182., 182., 182., 182., 182.,\n",
       "         182., 182., 182., 182., 182., 182.],\n",
       "        [182., 182., 182., 182., 182., 182., 182., 182., 182., 182., 182.,\n",
       "         182., 182., 182., 182., 182., 182., 182., 182., 182., 182., 182.,\n",
       "         182., 182., 182., 182., 182., 182.],\n",
       "        [115., 115., 115., 115., 115., 115., 115., 115., 115., 115., 115.,\n",
       "         115., 115., 115., 115., 115., 115., 115., 115., 115., 115., 115.,\n",
       "         115., 115., 115., 115., 115., 115.],\n",
       "        [115., 115., 115., 115., 115., 115., 115., 115., 115., 115., 115.,\n",
       "         115., 115., 115., 115., 115., 115., 115., 115., 115., 115., 115.,\n",
       "         115., 115., 115., 115., 115., 115.],\n",
       "        [115., 115., 115., 115., 115., 115., 115., 115., 115., 115., 115.,\n",
       "         115., 115., 115., 115., 115., 115., 115., 115., 115., 115., 115.,\n",
       "         115., 115., 115., 115., 115., 115.],\n",
       "        [ 80.,  80.,  80.,  80.,  80.,  80.,  80.,  80.,  80.,  80.,  80.,\n",
       "          80.,  80.,  80.,  80.,  80.,  80.,  80.,  80.,  80.,  80.,  80.,\n",
       "          80.,  80.,  80.,  80.,  80.,  80.],\n",
       "        [ 80.,  80.,  80.,  80.,  80.,  80.,  80.,  80.,  80.,  80.,  80.,\n",
       "          80.,  80.,  80.,  80.,  80.,  80.,  80.,  80.,  80.,  80.,  80.,\n",
       "          80.,  80.,  80.,  80.,  80.,  80.],\n",
       "        [ 53.,  53.,  53.,  53.,  53.,  53.,  53.,  53.,  53.,  53.,  53.,\n",
       "          53.,  53.,  53.,  53.,  53.,  53.,  53.,  53.,  53.,  53.,  53.,\n",
       "          53.,  53.,  53.,  53.,  53.,  53.],\n",
       "        [ 53.,  53.,  53.,  53.,  53.,  53.,  53.,  53.,  53.,  53.,  53.,\n",
       "          53.,  53.,  53.,  53.,  53.,  53.,  53.,  53.,  53.,  53.,  53.,\n",
       "          53.,  53.,  53.,  53.,  53.,  53.],\n",
       "        [ 53.,  53.,  53.,  53.,  53.,  53.,  53.,  53.,  53.,  53.,  53.,\n",
       "          53.,  53.,  53.,  53.,  53.,  53.,  53.,  53.,  53.,  53.,  53.,\n",
       "          53.,  53.,  53.,  53.,  53.,  53.]]),\n",
       " array([1., 1., 1., 1., 1., 1., 1., 1., 1., 1., 1., 1., 1., 1., 1., 1., 1.,\n",
       "        1., 1., 1., 1., 1., 1., 1., 1., 1., 1., 1.]))"
      ]
     },
     "execution_count": 22,
     "metadata": {},
     "output_type": "execute_result"
    }
   ],
   "source": [
    "with torch.no_grad():\n",
    "    counts = np.zeros((N_timepoint, N_timepoint))\n",
    "    outputs = np.zeros((N_timepoint, N_timepoint))\n",
    "    for i_trial in idx_trial[range(N_trial_train, N_trial)]:\n",
    "        X = torch.tensor(fr[:, :, i_trial], dtype=torch.float64)\n",
    "        time_labels = np.arange(N_timepoint)[X.sum(axis=1)>0]\n",
    "        counts[time_labels, :] += 1\n",
    "        X = X[time_labels, :]\n",
    "        output = logistic_model(X).numpy()\n",
    "        outputs[time_labels, :] += output\n",
    "\n",
    "    outputs = outputs/counts\n",
    "\n",
    "outputs.shape, counts, outputs.sum(axis=1)"
   ]
  },
  {
   "cell_type": "code",
   "execution_count": 23,
   "id": "b7757287",
   "metadata": {},
   "outputs": [
    {
     "data": {
      "text/plain": [
       "(3.737598468235371e-05, 0.3108257072618955)"
      ]
     },
     "execution_count": 23,
     "metadata": {},
     "output_type": "execute_result"
    }
   ],
   "source": [
    "outputs.min(), outputs.max()"
   ]
  },
  {
   "cell_type": "code",
   "execution_count": 24,
   "id": "2252651e",
   "metadata": {},
   "outputs": [
    {
     "data": {
      "text/plain": [
       "(53.0, 300.0)"
      ]
     },
     "execution_count": 24,
     "metadata": {},
     "output_type": "execute_result"
    }
   ],
   "source": [
    "counts.min(), counts.max()"
   ]
  },
  {
   "cell_type": "code",
   "execution_count": 25,
   "id": "e3654260",
   "metadata": {},
   "outputs": [
    {
     "data": {
      "text/plain": [
       "(tensor(0),)"
      ]
     },
     "execution_count": 25,
     "metadata": {},
     "output_type": "execute_result"
    }
   ],
   "source": [
    "torch.isnan(torch.tensor(fr[:, :, i_trial].astype(float))).sum(), "
   ]
  },
  {
   "cell_type": "code",
   "execution_count": 26,
   "id": "47780c09",
   "metadata": {},
   "outputs": [
    {
     "data": {
      "text/plain": [
       "<matplotlib.image.AxesImage at 0x15fa17150>"
      ]
     },
     "execution_count": 26,
     "metadata": {},
     "output_type": "execute_result"
    },
    {
     "data": {
      "image/png": "[encoded data removed]",
      "text/plain": [
       "<Figure size 1300x1300 with 1 Axes>"
      ]
     },
     "metadata": {},
     "output_type": "display_data"
    }
   ],
   "source": [
    "fig, ax = plt.subplots(figsize=(13, 13))\n",
    "ax.imshow(counts, cmap='viridis')"
   ]
  },
  {
   "cell_type": "code",
   "execution_count": 27,
   "id": "65f764f1",
   "metadata": {},
   "outputs": [
    {
     "data": {
      "text/plain": [
       "<matplotlib.image.AxesImage at 0x16aa1f090>"
      ]
     },
     "execution_count": 27,
     "metadata": {},
     "output_type": "execute_result"
    },
    {
     "data": {
      "image/png": "[encoded data removed]",
      "text/plain": [
       "<Figure size 1300x1300 with 1 Axes>"
      ]
     },
     "metadata": {},
     "output_type": "display_data"
    }
   ],
   "source": [
    "fig, ax = plt.subplots(figsize=(13, 13))\n",
    "ax.imshow(outputs, cmap='viridis')\n",
    "ax.set_xlabel('predicted time')\n",
    "ax.set_ylabel('true time')"
   ]
  },
  {
   "cell_type": "code",
   "execution_count": 28,
   "id": "0fa287de",
   "metadata": {},
   "outputs": [
    {
     "data": {
      "text/plain": [
       "array([[0.1496231 , 0.09054096, 0.24881372, 0.20220871, 0.04567857],\n",
       "       [0.12093464, 0.0892572 , 0.23920612, 0.22837644, 0.05898959],\n",
       "       [0.08250789, 0.06440838, 0.25139075, 0.27322139, 0.08579353],\n",
       "       [0.05049034, 0.04355862, 0.23797978, 0.30681578, 0.10640598],\n",
       "       [0.02935701, 0.02575586, 0.19359634, 0.31082571, 0.12234451]])"
      ]
     },
     "execution_count": 28,
     "metadata": {},
     "output_type": "execute_result"
    }
   ],
   "source": [
    "outputs[:5, :5]"
   ]
  },
  {
   "attachments": {},
   "cell_type": "markdown",
   "id": "59d44e8f",
   "metadata": {},
   "source": [
    "## scan parameters"
   ]
  },
  {
   "cell_type": "code",
   "execution_count": 30,
   "id": "a8378946",
   "metadata": {},
   "outputs": [
    {
     "name": "stdout",
     "output_type": "stream",
     "text": [
      "learning_rate=0.0005:loss=0.1343111804733142\n",
      "learning_rate=0.0015811388300841897:loss=0.14424055619001297\n",
      "learning_rate=0.005:loss=0.21139040769991674\n"
     ]
    }
   ],
   "source": [
    "\n",
    "N_scan = 5\n",
    "for logit_0_learning_rate_ in learning_rate*np.logspace(-1, 1, N_scan, base=10):\n",
    "    logistic_model, loss = fit_data(fr, learning_rate=learning_rate_, verbose=False)\n",
    "    print(f'learning_rate={learning_rate_}:{loss=:.3f}')"
   ]
  },
  {
   "cell_type": "code",
   "execution_count": null,
   "id": "a2b59fd2",
   "metadata": {},
   "outputs": [],
   "source": [
    "for logit_0_ in logit_0*np.logspace(-1, 1, N_scan, base=10):\n",
    "    logistic_model, loss = fit_data(fr, logit_0=logit_0_, verbose=False)\n",
    "    print(f'logit_0={logit_0_}:{loss=:.3f}')"
   ]
  },
  {
   "cell_type": "code",
   "execution_count": null,
   "id": "ad355197",
   "metadata": {},
   "outputs": [],
   "source": [
    "for logit_wt_ in logit_wt*np.logspace(-1, 1, N_scan, base=10):\n",
    "    logistic_model, loss = fit_data(fr, logit_wt=logit_wt_, verbose=False)\n",
    "    print(f'logit_wt={logit_wt_}:{loss=:.3f}')"
   ]
  },
  {
   "cell_type": "code",
   "execution_count": null,
   "id": "ab94a08c",
   "metadata": {},
   "outputs": [],
   "source": [
    "for beta1_ in 1-np.logspace(-1, -4, N_scan, base=10):\n",
    "    logistic_model, loss = fit_data(fr, beta1=beta1_, verbose=False)\n",
    "    print(f'beta1={beta1_}:{loss=:.3f}')"
   ]
  },
  {
   "cell_type": "code",
   "execution_count": null,
   "id": "ce111043",
   "metadata": {},
   "outputs": [],
   "source": [
    "for beta2_ in 1-np.logspace(-1, -4, N_scan, base=10):\n",
    "    logistic_model, loss = fit_data(fr, beta2=beta2_, verbose=False)\n",
    "    print(f'beta2={beta2_}:{loss=:.3f}')"
   ]
  },
  {
   "cell_type": "code",
   "execution_count": null,
   "id": "46dfd12e",
   "metadata": {},
   "outputs": [],
   "source": []
  }
 ],
 "metadata": {
  "kernelspec": {
   "display_name": "Python 3",
   "language": "python",
   "name": "python3"
  },
  "language_info": {
   "codemirror_mode": {
    "name": "ipython",
    "version": 3
   },
   "file_extension": ".py",
   "mimetype": "text/x-python",
   "name": "python",
   "nbconvert_exporter": "python",
   "pygments_lexer": "ipython3",
   "version": "3.11.4"
  }
 },
 "nbformat": 4,
 "nbformat_minor": 5
}
