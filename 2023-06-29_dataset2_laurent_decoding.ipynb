{
 "cells": [
  {
   "cell_type": "code",
   "execution_count": null,
   "id": "f1fec7f6-4c47-4c18-90ec-11e430dab517",
   "metadata": {},
   "outputs": [],
   "source": [
    "import numpy as np\n",
    "import matplotlib.pyplot as plt"
   ]
  },
  {
   "cell_type": "code",
   "execution_count": null,
   "id": "9008a877",
   "metadata": {},
   "outputs": [],
   "source": [
    "%ls -ltrh /Users/laurentperrinet/quantic/grants/Polychronies/RSG-spikepatterns/Data/"
   ]
  },
  {
   "cell_type": "code",
   "execution_count": null,
   "id": "16476f59",
   "metadata": {},
   "outputs": [],
   "source": [
    "i_session = 0\n",
    "monkey = 'G'\n",
    "from pathlib import Path\n",
    "path = Path.home()/'quantic'/'grants'/'polychronies'/'RSG-spikepatterns'/'Data'/f'{monkey}_Ready-Set_bin1ms_alignedReady_session={i_session}.npz'\n",
    "\n",
    "dictdata = np.load(path)\n",
    "data, id_neuron, id_short, t_s, t_p = dictdata['data'], dictdata['id_neuron'], dictdata['id_short'], dictdata['t_s'], dictdata['t_p']\n",
    "data = data.astype(float)\n",
    "data[data==255] = np.nan\n",
    "N_time, N_neuron, N_trial = data.shape\n",
    "\n",
    "N_time, N_neuron, N_trial"
   ]
  },
  {
   "attachments": {},
   "cell_type": "markdown",
   "id": "62b0b690",
   "metadata": {},
   "source": [
    "### computing the firing rates"
   ]
  },
  {
   "cell_type": "code",
   "execution_count": null,
   "id": "aa340cf9",
   "metadata": {},
   "outputs": [],
   "source": [
    "t_s_max = int(t_s.max())\n",
    "DeltaT = 100 # number of time bins on which we average\n",
    "dt = 20 # temporal distance between points on which we compute the firing rate\n",
    "\n",
    "timepoints = np.arange(DeltaT, t_s_max+1, dt)\n",
    "N_timepoint = len(timepoints)\n",
    "timepoints, N_timepoint"
   ]
  },
  {
   "cell_type": "code",
   "execution_count": null,
   "id": "5ec9a4e7",
   "metadata": {},
   "outputs": [],
   "source": [
    "fr = np.empty((N_timepoint, N_neuron, N_trial)) * np.nan\n",
    "for i_timepoint, timepoint in enumerate(timepoints):\n",
    "    fr[i_timepoint, :, :] = np.nansum(data[(timepoint-DeltaT):timepoint, :, :], axis=0) / (DeltaT/1000)"
   ]
  },
  {
   "cell_type": "code",
   "execution_count": null,
   "id": "a102fd8c",
   "metadata": {},
   "outputs": [],
   "source": [
    "# for i_trial in range(N_trial):\n",
    "#     print(i_trial, torch.isnan(torch.tensor(fr[:, :, i_trial].astype(float))).sum())\n",
    "#     break\n",
    "# torch.isnan(torch.tensor(fr.astype(float))).sum(), torch.isnan(torch.tensor(data.astype(float))).sum()"
   ]
  },
  {
   "cell_type": "code",
   "execution_count": null,
   "id": "cb35aebf",
   "metadata": {},
   "outputs": [],
   "source": [
    "fr.shape"
   ]
  },
  {
   "cell_type": "code",
   "execution_count": null,
   "id": "f825ab78",
   "metadata": {},
   "outputs": [],
   "source": [
    "ratio_train = 80/100\n",
    "N_trial_train = int(N_trial*ratio_train)\n",
    "N_trial_test = N_trial - N_trial_train\n",
    "idx_trial = np.random.permutation(N_trial)\n",
    "idx_trial"
   ]
  },
  {
   "cell_type": "code",
   "execution_count": null,
   "id": "5b4b0c83",
   "metadata": {},
   "outputs": [],
   "source": [
    "fig, ax = plt.subplots(figsize=(13, 13))\n",
    "ax.imshow(fr[:, :, 102], cmap='viridis')"
   ]
  },
  {
   "attachments": {},
   "cell_type": "markdown",
   "id": "e9714952",
   "metadata": {},
   "source": [
    "### logistic regression model with NaNs"
   ]
  },
  {
   "attachments": {},
   "cell_type": "markdown",
   "id": "4c568a01",
   "metadata": {},
   "source": [
    "### inference model"
   ]
  },
  {
   "cell_type": "code",
   "execution_count": null,
   "id": "6abe4441",
   "metadata": {},
   "outputs": [],
   "source": [
    "import torch\n",
    "if torch.backends.mps.is_available():\n",
    "    device = torch.device('mps')\n",
    "elif torch.cuda.is_available():\n",
    "    device = torch.device('cuda')\n",
    "else:\n",
    "    device = 'cpu'\n",
    "\n",
    "device = 'cpu'"
   ]
  },
  {
   "cell_type": "code",
   "execution_count": null,
   "id": "ff55e8fa",
   "metadata": {},
   "outputs": [],
   "source": [
    "import torch.nn.functional as F\n",
    "from torch.utils.data import TensorDataset, DataLoader\n",
    "torch.set_default_tensor_type(\"torch.DoubleTensor\") # -> torch.tensor([1.2, 3]).dtype = torch.float64\n",
    "# torch.set_default_tensor_type(\"torch.FloatTensor\") # -> torch.tensor([1.2, 3]).dtype = torch.float\n",
    "# see https://sebastianraschka.com/faq/docs/pytorch-crossentropy.html#pytorch-loss-input-confusion-cheatsheet\n",
    "criterion = torch.nn.BCELoss(reduction=\"mean\") # loss divided by output size\n",
    "#criterion = torch.nn.NLLLoss(reduction=\"mean\") # loss divided by output size\n",
    "\n",
    "\n",
    "class LogisticRegressionModel(torch.nn.Module):\n",
    "    def __init__(self, N_neuron, N_timepoint, logit0=-2., logit_wt=0.1):\n",
    "        super(LogisticRegressionModel, self).__init__() \n",
    "        self.bias = torch.nn.Parameter(logit0*torch.ones(1, N_timepoint))\n",
    "        self.weight = torch.nn.Parameter(logit_wt * torch.randn((N_neuron, N_timepoint)))\n",
    "        # self.nl = torch.nn.Softmax(N_timepoint)\n",
    "        # self.nl = torch.nn.Sigmoid()\n",
    "\n",
    "    def forward(self, X_input):\n",
    "        # X_input.shape = N_batch, N_neuron\n",
    "        X_input[torch.isnan(X_input)] = 0.\n",
    "        # return self.nl(X_input @ self.weight +  self.bias)\n",
    "        # print(X_input.dtype, self.bias.dtype, self.weight.dtype)\n",
    "        return F.softmax(torch.tensordot(X_input, self.weight, dims=1) +  self.bias, dim=1)"
   ]
  },
  {
   "cell_type": "code",
   "execution_count": null,
   "id": "52fe6e9e",
   "metadata": {},
   "outputs": [],
   "source": [
    "# F.softmax?\n",
    "# torch.tensor?"
   ]
  },
  {
   "cell_type": "code",
   "execution_count": null,
   "id": "8b94dc1f",
   "metadata": {},
   "outputs": [],
   "source": [
    "logistic_model = LogisticRegressionModel(N_neuron, N_timepoint)\n",
    "i_trial = 3\n",
    "X = torch.tensor(fr[:, :, i_trial], dtype=torch.float64)\n",
    "outputs = logistic_model(X)\n",
    "X.shape, outputs.shape"
   ]
  },
  {
   "cell_type": "code",
   "execution_count": null,
   "id": "fb0d8d56",
   "metadata": {},
   "outputs": [],
   "source": [
    "X.sum(axis=1), (X.sum(axis=1)>0).shape"
   ]
  },
  {
   "cell_type": "code",
   "execution_count": null,
   "id": "0403d75d",
   "metadata": {},
   "outputs": [],
   "source": [
    "fig, ax = plt.subplots(figsize=(13, 13))\n",
    "ax.imshow(X.numpy(), cmap='viridis')"
   ]
  },
  {
   "cell_type": "code",
   "execution_count": null,
   "id": "bf3eed67",
   "metadata": {},
   "outputs": [],
   "source": [
    "N_timepoint, np.arange(N_timepoint),  np.arange(N_timepoint)[X.sum(axis=1)>0]\n"
   ]
  },
  {
   "cell_type": "code",
   "execution_count": 28,
   "id": "cdc9e161",
   "metadata": {},
   "outputs": [
    {
     "data": {
      "text/plain": [
       "(array([ 0,  1,  2,  3,  4,  5,  6,  7,  8,  9, 10, 11, 12, 13, 14, 15, 16,\n",
       "        17, 18, 19, 20, 21, 22, 23]),\n",
       " torch.Size([24, 107]),\n",
       " torch.Size([24, 56]))"
      ]
     },
     "execution_count": 28,
     "metadata": {},
     "output_type": "execute_result"
    }
   ],
   "source": [
    "X = torch.tensor(fr[:, :, i_trial], dtype=torch.float64)\n",
    "time_labels = np.arange(N_timepoint)[X.sum(axis=1)>0]\n",
    "X = X[time_labels, :]\n",
    "outputs = logistic_model(X)\n",
    "time_labels, X.shape, outputs.shape"
   ]
  },
  {
   "cell_type": "code",
   "execution_count": 29,
   "id": "98e008d7",
   "metadata": {},
   "outputs": [
    {
     "data": {
      "text/plain": [
       "tensor([[1., 0., 0.,  ..., 0., 0., 0.],\n",
       "        [0., 1., 0.,  ..., 0., 0., 0.],\n",
       "        [0., 0., 1.,  ..., 0., 0., 0.],\n",
       "        ...,\n",
       "        [0., 0., 0.,  ..., 0., 0., 0.],\n",
       "        [0., 0., 0.,  ..., 0., 0., 0.],\n",
       "        [0., 0., 0.,  ..., 0., 0., 0.]])"
      ]
     },
     "execution_count": 29,
     "metadata": {},
     "output_type": "execute_result"
    }
   ],
   "source": [
    "F.one_hot(torch.tensor(time_labels), num_classes=N_timepoint)*1."
   ]
  },
  {
   "cell_type": "code",
   "execution_count": null,
   "id": "928a2cc9",
   "metadata": {},
   "outputs": [],
   "source": [
    "fig, ax = plt.subplots(figsize=(13, 13))\n",
    "ax.imshow(outputs.detach().numpy(), cmap='viridis')"
   ]
  },
  {
   "cell_type": "code",
   "execution_count": 19,
   "id": "98dce17f",
   "metadata": {},
   "outputs": [
    {
     "name": "stdout",
     "output_type": "stream",
     "text": [
      "Iteration: 80 - Loss: 0.12668\n",
      "Iteration: 96 - Loss: 0.12657\n",
      "Iteration: 112 - Loss: 0.12452\n",
      "Iteration: 128 - Loss: 0.13811\n",
      "Iteration: 144 - Loss: 0.12936\n",
      "Iteration: 160 - Loss: 0.13012\n",
      "Iteration: 176 - Loss: 0.13465\n",
      "Iteration: 192 - Loss: 0.13535\n",
      "Iteration: 208 - Loss: 0.13414\n",
      "Iteration: 224 - Loss: 0.12981\n",
      "Iteration: 240 - Loss: 0.13785\n",
      "Iteration: 256 - Loss: 0.13810\n",
      "Iteration: 272 - Loss: 0.13250\n",
      "Iteration: 288 - Loss: 0.12909\n",
      "Iteration: 304 - Loss: 0.13368\n",
      "Iteration: 320 - Loss: 0.13702\n",
      "Iteration: 336 - Loss: 0.13527\n",
      "Iteration: 352 - Loss: 0.13082\n",
      "Iteration: 368 - Loss: 0.13517\n",
      "Iteration: 384 - Loss: 0.13188\n",
      "Iteration: 400 - Loss: 0.12883\n",
      "Iteration: 416 - Loss: 0.13324\n",
      "Iteration: 432 - Loss: 0.13282\n",
      "Iteration: 448 - Loss: 0.13451\n",
      "Iteration: 464 - Loss: 0.13681\n",
      "Iteration: 480 - Loss: 0.13620\n",
      "Iteration: 496 - Loss: 0.13515\n",
      "Iteration: 512 - Loss: 0.13659\n"
     ]
    }
   ],
   "source": [
    "learning_rate = 0.005\n",
    "beta1, beta2 = 0.9, 0.999\n",
    "betas = (beta1, beta2)\n",
    "num_epochs = 2 ** 9 + 1\n",
    "batch_size = 256\n",
    "amsgrad = True  # gives similar results\n",
    "amsgrad = False # gives similar results\n",
    "\n",
    "def fit_data(fr,\n",
    "            learning_rate=learning_rate,\n",
    "            batch_size=batch_size,  # gamma=gamma,\n",
    "            num_epochs=num_epochs,\n",
    "            betas=betas,\n",
    "            verbose=False, **kwargs\n",
    "        ):\n",
    "\n",
    "\n",
    "    logistic_model = LogisticRegressionModel(N_neuron, N_timepoint)\n",
    "    # logistic_model = logistic_model.to(device)\n",
    "    logistic_model.train()\n",
    "    optimizer = torch.optim.Adam(\n",
    "        logistic_model.parameters(), lr=learning_rate, betas=betas, amsgrad=amsgrad\n",
    "    )\n",
    "    for epoch in range(int(num_epochs)):\n",
    "        logistic_model.train()\n",
    "        losses = []\n",
    "        for i_trial in idx_trial[range(N_trial_train)]:\n",
    "            X = torch.tensor(fr[:, :, i_trial], dtype=torch.float64)\n",
    "            time_labels = np.arange(N_timepoint)[X.sum(axis=1)>0]\n",
    "            X = X[time_labels, :]\n",
    "            labels = F.one_hot(torch.tensor(time_labels), num_classes=N_timepoint)*1.\n",
    "            # X, labels = X.to(device), labels.to(device)\n",
    "            outputs = logistic_model(X)\n",
    "            loss = criterion(outputs, labels)\n",
    "\n",
    "            optimizer.zero_grad()\n",
    "            loss.backward()\n",
    "            optimizer.step()\n",
    "            losses.append(loss.item())\n",
    "\n",
    "        if verbose and (epoch % (num_epochs // 32) == 0):\n",
    "            print(f\"Iteration: {epoch} - Loss: {np.mean(losses):.5f}\")\n",
    "\n",
    "    return logistic_model, np.mean(losses)\n",
    "\n",
    "logistic_model, loss = fit_data(fr, verbose=True)"
   ]
  },
  {
   "cell_type": "code",
   "execution_count": 20,
   "id": "63d1dd5c",
   "metadata": {},
   "outputs": [
    {
     "data": {
      "text/plain": [
       "((107, 56), (5992,))"
      ]
     },
     "execution_count": 20,
     "metadata": {},
     "output_type": "execute_result"
    }
   ],
   "source": [
    "logistic_model.weight.detach().numpy().shape, logistic_model.weight.detach().numpy().ravel().shape"
   ]
  },
  {
   "cell_type": "code",
   "execution_count": 21,
   "id": "0bb4ce15",
   "metadata": {},
   "outputs": [
    {
     "data": {
      "text/plain": [
       "(array([[1.83777650e-001, 8.09985936e-002, 3.46885654e-002, ...,\n",
       "         1.01209345e-004, 1.12798960e-003, 0.00000000e+000],\n",
       "        [1.67569823e-001, 8.41999111e-002, 3.18508474e-002, ...,\n",
       "         2.19852760e-003, 1.69397752e-003, 0.00000000e+000],\n",
       "        [1.50796238e-001, 8.42861261e-002, 3.60966246e-002, ...,\n",
       "         3.21204162e-003, 7.23313626e-004, 0.00000000e+000],\n",
       "        ...,\n",
       "        [3.30086091e-002, 1.09592364e-002, 4.33729693e-003, ...,\n",
       "         7.89342468e-003, 1.51794097e-002, 3.26885738e-234],\n",
       "        [1.75080031e-002, 1.04079780e-002, 3.44823750e-003, ...,\n",
       "         7.93304593e-003, 2.52999473e-002, 3.16630147e-087],\n",
       "        [1.61734712e-002, 8.16595922e-003, 1.29567121e-003, ...,\n",
       "         9.67347045e-006, 3.22046001e-002, 0.00000000e+000]]),\n",
       " (56, 56),\n",
       " array([[300., 300., 300., ..., 300., 300., 300.],\n",
       "        [300., 300., 300., ..., 300., 300., 300.],\n",
       "        [300., 300., 300., ..., 300., 300., 300.],\n",
       "        ...,\n",
       "        [ 57.,  57.,  57., ...,  57.,  57.,  57.],\n",
       "        [ 57.,  57.,  57., ...,  57.,  57.,  57.],\n",
       "        [ 31.,  31.,  31., ...,  31.,  31.,  31.]]),\n",
       " array([1., 1., 1., 1., 1., 1., 1., 1., 1., 1., 1., 1., 1., 1., 1., 1., 1.,\n",
       "        1., 1., 1., 1., 1., 1., 1., 1., 1., 1., 1., 1., 1., 1., 1., 1., 1.,\n",
       "        1., 1., 1., 1., 1., 1., 1., 1., 1., 1., 1., 1., 1., 1., 1., 1., 1.,\n",
       "        1., 1., 1., 1., 1.]))"
      ]
     },
     "execution_count": 21,
     "metadata": {},
     "output_type": "execute_result"
    }
   ],
   "source": [
    "with torch.no_grad():\n",
    "    counts = np.zeros((N_timepoint, N_timepoint))\n",
    "    outputs = np.zeros((N_timepoint, N_timepoint))\n",
    "    for i_trial in idx_trial[range(N_trial_train, N_trial)]:\n",
    "        X = torch.tensor(fr[:, :, i_trial], dtype=torch.float64)\n",
    "        time_labels = np.arange(N_timepoint)[X.sum(axis=1)>0]\n",
    "        counts[time_labels, :] += 1\n",
    "        X = X[time_labels, :]\n",
    "        output = logistic_model(X).numpy()\n",
    "        outputs[time_labels, :] += output\n",
    "\n",
    "    outputs = outputs/counts\n",
    "\n",
    "outputs, outputs.shape, counts, outputs.sum(axis=1)"
   ]
  },
  {
   "cell_type": "code",
   "execution_count": 22,
   "id": "b7757287",
   "metadata": {},
   "outputs": [
    {
     "data": {
      "text/plain": [
       "(0.0, 0.18377765031903992)"
      ]
     },
     "execution_count": 22,
     "metadata": {},
     "output_type": "execute_result"
    }
   ],
   "source": [
    "outputs.min(), outputs.max()"
   ]
  },
  {
   "cell_type": "code",
   "execution_count": 23,
   "id": "2252651e",
   "metadata": {},
   "outputs": [
    {
     "data": {
      "text/plain": [
       "(31.0, 300.0)"
      ]
     },
     "execution_count": 23,
     "metadata": {},
     "output_type": "execute_result"
    }
   ],
   "source": [
    "counts.min(), counts.max()"
   ]
  },
  {
   "cell_type": "code",
   "execution_count": 24,
   "id": "e3654260",
   "metadata": {},
   "outputs": [
    {
     "data": {
      "text/plain": [
       "(tensor(0),)"
      ]
     },
     "execution_count": 24,
     "metadata": {},
     "output_type": "execute_result"
    }
   ],
   "source": [
    "torch.isnan(torch.tensor(fr[:, :, i_trial].astype(float))).sum(), "
   ]
  },
  {
   "cell_type": "code",
   "execution_count": 25,
   "id": "47780c09",
   "metadata": {},
   "outputs": [
    {
     "data": {
      "text/plain": [
       "<matplotlib.image.AxesImage at 0x17a978a50>"
      ]
     },
     "execution_count": 25,
     "metadata": {},
     "output_type": "execute_result"
    },
    {
     "data": {
      "image/png": "[encoded data removed]",
      "text/plain": [
       "<Figure size 1300x1300 with 1 Axes>"
      ]
     },
     "metadata": {},
     "output_type": "display_data"
    }
   ],
   "source": [
    "fig, ax = plt.subplots(figsize=(13, 13))\n",
    "ax.imshow(counts, cmap='viridis')"
   ]
  },
  {
   "cell_type": "code",
   "execution_count": 26,
   "id": "65f764f1",
   "metadata": {},
   "outputs": [
    {
     "data": {
      "text/plain": [
       "<matplotlib.image.AxesImage at 0x17aac9510>"
      ]
     },
     "execution_count": 26,
     "metadata": {},
     "output_type": "execute_result"
    },
    {
     "data": {
      "image/png": "[encoded data removed]",
      "text/plain": [
       "<Figure size 1300x1300 with 1 Axes>"
      ]
     },
     "metadata": {},
     "output_type": "display_data"
    }
   ],
   "source": [
    "fig, ax = plt.subplots(figsize=(13, 13))\n",
    "ax.imshow(outputs, cmap='viridis')"
   ]
  },
  {
   "cell_type": "code",
   "execution_count": 27,
   "id": "0fa287de",
   "metadata": {},
   "outputs": [
    {
     "data": {
      "text/plain": [
       "array([[0.18377765, 0.08099859, 0.03468857, 0.0505439 , 0.00819264],\n",
       "       [0.16756982, 0.08419991, 0.03185085, 0.05015101, 0.00677052],\n",
       "       [0.15079624, 0.08428613, 0.03609662, 0.05432921, 0.01012603],\n",
       "       [0.11801813, 0.07478272, 0.02746224, 0.04803581, 0.01232994],\n",
       "       [0.1049067 , 0.06624026, 0.02495339, 0.04386906, 0.01706698]])"
      ]
     },
     "execution_count": 27,
     "metadata": {},
     "output_type": "execute_result"
    }
   ],
   "source": [
    "outputs[:5, :5]"
   ]
  },
  {
   "attachments": {},
   "cell_type": "markdown",
   "id": "59d44e8f",
   "metadata": {},
   "source": [
    "## scan parameters"
   ]
  },
  {
   "cell_type": "code",
   "execution_count": null,
   "id": "a8378946",
   "metadata": {},
   "outputs": [],
   "source": [
    "\n",
    "N_scale = 5\n",
    "for learning_rate_ in learning_rate*np.logspace(-1, 1, N_scale, base=10)\n",
    "    logistic_model, loss = fit_data(fr, learning_rate=learning_rate_, verbose=False)\n",
    "    print(f'learning_rate={learning_rate_}:{loss=}')"
   ]
  }
 ],
 "metadata": {
  "kernelspec": {
   "display_name": "Python 3",
   "language": "python",
   "name": "python3"
  },
  "language_info": {
   "codemirror_mode": {
    "name": "ipython",
    "version": 3
   },
   "file_extension": ".py",
   "mimetype": "text/x-python",
   "name": "python",
   "nbconvert_exporter": "python",
   "pygments_lexer": "ipython3",
   "version": "3.11.4"
  }
 },
 "nbformat": 4,
 "nbformat_minor": 5
}
