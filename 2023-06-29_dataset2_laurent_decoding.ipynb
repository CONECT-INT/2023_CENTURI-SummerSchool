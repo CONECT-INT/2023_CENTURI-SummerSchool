{
 "cells": [
  {
   "cell_type": "code",
   "execution_count": 2,
   "id": "f1fec7f6-4c47-4c18-90ec-11e430dab517",
   "metadata": {},
   "outputs": [],
   "source": [
    "import numpy as np\n",
    "import matplotlib.pyplot as plt\n",
    "from pathlib import Path"
   ]
  },
  {
   "cell_type": "code",
   "execution_count": 3,
   "id": "9008a877",
   "metadata": {},
   "outputs": [
    {
     "name": "stdout",
     "output_type": "stream",
     "text": [
      "total 2292904\n",
      "-rw-r--r--  1 laurentperrinet  staff   211M Jun 14 10:42 H_Ready-Set_bin1ms_alignedReady.mat\n",
      "-rw-r--r--  1 laurentperrinet  staff   407M Jun 14 10:55 G_Ready-Set_bin1ms_alignedReady.mat\n",
      "-rw-r--r--@ 1 laurentperrinet  staff   2.0K Jun 15 12:29 README.md\n",
      "-rw-r--r--@ 1 laurentperrinet  staff   183M Jun 27 15:52 G_Ready-Set_bin1ms_alignedReady_session=0.npz\n",
      "-rw-r--r--@ 1 laurentperrinet  staff   212M Jun 27 15:52 G_Ready-Set_bin1ms_alignedReady_session=1.npz\n",
      "-rw-r--r--@ 1 laurentperrinet  staff    17M Jun 27 15:52 H_Ready-Set_bin1ms_alignedReady_session=0.npz\n",
      "-rw-r--r--@ 1 laurentperrinet  staff    68M Jun 27 15:52 H_Ready-Set_bin1ms_alignedReady_session=1.npz\n"
     ]
    }
   ],
   "source": [
    "%ls -ltrh /Users/laurentperrinet/quantic/grants/Polychronies/RSG-spikepatterns/Data/"
   ]
  },
  {
   "cell_type": "code",
   "execution_count": 4,
   "id": "16476f59",
   "metadata": {},
   "outputs": [
    {
     "data": {
      "text/plain": [
       "(1200, 107, 1498)"
      ]
     },
     "execution_count": 4,
     "metadata": {},
     "output_type": "execute_result"
    }
   ],
   "source": [
    "i_session = 0\n",
    "monkey = 'G'\n",
    "path = Path.home()/'quantic'/'grants'/'polychronies'/'RSG-spikepatterns'/'Data'/f'{monkey}_Ready-Set_bin1ms_alignedReady_session={i_session}.npz'\n",
    "\n",
    "dictdata = np.load(path)\n",
    "data, id_neuron, id_short, t_s, t_p = dictdata['data'], dictdata['id_neuron'], dictdata['id_short'], dictdata['t_s'], dictdata['t_p']\n",
    "data = data.astype(float)\n",
    "data[data==255] = np.nan\n",
    "N_time, N_neurons, N_trial = data.shape\n",
    "\n",
    "N_time, N_neurons, N_trial"
   ]
  },
  {
   "attachments": {},
   "cell_type": "markdown",
   "id": "62b0b690",
   "metadata": {},
   "source": [
    "### computing the firing rates"
   ]
  },
  {
   "cell_type": "code",
   "execution_count": 35,
   "id": "aa340cf9",
   "metadata": {},
   "outputs": [],
   "source": [
    "t_s_max = int(t_s.max())\n",
    "DeltaT = 100 # number of time bins on which we average\n",
    "dt = 20 # temporal distance between points on which we compute the firing rate\n",
    "\n",
    "timepoints = np.arange(DeltaT, t_s_max+1, dt)\n",
    "N_timepoints = len(timepoints)\n",
    "timepoints"
   ]
  },
  {
   "cell_type": "code",
   "execution_count": 51,
   "id": "5ec9a4e7",
   "metadata": {},
   "outputs": [],
   "source": [
    "fr = np.empty((N_timepoints, N_neurons, N_trial)) * np.nan\n",
    "for i_timepoint, timepoint in enumerate(timepoints):\n",
    "    fr[i_timepoint, :, :] = np.nansum(data[(timepoint-DeltaT):timepoint, :, :], axis=0) / (DeltaT/1000)"
   ]
  },
  {
   "attachments": {},
   "cell_type": "markdown",
   "id": "e9714952",
   "metadata": {},
   "source": [
    "### logistic regression model with NaNs"
   ]
  },
  {
   "cell_type": "markdown",
   "id": "4c568a01",
   "metadata": {},
   "source": [
    "### inference model"
   ]
  },
  {
   "cell_type": "code",
   "execution_count": null,
   "id": "ff55e8fa",
   "metadata": {},
   "outputs": [],
   "source": [
    "import torch\n",
    "from torch.utils.data import TensorDataset, DataLoader\n",
    "torch.set_default_tensor_type(\"torch.DoubleTensor\") # -> torch.tensor([1.2, 3]).dtype = torch.float64\n",
    "# see https://sebastianraschka.com/faq/docs/pytorch-crossentropy.html#pytorch-loss-input-confusion-cheatsheet\n",
    "criterion = torch.nn.BCELoss(reduction=\"mean\") # loss divided by output size\n",
    "#criterion = torch.nn.NLLLoss(reduction=\"mean\") # loss divided by output size\n",
    "\n",
    "\n",
    "class LogisticRegressionModel(torch.nn.Module):\n",
    "    def __init__(self, N, n_classes, logit0=torch.log(1.*torch.ones(1)), logit_wt=torch.log(0.1*torch.ones(1))):\n",
    "        super(LogisticRegressionModel, self).__init__() \n",
    "        # self.linear = torch.nn.Linear(N, n_classes, bias=bias)\n",
    "\n",
    "        self.bias = torch.nn.Parameter(logit0 * torch.ones(1, n_classes))\n",
    "        self.weight = torch.nn.Parameter(logit_wt * torch.ones((N_input, n_classes)))\n",
    "        # self.nl = torch.nn.LogSoftmax(n_classes)\n",
    "        self.nl = torch.nn.Sigmoid()\n",
    "\n",
    "    def forward(self, X_input):\n",
    "        # X_input.shape = N_batch, N_input\n",
    "        mask = torch.isnan(X_input)\n",
    "        X_input[mask] = 0.\n",
    "        return self.nl(X_input @ self.weight +  self.bias)\n",
    "        \n",
    "    "
   ]
  },
  {
   "cell_type": "code",
   "execution_count": null,
   "id": "8b94dc1f",
   "metadata": {},
   "outputs": [
    {
     "data": {
      "text/plain": [
       "tensor([[2.8270e-11, 2.8270e-11, 2.8270e-11, 2.8270e-11, 2.8270e-11, 2.8270e-11,\n",
       "         2.8270e-11, 2.8270e-11, 2.8270e-11, 2.8270e-11],\n",
       "        [1.0000e+00, 1.0000e+00, 1.0000e+00, 1.0000e+00, 1.0000e+00, 1.0000e+00,\n",
       "         1.0000e+00, 1.0000e+00, 1.0000e+00, 1.0000e+00],\n",
       "        [7.4381e-01, 7.4381e-01, 7.4381e-01, 7.4381e-01, 7.4381e-01, 7.4381e-01,\n",
       "         7.4381e-01, 7.4381e-01, 7.4381e-01, 7.4381e-01],\n",
       "        [7.4768e-42, 7.4768e-42, 7.4768e-42, 7.4768e-42, 7.4768e-42, 7.4768e-42,\n",
       "         7.4768e-42, 7.4768e-42, 7.4768e-42, 7.4768e-42]],\n",
       "       grad_fn=<SigmoidBackward0>)"
      ]
     },
     "metadata": {},
     "output_type": "display_data"
    }
   ],
   "source": [
    "logistic_model = LogisticRegressionModel(N_input, n_classes)\n",
    "X_input, p, y = get_data(W, seed, N_batch, p_NaN)\n",
    "outputs = logistic_model(torch.tensor(X_input.astype(float)))\n",
    "outputs"
   ]
  },
  {
   "cell_type": "code",
   "execution_count": null,
   "id": "98dce17f",
   "metadata": {},
   "outputs": [
    {
     "name": "stdout",
     "output_type": "stream",
     "text": [
      "Iteration: 0 - Loss: 14.81964\n",
      "Iteration: 16 - Loss: 0.09919\n",
      "Iteration: 32 - Loss: 0.09770\n",
      "Iteration: 48 - Loss: 0.09743\n",
      "Iteration: 64 - Loss: 0.09731\n",
      "Iteration: 80 - Loss: 0.09733\n",
      "Iteration: 96 - Loss: 0.09737\n",
      "Iteration: 112 - Loss: 0.09732\n",
      "Iteration: 128 - Loss: 0.09733\n",
      "Iteration: 144 - Loss: 0.09737\n",
      "Iteration: 160 - Loss: 0.09730\n",
      "Iteration: 176 - Loss: 0.09732\n",
      "Iteration: 192 - Loss: 0.09733\n",
      "Iteration: 208 - Loss: 0.09745\n",
      "Iteration: 224 - Loss: 0.09733\n",
      "Iteration: 240 - Loss: 0.09732\n",
      "Iteration: 256 - Loss: 0.09734\n",
      "Iteration: 272 - Loss: 0.09733\n",
      "Iteration: 288 - Loss: 0.09740\n",
      "Iteration: 304 - Loss: 0.09730\n",
      "Iteration: 320 - Loss: 0.09742\n",
      "Iteration: 336 - Loss: 0.09738\n",
      "Iteration: 352 - Loss: 0.09738\n",
      "Iteration: 368 - Loss: 0.09732\n",
      "Iteration: 384 - Loss: 0.09736\n",
      "Iteration: 400 - Loss: 0.09735\n",
      "Iteration: 416 - Loss: 0.09736\n"
     ]
    }
   ],
   "source": [
    "learning_rate = 0.005\n",
    "beta1, beta2 = 0.9, 0.999\n",
    "betas = (beta1, beta2)\n",
    "num_epochs = 2 ** 9 + 1\n",
    "batch_size = 256\n",
    "n_classes=10\n",
    "amsgrad = True  # gives similar results\n",
    "amsgrad = False # gives similar results\n",
    "\n",
    "def fit_data(X_input, y, \n",
    "            learning_rate=learning_rate,\n",
    "            batch_size=batch_size,  # gamma=gamma,\n",
    "            num_epochs=num_epochs,\n",
    "            betas=betas,\n",
    "            verbose=False, **kwargs\n",
    "        ):\n",
    "\n",
    "    X, labels = torch.Tensor(X_input[:, None]), torch.Tensor(y[:, None])\n",
    "    loader = DataLoader(\n",
    "        TensorDataset(X, labels), batch_size=batch_size, shuffle=True\n",
    "    )\n",
    "\n",
    "    device = torch.device(\"cuda\" if torch.cuda.is_available() else \"cpu\")\n",
    "\n",
    "    N_batch = X_input.shape[0]\n",
    "    N = X_input.shape[1]\n",
    "    n_classes = y.shape[1]\n",
    "    logistic_model = LogisticRegressionModel(N, n_classes)\n",
    "    # logistic_model = logistic_model.to(device)\n",
    "    logistic_model.train()\n",
    "    optimizer = torch.optim.Adam(\n",
    "        logistic_model.parameters(), lr=learning_rate, betas=betas, amsgrad=amsgrad\n",
    "    )\n",
    "    for epoch in range(int(num_epochs)):\n",
    "        logistic_model.train()\n",
    "        losses = []\n",
    "        for X_, labels_ in loader:\n",
    "            # X_, labels_ = X_.to(device), labels_.to(device)\n",
    "            outputs = logistic_model(X_)\n",
    "            loss = criterion(outputs, labels_)\n",
    "\n",
    "            optimizer.zero_grad()\n",
    "            loss.backward()\n",
    "            optimizer.step()\n",
    "            losses.append(loss.item())\n",
    "\n",
    "        if verbose and (epoch % (num_epochs // 32) == 0):\n",
    "            print(f\"Iteration: {epoch} - Loss: {np.mean(losses):.5f}\")\n",
    "\n",
    "    logistic_model.eval()\n",
    "    X, labels = torch.Tensor(X_input[:, None]), torch.Tensor(y[:, None])\n",
    "    outputs = logistic_model(X)\n",
    "    loss = criterion(outputs, labels).item()\n",
    "    return logistic_model, loss\n",
    "\n",
    "\n",
    "X_input, p, y = get_data(W, seed=seed, N_batch=100000, p_NaN=p_NaN)\n",
    "logistic_model, loss = fit_data(X_input, y, verbose=True)\n",
    "print(\"Final loss =\", loss)"
   ]
  },
  {
   "cell_type": "code",
   "execution_count": null,
   "id": "47780c09",
   "metadata": {},
   "outputs": [],
   "source": [
    "fig, ax = plt.subplots(figsize=(13, 13))\n",
    "ax.plot([-3, 3], [-3, 3], 'r--')\n",
    "#ax.plot(logistic_model.linear.bias.detach().numpy(), 'r')\n",
    "# ax.plot(W[-1, :], 'r--')\n",
    "ax.scatter(logistic_model.bias.detach().numpy(), W[-1, :])\n",
    "ax.set_xlabel('input dimensions')\n",
    "ax.set_ylabel('X_input')"
   ]
  },
  {
   "cell_type": "code",
   "execution_count": null,
   "id": "63d1dd5c",
   "metadata": {},
   "outputs": [],
   "source": [
    "logistic_model.linear.weight.detach().numpy().shape, logistic_model.linear.weight.detach().numpy().ravel().shape, W[:-1, :].shape, W[:-1, :].ravel().shape"
   ]
  },
  {
   "cell_type": "code",
   "execution_count": null,
   "id": "0bb4ce15",
   "metadata": {},
   "outputs": [],
   "source": []
  }
 ],
 "metadata": {
  "kernelspec": {
   "display_name": "Python 3",
   "language": "python",
   "name": "python3"
  },
  "language_info": {
   "codemirror_mode": {
    "name": "ipython",
    "version": 3
   },
   "file_extension": ".py",
   "mimetype": "text/x-python",
   "name": "python",
   "nbconvert_exporter": "python",
   "pygments_lexer": "ipython3",
   "version": "3.11.4"
  }
 },
 "nbformat": 4,
 "nbformat_minor": 5
}
