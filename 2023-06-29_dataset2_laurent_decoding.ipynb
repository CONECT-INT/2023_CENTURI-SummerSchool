{
 "cells": [
  {
   "cell_type": "code",
   "execution_count": 1,
   "id": "f1fec7f6-4c47-4c18-90ec-11e430dab517",
   "metadata": {},
   "outputs": [],
   "source": [
    "import numpy as np\n",
    "import matplotlib.pyplot as plt"
   ]
  },
  {
   "cell_type": "code",
   "execution_count": 2,
   "id": "9008a877",
   "metadata": {},
   "outputs": [
    {
     "name": "stdout",
     "output_type": "stream",
     "text": [
      "total 2267760\n",
      "-rw-r--r--  1 laurentperrinet  staff   211M Jun 14 10:42 H_Ready-Set_bin1ms_alignedReady.mat\n",
      "-rw-r--r--  1 laurentperrinet  staff   407M Jun 14 10:55 G_Ready-Set_bin1ms_alignedReady.mat\n",
      "-rw-r--r--@ 1 laurentperrinet  staff   2.0K Jun 15 12:29 README.md\n",
      "-rw-r--r--@ 1 laurentperrinet  staff   183M Jun 27 15:52 G_Ready-Set_bin1ms_alignedReady_session=0.npz\n",
      "-rw-r--r--@ 1 laurentperrinet  staff   212M Jun 27 15:52 G_Ready-Set_bin1ms_alignedReady_session=1.npz\n",
      "-rw-r--r--@ 1 laurentperrinet  staff    17M Jun 27 15:52 H_Ready-Set_bin1ms_alignedReady_session=0.npz\n",
      "-rw-r--r--@ 1 laurentperrinet  staff    68M Jun 27 15:52 H_Ready-Set_bin1ms_alignedReady_session=1.npz\n"
     ]
    }
   ],
   "source": [
    "%ls -ltrh /Users/laurentperrinet/quantic/grants/Polychronies/RSG-spikepatterns/Data/"
   ]
  },
  {
   "cell_type": "code",
   "execution_count": 3,
   "id": "16476f59",
   "metadata": {},
   "outputs": [
    {
     "data": {
      "text/plain": [
       "(1200, 107, 1498)"
      ]
     },
     "execution_count": 3,
     "metadata": {},
     "output_type": "execute_result"
    }
   ],
   "source": [
    "i_session = 0\n",
    "monkey = 'G'\n",
    "from pathlib import Path\n",
    "path = Path.home()/'quantic'/'grants'/'polychronies'/'RSG-spikepatterns'/'Data'/f'{monkey}_Ready-Set_bin1ms_alignedReady_session={i_session}.npz'\n",
    "\n",
    "dictdata = np.load(path)\n",
    "data, id_neuron, id_short, t_s, t_p = dictdata['data'], dictdata['id_neuron'], dictdata['id_short'], dictdata['t_s'], dictdata['t_p']\n",
    "data = data.astype(float)\n",
    "data[data==255] = np.nan\n",
    "N_time, N_neuron, N_trial = data.shape\n",
    "\n",
    "N_time, N_neuron, N_trial"
   ]
  },
  {
   "attachments": {},
   "cell_type": "markdown",
   "id": "62b0b690",
   "metadata": {},
   "source": [
    "### computing the firing rates"
   ]
  },
  {
   "cell_type": "code",
   "execution_count": 4,
   "id": "aa340cf9",
   "metadata": {},
   "outputs": [
    {
     "data": {
      "text/plain": [
       "(array([ 100,  140,  180,  220,  260,  300,  340,  380,  420,  460,  500,\n",
       "         540,  580,  620,  660,  700,  740,  780,  820,  860,  900,  940,\n",
       "         980, 1020, 1060, 1100, 1140, 1180]),\n",
       " 28)"
      ]
     },
     "execution_count": 4,
     "metadata": {},
     "output_type": "execute_result"
    }
   ],
   "source": [
    "t_s_max = int(t_s.max())\n",
    "DeltaT = 100 # number of time bins on which we average\n",
    "dt = 40 # temporal distance between points on which we compute the firing rate\n",
    "\n",
    "timepoints = np.arange(DeltaT, t_s_max+1, dt)\n",
    "N_timepoint = len(timepoints)\n",
    "timepoints, N_timepoint"
   ]
  },
  {
   "cell_type": "code",
   "execution_count": 5,
   "id": "5ec9a4e7",
   "metadata": {},
   "outputs": [],
   "source": [
    "fr = np.empty((N_timepoint, N_neuron, N_trial)) * np.nan\n",
    "for i_timepoint, timepoint in enumerate(timepoints):\n",
    "    fr[i_timepoint, :, :] = np.nansum(data[(timepoint-DeltaT):timepoint, :, :], axis=0) / (DeltaT/1000)"
   ]
  },
  {
   "cell_type": "code",
   "execution_count": 6,
   "id": "a102fd8c",
   "metadata": {},
   "outputs": [],
   "source": [
    "# for i_trial in range(N_trial):\n",
    "#     print(i_trial, torch.isnan(torch.tensor(fr[:, :, i_trial].astype(float))).sum())\n",
    "#     break\n",
    "# torch.isnan(torch.tensor(fr.astype(float))).sum(), torch.isnan(torch.tensor(data.astype(float))).sum()"
   ]
  },
  {
   "cell_type": "code",
   "execution_count": 7,
   "id": "cb35aebf",
   "metadata": {},
   "outputs": [
    {
     "data": {
      "text/plain": [
       "(28, 107, 1498)"
      ]
     },
     "execution_count": 7,
     "metadata": {},
     "output_type": "execute_result"
    }
   ],
   "source": [
    "fr.shape"
   ]
  },
  {
   "cell_type": "code",
   "execution_count": 8,
   "id": "f825ab78",
   "metadata": {},
   "outputs": [
    {
     "data": {
      "text/plain": [
       "array([1003, 1219,  953, ...,  820,  410, 1263])"
      ]
     },
     "execution_count": 8,
     "metadata": {},
     "output_type": "execute_result"
    }
   ],
   "source": [
    "ratio_train = 80/100\n",
    "N_trial_train = int(N_trial*ratio_train)\n",
    "N_trial_test = N_trial - N_trial_train\n",
    "idx_trial = np.random.permutation(N_trial)\n",
    "idx_trial"
   ]
  },
  {
   "cell_type": "code",
   "execution_count": 9,
   "id": "5b4b0c83",
   "metadata": {},
   "outputs": [
    {
     "data": {
      "text/plain": [
       "<matplotlib.image.AxesImage at 0x10b70f510>"
      ]
     },
     "execution_count": 9,
     "metadata": {},
     "output_type": "execute_result"
    },
    {
     "data": {
      "image/png": "[encoded data removed]",
      "text/plain": [
       "<Figure size 1300x1300 with 1 Axes>"
      ]
     },
     "metadata": {},
     "output_type": "display_data"
    }
   ],
   "source": [
    "fig, ax = plt.subplots(figsize=(13, 13))\n",
    "ax.imshow(fr[:, :, 102], cmap='viridis')"
   ]
  },
  {
   "attachments": {},
   "cell_type": "markdown",
   "id": "e9714952",
   "metadata": {},
   "source": [
    "### logistic regression model with NaNs"
   ]
  },
  {
   "attachments": {},
   "cell_type": "markdown",
   "id": "4c568a01",
   "metadata": {},
   "source": [
    "### inference model"
   ]
  },
  {
   "cell_type": "code",
   "execution_count": 10,
   "id": "6abe4441",
   "metadata": {},
   "outputs": [],
   "source": [
    "import torch\n",
    "if torch.backends.mps.is_available():\n",
    "    device = torch.device('mps')\n",
    "elif torch.cuda.is_available():\n",
    "    device = torch.device('cuda')\n",
    "else:\n",
    "    device = 'cpu'\n",
    "\n",
    "device = 'cpu'"
   ]
  },
  {
   "cell_type": "code",
   "execution_count": 11,
   "id": "ff55e8fa",
   "metadata": {},
   "outputs": [
    {
     "name": "stderr",
     "output_type": "stream",
     "text": [
      "/opt/homebrew/lib/python3.11/site-packages/torch/__init__.py:615: UserWarning: torch.set_default_tensor_type() is deprecated as of PyTorch 2.1, please use torch.set_default_dtype() and torch.set_default_device() as alternatives. (Triggered internally at /Users/runner/work/pytorch/pytorch/pytorch/torch/csrc/tensor/python_tensor.cpp:453.)\n",
      "  _C._set_default_tensor_type(t)\n"
     ]
    }
   ],
   "source": [
    "import torch.nn.functional as F\n",
    "from torch.utils.data import TensorDataset, DataLoader\n",
    "torch.set_default_tensor_type(\"torch.DoubleTensor\") # -> torch.tensor([1.2, 3]).dtype = torch.float64\n",
    "# torch.set_default_tensor_type(\"torch.FloatTensor\") # -> torch.tensor([1.2, 3]).dtype = torch.float\n",
    "# see https://sebastianraschka.com/faq/docs/pytorch-crossentropy.html#pytorch-loss-input-confusion-cheatsheet\n",
    "criterion = torch.nn.BCELoss(reduction=\"mean\") # loss divided by output size\n",
    "#criterion = torch.nn.NLLLoss(reduction=\"mean\") # loss divided by output size\n",
    "\n",
    "\n",
    "class LogisticRegressionModel(torch.nn.Module):\n",
    "    def __init__(self, N_neuron, N_timepoint, logit_0=-2., logit_wt=0.1):\n",
    "        super(LogisticRegressionModel, self).__init__() \n",
    "        self.bias = torch.nn.Parameter(logit_0*torch.ones(1, N_timepoint))\n",
    "        self.weight = torch.nn.Parameter(logit_wt * torch.randn((N_neuron, N_timepoint)))\n",
    "        # self.nl = torch.nn.Softmax(N_timepoint)\n",
    "        # self.nl = torch.nn.Sigmoid()\n",
    "\n",
    "    def forward(self, X_input):\n",
    "        # X_input.shape = N_batch, N_neuron\n",
    "        X_input[torch.isnan(X_input)] = 0.\n",
    "        # return self.nl(X_input @ self.weight +  self.bias)\n",
    "        # print(X_input.dtype, self.bias.dtype, self.weight.dtype)\n",
    "        return F.softmax(torch.tensordot(X_input, self.weight, dims=1) +  self.bias, dim=1)"
   ]
  },
  {
   "cell_type": "code",
   "execution_count": 12,
   "id": "52fe6e9e",
   "metadata": {},
   "outputs": [],
   "source": [
    "# F.softmax?\n",
    "# torch.tensor?"
   ]
  },
  {
   "cell_type": "code",
   "execution_count": 13,
   "id": "8b94dc1f",
   "metadata": {},
   "outputs": [
    {
     "data": {
      "text/plain": [
       "(torch.Size([28, 107]), torch.Size([28, 28]))"
      ]
     },
     "execution_count": 13,
     "metadata": {},
     "output_type": "execute_result"
    }
   ],
   "source": [
    "logistic_model = LogisticRegressionModel(N_neuron, N_timepoint)\n",
    "i_trial = 3\n",
    "X = torch.tensor(fr[:, :, i_trial], dtype=torch.float64)\n",
    "outputs = logistic_model(X)\n",
    "X.shape, outputs.shape"
   ]
  },
  {
   "cell_type": "code",
   "execution_count": 14,
   "id": "fb0d8d56",
   "metadata": {},
   "outputs": [
    {
     "data": {
      "text/plain": [
       "(tensor([480., 490., 440., 370., 390., 520., 610., 490., 410., 440., 420., 460.,\n",
       "         480., 530., 500., 430., 480., 470., 410., 480., 540., 350., 100.,   0.,\n",
       "           0.,   0.,   0.,   0.]),\n",
       " torch.Size([28]))"
      ]
     },
     "execution_count": 14,
     "metadata": {},
     "output_type": "execute_result"
    }
   ],
   "source": [
    "X.sum(axis=1), (X.sum(axis=1)>0).shape"
   ]
  },
  {
   "cell_type": "code",
   "execution_count": 15,
   "id": "0403d75d",
   "metadata": {},
   "outputs": [
    {
     "data": {
      "text/plain": [
       "<matplotlib.image.AxesImage at 0x10b556190>"
      ]
     },
     "execution_count": 15,
     "metadata": {},
     "output_type": "execute_result"
    },
    {
     "data": {
      "image/png": "[encoded data removed]",
      "text/plain": [
       "<Figure size 1300x1300 with 1 Axes>"
      ]
     },
     "metadata": {},
     "output_type": "display_data"
    }
   ],
   "source": [
    "fig, ax = plt.subplots(figsize=(13, 13))\n",
    "ax.imshow(X.numpy(), cmap='viridis')"
   ]
  },
  {
   "cell_type": "code",
   "execution_count": 16,
   "id": "bf3eed67",
   "metadata": {},
   "outputs": [
    {
     "data": {
      "text/plain": [
       "(28,\n",
       " array([ 0,  1,  2,  3,  4,  5,  6,  7,  8,  9, 10, 11, 12, 13, 14, 15, 16,\n",
       "        17, 18, 19, 20, 21, 22, 23, 24, 25, 26, 27]),\n",
       " array([ 0,  1,  2,  3,  4,  5,  6,  7,  8,  9, 10, 11, 12, 13, 14, 15, 16,\n",
       "        17, 18, 19, 20, 21, 22]))"
      ]
     },
     "execution_count": 16,
     "metadata": {},
     "output_type": "execute_result"
    }
   ],
   "source": [
    "N_timepoint, np.arange(N_timepoint),  np.arange(N_timepoint)[X.sum(axis=1)>0]\n"
   ]
  },
  {
   "cell_type": "code",
   "execution_count": 17,
   "id": "cdc9e161",
   "metadata": {},
   "outputs": [
    {
     "data": {
      "text/plain": [
       "(array([ 0,  1,  2,  3,  4,  5,  6,  7,  8,  9, 10, 11, 12, 13, 14, 15, 16,\n",
       "        17, 18, 19, 20, 21, 22]),\n",
       " torch.Size([23, 107]),\n",
       " torch.Size([23, 28]))"
      ]
     },
     "execution_count": 17,
     "metadata": {},
     "output_type": "execute_result"
    }
   ],
   "source": [
    "X = torch.tensor(fr[:, :, i_trial], dtype=torch.float64)\n",
    "time_labels = np.arange(N_timepoint)[X.sum(axis=1)>0]\n",
    "X = X[time_labels, :]\n",
    "outputs = logistic_model(X)\n",
    "time_labels, X.shape, outputs.shape"
   ]
  },
  {
   "cell_type": "code",
   "execution_count": 18,
   "id": "98e008d7",
   "metadata": {},
   "outputs": [
    {
     "data": {
      "text/plain": [
       "tensor([[1., 0., 0., 0., 0., 0., 0., 0., 0., 0., 0., 0., 0., 0., 0., 0., 0., 0.,\n",
       "         0., 0., 0., 0., 0., 0., 0., 0., 0., 0.],\n",
       "        [0., 1., 0., 0., 0., 0., 0., 0., 0., 0., 0., 0., 0., 0., 0., 0., 0., 0.,\n",
       "         0., 0., 0., 0., 0., 0., 0., 0., 0., 0.],\n",
       "        [0., 0., 1., 0., 0., 0., 0., 0., 0., 0., 0., 0., 0., 0., 0., 0., 0., 0.,\n",
       "         0., 0., 0., 0., 0., 0., 0., 0., 0., 0.],\n",
       "        [0., 0., 0., 1., 0., 0., 0., 0., 0., 0., 0., 0., 0., 0., 0., 0., 0., 0.,\n",
       "         0., 0., 0., 0., 0., 0., 0., 0., 0., 0.],\n",
       "        [0., 0., 0., 0., 1., 0., 0., 0., 0., 0., 0., 0., 0., 0., 0., 0., 0., 0.,\n",
       "         0., 0., 0., 0., 0., 0., 0., 0., 0., 0.],\n",
       "        [0., 0., 0., 0., 0., 1., 0., 0., 0., 0., 0., 0., 0., 0., 0., 0., 0., 0.,\n",
       "         0., 0., 0., 0., 0., 0., 0., 0., 0., 0.],\n",
       "        [0., 0., 0., 0., 0., 0., 1., 0., 0., 0., 0., 0., 0., 0., 0., 0., 0., 0.,\n",
       "         0., 0., 0., 0., 0., 0., 0., 0., 0., 0.],\n",
       "        [0., 0., 0., 0., 0., 0., 0., 1., 0., 0., 0., 0., 0., 0., 0., 0., 0., 0.,\n",
       "         0., 0., 0., 0., 0., 0., 0., 0., 0., 0.],\n",
       "        [0., 0., 0., 0., 0., 0., 0., 0., 1., 0., 0., 0., 0., 0., 0., 0., 0., 0.,\n",
       "         0., 0., 0., 0., 0., 0., 0., 0., 0., 0.],\n",
       "        [0., 0., 0., 0., 0., 0., 0., 0., 0., 1., 0., 0., 0., 0., 0., 0., 0., 0.,\n",
       "         0., 0., 0., 0., 0., 0., 0., 0., 0., 0.],\n",
       "        [0., 0., 0., 0., 0., 0., 0., 0., 0., 0., 1., 0., 0., 0., 0., 0., 0., 0.,\n",
       "         0., 0., 0., 0., 0., 0., 0., 0., 0., 0.],\n",
       "        [0., 0., 0., 0., 0., 0., 0., 0., 0., 0., 0., 1., 0., 0., 0., 0., 0., 0.,\n",
       "         0., 0., 0., 0., 0., 0., 0., 0., 0., 0.],\n",
       "        [0., 0., 0., 0., 0., 0., 0., 0., 0., 0., 0., 0., 1., 0., 0., 0., 0., 0.,\n",
       "         0., 0., 0., 0., 0., 0., 0., 0., 0., 0.],\n",
       "        [0., 0., 0., 0., 0., 0., 0., 0., 0., 0., 0., 0., 0., 1., 0., 0., 0., 0.,\n",
       "         0., 0., 0., 0., 0., 0., 0., 0., 0., 0.],\n",
       "        [0., 0., 0., 0., 0., 0., 0., 0., 0., 0., 0., 0., 0., 0., 1., 0., 0., 0.,\n",
       "         0., 0., 0., 0., 0., 0., 0., 0., 0., 0.],\n",
       "        [0., 0., 0., 0., 0., 0., 0., 0., 0., 0., 0., 0., 0., 0., 0., 1., 0., 0.,\n",
       "         0., 0., 0., 0., 0., 0., 0., 0., 0., 0.],\n",
       "        [0., 0., 0., 0., 0., 0., 0., 0., 0., 0., 0., 0., 0., 0., 0., 0., 1., 0.,\n",
       "         0., 0., 0., 0., 0., 0., 0., 0., 0., 0.],\n",
       "        [0., 0., 0., 0., 0., 0., 0., 0., 0., 0., 0., 0., 0., 0., 0., 0., 0., 1.,\n",
       "         0., 0., 0., 0., 0., 0., 0., 0., 0., 0.],\n",
       "        [0., 0., 0., 0., 0., 0., 0., 0., 0., 0., 0., 0., 0., 0., 0., 0., 0., 0.,\n",
       "         1., 0., 0., 0., 0., 0., 0., 0., 0., 0.],\n",
       "        [0., 0., 0., 0., 0., 0., 0., 0., 0., 0., 0., 0., 0., 0., 0., 0., 0., 0.,\n",
       "         0., 1., 0., 0., 0., 0., 0., 0., 0., 0.],\n",
       "        [0., 0., 0., 0., 0., 0., 0., 0., 0., 0., 0., 0., 0., 0., 0., 0., 0., 0.,\n",
       "         0., 0., 1., 0., 0., 0., 0., 0., 0., 0.],\n",
       "        [0., 0., 0., 0., 0., 0., 0., 0., 0., 0., 0., 0., 0., 0., 0., 0., 0., 0.,\n",
       "         0., 0., 0., 1., 0., 0., 0., 0., 0., 0.],\n",
       "        [0., 0., 0., 0., 0., 0., 0., 0., 0., 0., 0., 0., 0., 0., 0., 0., 0., 0.,\n",
       "         0., 0., 0., 0., 1., 0., 0., 0., 0., 0.]])"
      ]
     },
     "execution_count": 18,
     "metadata": {},
     "output_type": "execute_result"
    }
   ],
   "source": [
    "F.one_hot(torch.tensor(time_labels), num_classes=N_timepoint)*1."
   ]
  },
  {
   "cell_type": "code",
   "execution_count": 19,
   "id": "928a2cc9",
   "metadata": {},
   "outputs": [
    {
     "data": {
      "text/plain": [
       "<matplotlib.image.AxesImage at 0x10b76ec10>"
      ]
     },
     "execution_count": 19,
     "metadata": {},
     "output_type": "execute_result"
    },
    {
     "data": {
      "image/png": "[encoded data removed]",
      "text/plain": [
       "<Figure size 1300x1300 with 1 Axes>"
      ]
     },
     "metadata": {},
     "output_type": "display_data"
    }
   ],
   "source": [
    "fig, ax = plt.subplots(figsize=(13, 13))\n",
    "ax.imshow(outputs.detach().numpy(), cmap='viridis')"
   ]
  },
  {
   "cell_type": "code",
   "execution_count": 34,
   "id": "98dce17f",
   "metadata": {},
   "outputs": [],
   "source": [
    "learning_rate = 0.0001\n",
    "logit_0 = -2.\n",
    "logit_wt = 0.1\n",
    "beta1, beta2 = 0.9, 0.999\n",
    "num_epochs = 2 ** 10 + 1\n",
    "amsgrad = True  # gives similar results\n",
    "amsgrad = False # gives similar results\n",
    "\n",
    "def fit_data(fr, logit_0=logit_0, logit_wt=0.1,\n",
    "                learning_rate=learning_rate,\n",
    "                num_epochs=num_epochs,\n",
    "                beta1=beta1, beta2=beta2, amsgrad=amsgrad,\n",
    "                verbose=False, \n",
    "        ):\n",
    "\n",
    "    logistic_model = LogisticRegressionModel(N_neuron, N_timepoint, logit_0=logit_0, logit_wt=logit_wt)\n",
    "    # logistic_model = logistic_model.to(device)\n",
    "    logistic_model.train()\n",
    "    optimizer = torch.optim.Adam(\n",
    "        logistic_model.parameters(), lr=learning_rate, betas=(beta1, beta2), amsgrad=amsgrad\n",
    "    )\n",
    "    for epoch in range(int(num_epochs)):\n",
    "        logistic_model.train()\n",
    "        losses = []\n",
    "        for i_trial in idx_trial[range(N_trial_train)]:\n",
    "            X = torch.tensor(fr[:, :, i_trial], dtype=torch.float64)\n",
    "            time_labels = np.arange(N_timepoint)[X.sum(axis=1)>0]\n",
    "            X = X[time_labels, :]\n",
    "            labels = F.one_hot(torch.tensor(time_labels), num_classes=N_timepoint)*1.\n",
    "            # X, labels = X.to(device), labels.to(device)\n",
    "            outputs = logistic_model(X)\n",
    "            loss = criterion(outputs, labels)\n",
    "\n",
    "            optimizer.zero_grad()\n",
    "            loss.backward()\n",
    "            optimizer.step()\n",
    "            losses.append(loss.item())\n",
    "\n",
    "        if verbose and (epoch % (num_epochs // 32) == 0):\n",
    "            print(f\"Iteration: {epoch} - Loss: {np.mean(losses):.5f}\")\n",
    "\n",
    "    return logistic_model, np.mean(losses)\n"
   ]
  },
  {
   "cell_type": "code",
   "execution_count": null,
   "id": "36eb6b45",
   "metadata": {},
   "outputs": [],
   "source": [
    "\n",
    "logistic_model, loss = fit_data(fr, verbose=True)"
   ]
  },
  {
   "cell_type": "code",
   "execution_count": 21,
   "id": "63d1dd5c",
   "metadata": {},
   "outputs": [
    {
     "data": {
      "text/plain": [
       "((107, 28), (2996,))"
      ]
     },
     "execution_count": 21,
     "metadata": {},
     "output_type": "execute_result"
    }
   ],
   "source": [
    "logistic_model.weight.detach().numpy().shape, logistic_model.weight.detach().numpy().ravel().shape"
   ]
  },
  {
   "cell_type": "code",
   "execution_count": 22,
   "id": "0bb4ce15",
   "metadata": {},
   "outputs": [
    {
     "data": {
      "text/plain": [
       "((28, 28),\n",
       " array([[300., 300., 300., 300., 300., 300., 300., 300., 300., 300., 300.,\n",
       "         300., 300., 300., 300., 300., 300., 300., 300., 300., 300., 300.,\n",
       "         300., 300., 300., 300., 300., 300.],\n",
       "        [300., 300., 300., 300., 300., 300., 300., 300., 300., 300., 300.,\n",
       "         300., 300., 300., 300., 300., 300., 300., 300., 300., 300., 300.,\n",
       "         300., 300., 300., 300., 300., 300.],\n",
       "        [300., 300., 300., 300., 300., 300., 300., 300., 300., 300., 300.,\n",
       "         300., 300., 300., 300., 300., 300., 300., 300., 300., 300., 300.,\n",
       "         300., 300., 300., 300., 300., 300.],\n",
       "        [300., 300., 300., 300., 300., 300., 300., 300., 300., 300., 300.,\n",
       "         300., 300., 300., 300., 300., 300., 300., 300., 300., 300., 300.,\n",
       "         300., 300., 300., 300., 300., 300.],\n",
       "        [300., 300., 300., 300., 300., 300., 300., 300., 300., 300., 300.,\n",
       "         300., 300., 300., 300., 300., 300., 300., 300., 300., 300., 300.,\n",
       "         300., 300., 300., 300., 300., 300.],\n",
       "        [300., 300., 300., 300., 300., 300., 300., 300., 300., 300., 300.,\n",
       "         300., 300., 300., 300., 300., 300., 300., 300., 300., 300., 300.,\n",
       "         300., 300., 300., 300., 300., 300.],\n",
       "        [300., 300., 300., 300., 300., 300., 300., 300., 300., 300., 300.,\n",
       "         300., 300., 300., 300., 300., 300., 300., 300., 300., 300., 300.,\n",
       "         300., 300., 300., 300., 300., 300.],\n",
       "        [300., 300., 300., 300., 300., 300., 300., 300., 300., 300., 300.,\n",
       "         300., 300., 300., 300., 300., 300., 300., 300., 300., 300., 300.,\n",
       "         300., 300., 300., 300., 300., 300.],\n",
       "        [300., 300., 300., 300., 300., 300., 300., 300., 300., 300., 300.,\n",
       "         300., 300., 300., 300., 300., 300., 300., 300., 300., 300., 300.,\n",
       "         300., 300., 300., 300., 300., 300.],\n",
       "        [300., 300., 300., 300., 300., 300., 300., 300., 300., 300., 300.,\n",
       "         300., 300., 300., 300., 300., 300., 300., 300., 300., 300., 300.,\n",
       "         300., 300., 300., 300., 300., 300.],\n",
       "        [300., 300., 300., 300., 300., 300., 300., 300., 300., 300., 300.,\n",
       "         300., 300., 300., 300., 300., 300., 300., 300., 300., 300., 300.,\n",
       "         300., 300., 300., 300., 300., 300.],\n",
       "        [300., 300., 300., 300., 300., 300., 300., 300., 300., 300., 300.,\n",
       "         300., 300., 300., 300., 300., 300., 300., 300., 300., 300., 300.,\n",
       "         300., 300., 300., 300., 300., 300.],\n",
       "        [260., 260., 260., 260., 260., 260., 260., 260., 260., 260., 260.,\n",
       "         260., 260., 260., 260., 260., 260., 260., 260., 260., 260., 260.,\n",
       "         260., 260., 260., 260., 260., 260.],\n",
       "        [260., 260., 260., 260., 260., 260., 260., 260., 260., 260., 260.,\n",
       "         260., 260., 260., 260., 260., 260., 260., 260., 260., 260., 260.,\n",
       "         260., 260., 260., 260., 260., 260.],\n",
       "        [236., 236., 236., 236., 236., 236., 236., 236., 236., 236., 236.,\n",
       "         236., 236., 236., 236., 236., 236., 236., 236., 236., 236., 236.,\n",
       "         236., 236., 236., 236., 236., 236.],\n",
       "        [236., 236., 236., 236., 236., 236., 236., 236., 236., 236., 236.,\n",
       "         236., 236., 236., 236., 236., 236., 236., 236., 236., 236., 236.,\n",
       "         236., 236., 236., 236., 236., 236.],\n",
       "        [204., 204., 204., 204., 204., 204., 204., 204., 204., 204., 204.,\n",
       "         204., 204., 204., 204., 204., 204., 204., 204., 204., 204., 204.,\n",
       "         204., 204., 204., 204., 204., 204.],\n",
       "        [204., 204., 204., 204., 204., 204., 204., 204., 204., 204., 204.,\n",
       "         204., 204., 204., 204., 204., 204., 204., 204., 204., 204., 204.,\n",
       "         204., 204., 204., 204., 204., 204.],\n",
       "        [166., 166., 166., 166., 166., 166., 166., 166., 166., 166., 166.,\n",
       "         166., 166., 166., 166., 166., 166., 166., 166., 166., 166., 166.,\n",
       "         166., 166., 166., 166., 166., 166.],\n",
       "        [166., 166., 166., 166., 166., 166., 166., 166., 166., 166., 166.,\n",
       "         166., 166., 166., 166., 166., 166., 166., 166., 166., 166., 166.,\n",
       "         166., 166., 166., 166., 166., 166.],\n",
       "        [115., 115., 115., 115., 115., 115., 115., 115., 115., 115., 115.,\n",
       "         115., 115., 115., 115., 115., 115., 115., 115., 115., 115., 115.,\n",
       "         115., 115., 115., 115., 115., 115.],\n",
       "        [115., 115., 115., 115., 115., 115., 115., 115., 115., 115., 115.,\n",
       "         115., 115., 115., 115., 115., 115., 115., 115., 115., 115., 115.,\n",
       "         115., 115., 115., 115., 115., 115.],\n",
       "        [115., 115., 115., 115., 115., 115., 115., 115., 115., 115., 115.,\n",
       "         115., 115., 115., 115., 115., 115., 115., 115., 115., 115., 115.,\n",
       "         115., 115., 115., 115., 115., 115.],\n",
       "        [ 80.,  80.,  80.,  80.,  80.,  80.,  80.,  80.,  80.,  80.,  80.,\n",
       "          80.,  80.,  80.,  80.,  80.,  80.,  80.,  80.,  80.,  80.,  80.,\n",
       "          80.,  80.,  80.,  80.,  80.,  80.],\n",
       "        [ 80.,  80.,  80.,  80.,  80.,  80.,  80.,  80.,  80.,  80.,  80.,\n",
       "          80.,  80.,  80.,  80.,  80.,  80.,  80.,  80.,  80.,  80.,  80.,\n",
       "          80.,  80.,  80.,  80.,  80.,  80.],\n",
       "        [ 62.,  62.,  62.,  62.,  62.,  62.,  62.,  62.,  62.,  62.,  62.,\n",
       "          62.,  62.,  62.,  62.,  62.,  62.,  62.,  62.,  62.,  62.,  62.,\n",
       "          62.,  62.,  62.,  62.,  62.,  62.],\n",
       "        [ 62.,  62.,  62.,  62.,  62.,  62.,  62.,  62.,  62.,  62.,  62.,\n",
       "          62.,  62.,  62.,  62.,  62.,  62.,  62.,  62.,  62.,  62.,  62.,\n",
       "          62.,  62.,  62.,  62.,  62.,  62.],\n",
       "        [ 62.,  62.,  62.,  62.,  62.,  62.,  62.,  62.,  62.,  62.,  62.,\n",
       "          62.,  62.,  62.,  62.,  62.,  62.,  62.,  62.,  62.,  62.,  62.,\n",
       "          62.,  62.,  62.,  62.,  62.,  62.]]),\n",
       " array([1., 1., 1., 1., 1., 1., 1., 1., 1., 1., 1., 1., 1., 1., 1., 1., 1.,\n",
       "        1., 1., 1., 1., 1., 1., 1., 1., 1., 1., 1.]))"
      ]
     },
     "execution_count": 22,
     "metadata": {},
     "output_type": "execute_result"
    }
   ],
   "source": [
    "with torch.no_grad():\n",
    "    counts = np.zeros((N_timepoint, N_timepoint))\n",
    "    outputs = np.zeros((N_timepoint, N_timepoint))\n",
    "    for i_trial in idx_trial[range(N_trial_train, N_trial)]:\n",
    "        X = torch.tensor(fr[:, :, i_trial], dtype=torch.float64)\n",
    "        time_labels = np.arange(N_timepoint)[X.sum(axis=1)>0]\n",
    "        counts[time_labels, :] += 1\n",
    "        X = X[time_labels, :]\n",
    "        output = logistic_model(X).numpy()\n",
    "        outputs[time_labels, :] += output\n",
    "\n",
    "    outputs = outputs/counts\n",
    "\n",
    "outputs.shape, counts.shape, outputs.sum(axis=1)"
   ]
  },
  {
   "cell_type": "code",
   "execution_count": 23,
   "id": "b7757287",
   "metadata": {},
   "outputs": [
    {
     "data": {
      "text/plain": [
       "(0.0019665624281262873, 0.19431165658271377)"
      ]
     },
     "execution_count": 23,
     "metadata": {},
     "output_type": "execute_result"
    }
   ],
   "source": [
    "outputs.min(), outputs.max()"
   ]
  },
  {
   "cell_type": "code",
   "execution_count": 24,
   "id": "2252651e",
   "metadata": {},
   "outputs": [
    {
     "data": {
      "text/plain": [
       "(62.0, 300.0)"
      ]
     },
     "execution_count": 24,
     "metadata": {},
     "output_type": "execute_result"
    }
   ],
   "source": [
    "counts.min(), counts.max()"
   ]
  },
  {
   "cell_type": "code",
   "execution_count": 25,
   "id": "e3654260",
   "metadata": {},
   "outputs": [
    {
     "data": {
      "text/plain": [
       "(tensor(0),)"
      ]
     },
     "execution_count": 25,
     "metadata": {},
     "output_type": "execute_result"
    }
   ],
   "source": [
    "torch.isnan(torch.tensor(fr[:, :, i_trial].astype(float))).sum(), "
   ]
  },
  {
   "cell_type": "code",
   "execution_count": 26,
   "id": "47780c09",
   "metadata": {},
   "outputs": [
    {
     "data": {
      "text/plain": [
       "<matplotlib.image.AxesImage at 0x1671418d0>"
      ]
     },
     "execution_count": 26,
     "metadata": {},
     "output_type": "execute_result"
    },
    {
     "data": {
      "image/png": "[encoded data removed]",
      "text/plain": [
       "<Figure size 1300x1300 with 1 Axes>"
      ]
     },
     "metadata": {},
     "output_type": "display_data"
    }
   ],
   "source": [
    "fig, ax = plt.subplots(figsize=(13, 13))\n",
    "ax.imshow(counts, cmap='viridis')"
   ]
  },
  {
   "cell_type": "code",
   "execution_count": 27,
   "id": "65f764f1",
   "metadata": {},
   "outputs": [
    {
     "data": {
      "text/plain": [
       "Text(0, 0.5, 'true time')"
      ]
     },
     "execution_count": 27,
     "metadata": {},
     "output_type": "execute_result"
    },
    {
     "data": {
      "image/png": "[encoded data removed]",
      "text/plain": [
       "<Figure size 1300x1300 with 1 Axes>"
      ]
     },
     "metadata": {},
     "output_type": "display_data"
    }
   ],
   "source": [
    "fig, ax = plt.subplots(figsize=(13, 13))\n",
    "ax.imshow(outputs, cmap='viridis')\n",
    "ax.set_xlabel('predicted time')\n",
    "ax.set_ylabel('true time')"
   ]
  },
  {
   "cell_type": "code",
   "execution_count": 28,
   "id": "0fa287de",
   "metadata": {},
   "outputs": [
    {
     "data": {
      "text/plain": [
       "array([[0.19431166, 0.16272964, 0.10938776, 0.06381404, 0.04288596],\n",
       "       [0.16804733, 0.15287388, 0.11360032, 0.07596085, 0.05079282],\n",
       "       [0.10131686, 0.10654824, 0.11489173, 0.10820515, 0.07861477],\n",
       "       [0.05420905, 0.06362299, 0.0945874 , 0.13027117, 0.11587922],\n",
       "       [0.0392207 , 0.04538953, 0.07170667, 0.11409109, 0.12828978]])"
      ]
     },
     "execution_count": 28,
     "metadata": {},
     "output_type": "execute_result"
    }
   ],
   "source": [
    "outputs[:5, :5]"
   ]
  },
  {
   "attachments": {},
   "cell_type": "markdown",
   "id": "59d44e8f",
   "metadata": {},
   "source": [
    "## scan parameters"
   ]
  },
  {
   "cell_type": "code",
   "execution_count": 30,
   "id": "a8378946",
   "metadata": {},
   "outputs": [
    {
     "name": "stdout",
     "output_type": "stream",
     "text": [
      "learning_rate=0.000:loss=0.130\n",
      "learning_rate=0.000:loss=0.130\n",
      "learning_rate=0.000:loss=0.130\n",
      "learning_rate=0.000:loss=0.133\n",
      "learning_rate=0.001:loss=0.139\n"
     ]
    }
   ],
   "source": [
    "N_scan = 5\n",
    "for learning_rate_ in learning_rate*np.logspace(-1, 1, N_scan, base=10):\n",
    "    logistic_model, loss = fit_data(fr, learning_rate=learning_rate_, verbose=False)\n",
    "    print(f'learning_rate={learning_rate_:.3e}:{loss=:.3e}')"
   ]
  },
  {
   "cell_type": "code",
   "execution_count": 31,
   "id": "a2b59fd2",
   "metadata": {},
   "outputs": [
    {
     "name": "stdout",
     "output_type": "stream",
     "text": [
      "logit_0=-0.200:loss=0.130\n",
      "logit_0=-0.632:loss=0.130\n",
      "logit_0=-2.000:loss=0.130\n",
      "logit_0=-6.325:loss=0.130\n",
      "logit_0=-20.000:loss=0.130\n"
     ]
    }
   ],
   "source": [
    "for logit_0_ in logit_0*np.logspace(-1, 1, N_scan, base=10):\n",
    "    logistic_model, loss = fit_data(fr, logit_0=logit_0_, verbose=False)\n",
    "    print(f'logit_0={logit_0_:.3e}:{loss=:.3e}')"
   ]
  },
  {
   "cell_type": "code",
   "execution_count": 32,
   "id": "ad355197",
   "metadata": {},
   "outputs": [
    {
     "name": "stdout",
     "output_type": "stream",
     "text": [
      "logit_wt=0.010:loss=0.130\n",
      "logit_wt=0.032:loss=0.130\n",
      "logit_wt=0.100:loss=0.130\n",
      "logit_wt=0.316:loss=0.130\n",
      "logit_wt=1.000:loss=0.715\n"
     ]
    }
   ],
   "source": [
    "for logit_wt_ in logit_wt*np.logspace(-1, 1, N_scan, base=10):\n",
    "    logistic_model, loss = fit_data(fr, logit_wt=logit_wt_, verbose=False)\n",
    "    print(f'logit_wt={logit_wt_:.3e}:{loss=:.3e}')"
   ]
  },
  {
   "cell_type": "code",
   "execution_count": 35,
   "id": "ab94a08c",
   "metadata": {},
   "outputs": [
    {
     "name": "stdout",
     "output_type": "stream",
     "text": [
      "beta1=9.000e-01:loss=1.304e-01\n",
      "beta1=9.822e-01:loss=1.303e-01\n",
      "beta1=9.968e-01:loss=1.300e-01\n",
      "beta1=9.994e-01:loss=1.295e-01\n",
      "beta1=9.999e-01:loss=1.380e-01\n"
     ]
    }
   ],
   "source": [
    "for beta1_ in 1-np.logspace(-2, -5, N_scan, base=10):\n",
    "    logistic_model, loss = fit_data(fr, beta1=beta1_, verbose=False)\n",
    "    print(f'beta1={beta1_:.3e}:{loss=:.3e}')"
   ]
  },
  {
   "cell_type": "code",
   "execution_count": 36,
   "id": "ce111043",
   "metadata": {},
   "outputs": [
    {
     "name": "stdout",
     "output_type": "stream",
     "text": [
      "beta2=9.000e-01:loss=1.369e-01\n",
      "beta2=9.822e-01:loss=1.311e-01\n",
      "beta2=9.968e-01:loss=1.304e-01\n",
      "beta2=9.994e-01:loss=1.304e-01\n",
      "beta2=9.999e-01:loss=1.304e-01\n"
     ]
    }
   ],
   "source": [
    "for beta2_ in 1-np.logspace(-1, -4, N_scan, base=10):\n",
    "    logistic_model, loss = fit_data(fr, beta2=beta2_, verbose=False)\n",
    "    print(f'beta2={beta2_:.3e}:{loss=:.3e}')"
   ]
  },
  {
   "cell_type": "code",
   "execution_count": 37,
   "id": "c796488e",
   "metadata": {},
   "outputs": [
    {
     "name": "stdout",
     "output_type": "stream",
     "text": [
      "amsgrad=True:loss=1.297e-01\n"
     ]
    }
   ],
   "source": [
    "logistic_model, loss = fit_data(fr, amsgrad=not(amsgrad), verbose=False)\n",
    "print(f'amsgrad={not(amsgrad)}:{loss=:.3e}')"
   ]
  }
 ],
 "metadata": {
  "kernelspec": {
   "display_name": "Python 3",
   "language": "python",
   "name": "python3"
  },
  "language_info": {
   "codemirror_mode": {
    "name": "ipython",
    "version": 3
   },
   "file_extension": ".py",
   "mimetype": "text/x-python",
   "name": "python",
   "nbconvert_exporter": "python",
   "pygments_lexer": "ipython3",
   "version": "3.11.4"
  }
 },
 "nbformat": 4,
 "nbformat_minor": 5
}
