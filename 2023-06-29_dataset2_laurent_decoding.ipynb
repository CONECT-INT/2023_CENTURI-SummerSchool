{
 "cells": [
  {
   "cell_type": "code",
   "execution_count": 1,
   "id": "f1fec7f6-4c47-4c18-90ec-11e430dab517",
   "metadata": {},
   "outputs": [],
   "source": [
    "import numpy as np\n",
    "import matplotlib.pyplot as plt"
   ]
  },
  {
   "cell_type": "code",
   "execution_count": 2,
   "id": "9008a877",
   "metadata": {},
   "outputs": [
    {
     "name": "stdout",
     "output_type": "stream",
     "text": [
      "total 2267760\n",
      "-rw-r--r--  1 laurentperrinet  staff   211M Jun 14 10:42 H_Ready-Set_bin1ms_alignedReady.mat\n",
      "-rw-r--r--  1 laurentperrinet  staff   407M Jun 14 10:55 G_Ready-Set_bin1ms_alignedReady.mat\n",
      "-rw-r--r--@ 1 laurentperrinet  staff   2.0K Jun 15 12:29 README.md\n",
      "-rw-r--r--@ 1 laurentperrinet  staff   183M Jun 27 15:52 G_Ready-Set_bin1ms_alignedReady_session=0.npz\n",
      "-rw-r--r--@ 1 laurentperrinet  staff   212M Jun 27 15:52 G_Ready-Set_bin1ms_alignedReady_session=1.npz\n",
      "-rw-r--r--@ 1 laurentperrinet  staff    17M Jun 27 15:52 H_Ready-Set_bin1ms_alignedReady_session=0.npz\n",
      "-rw-r--r--@ 1 laurentperrinet  staff    68M Jun 27 15:52 H_Ready-Set_bin1ms_alignedReady_session=1.npz\n"
     ]
    }
   ],
   "source": [
    "%ls -ltrh /Users/laurentperrinet/quantic/grants/Polychronies/RSG-spikepatterns/Data/"
   ]
  },
  {
   "cell_type": "code",
   "execution_count": 3,
   "id": "16476f59",
   "metadata": {},
   "outputs": [
    {
     "data": {
      "text/plain": [
       "(1200, 107, 1498)"
      ]
     },
     "execution_count": 3,
     "metadata": {},
     "output_type": "execute_result"
    }
   ],
   "source": [
    "i_session = 0\n",
    "monkey = 'G'\n",
    "from pathlib import Path\n",
    "path = Path.home()/'quantic'/'grants'/'polychronies'/'RSG-spikepatterns'/'Data'/f'{monkey}_Ready-Set_bin1ms_alignedReady_session={i_session}.npz'\n",
    "\n",
    "dictdata = np.load(path)\n",
    "data, id_neuron, id_short, t_s, t_p = dictdata['data'], dictdata['id_neuron'], dictdata['id_short'], dictdata['t_s'], dictdata['t_p']\n",
    "data = data.astype(float)\n",
    "data[data==255] = np.nan\n",
    "N_time, N_neuron, N_trial = data.shape\n",
    "\n",
    "N_time, N_neuron, N_trial"
   ]
  },
  {
   "attachments": {},
   "cell_type": "markdown",
   "id": "62b0b690",
   "metadata": {},
   "source": [
    "### computing the firing rates"
   ]
  },
  {
   "cell_type": "code",
   "execution_count": 4,
   "id": "aa340cf9",
   "metadata": {},
   "outputs": [
    {
     "data": {
      "text/plain": [
       "(array([ 100,  120,  140,  160,  180,  200,  220,  240,  260,  280,  300,\n",
       "         320,  340,  360,  380,  400,  420,  440,  460,  480,  500,  520,\n",
       "         540,  560,  580,  600,  620,  640,  660,  680,  700,  720,  740,\n",
       "         760,  780,  800,  820,  840,  860,  880,  900,  920,  940,  960,\n",
       "         980, 1000, 1020, 1040, 1060, 1080, 1100, 1120, 1140, 1160, 1180,\n",
       "        1200]),\n",
       " 56)"
      ]
     },
     "execution_count": 4,
     "metadata": {},
     "output_type": "execute_result"
    }
   ],
   "source": [
    "t_s_max = int(t_s.max())\n",
    "DeltaT = 100 # number of time bins on which we average\n",
    "dt = 20 # temporal distance between points on which we compute the firing rate\n",
    "\n",
    "timepoints = np.arange(DeltaT, t_s_max+1, dt)\n",
    "N_timepoints = len(timepoints)\n",
    "timepoints, N_timepoints"
   ]
  },
  {
   "cell_type": "code",
   "execution_count": 5,
   "id": "5ec9a4e7",
   "metadata": {},
   "outputs": [],
   "source": [
    "fr = np.empty((N_timepoints, N_neuron, N_trial)) * np.nan\n",
    "for i_timepoint, timepoint in enumerate(timepoints):\n",
    "    fr[i_timepoint, :, :] = np.nansum(data[(timepoint-DeltaT):timepoint, :, :], axis=0) / (DeltaT/1000)"
   ]
  },
  {
   "cell_type": "code",
   "execution_count": 7,
   "id": "a102fd8c",
   "metadata": {},
   "outputs": [],
   "source": [
    "# for i_trial in range(N_trial):\n",
    "#     print(i_trial, torch.isnan(torch.tensor(fr[:, :, i_trial].astype(float))).sum())\n",
    "#     break\n",
    "# torch.isnan(torch.tensor(fr.astype(float))).sum(), torch.isnan(torch.tensor(data.astype(float))).sum()"
   ]
  },
  {
   "cell_type": "code",
   "execution_count": 8,
   "id": "cb35aebf",
   "metadata": {},
   "outputs": [
    {
     "data": {
      "text/plain": [
       "(56, 107, 1498)"
      ]
     },
     "execution_count": 8,
     "metadata": {},
     "output_type": "execute_result"
    }
   ],
   "source": [
    "fr.shape"
   ]
  },
  {
   "cell_type": "code",
   "execution_count": 9,
   "id": "90bc90ba",
   "metadata": {},
   "outputs": [
    {
     "name": "stdout",
     "output_type": "stream",
     "text": [
      "\u001b[0;31mDocstring:\u001b[0m\n",
      "one_hot(tensor, num_classes=-1) -> LongTensor\n",
      "\n",
      "Takes LongTensor with index values of shape ``(*)`` and returns a tensor\n",
      "of shape ``(*, num_classes)`` that have zeros everywhere except where the\n",
      "index of last dimension matches the corresponding value of the input tensor,\n",
      "in which case it will be 1.\n",
      "\n",
      "See also `One-hot on Wikipedia`_ .\n",
      "\n",
      ".. _One-hot on Wikipedia:\n",
      "    https://en.wikipedia.org/wiki/One-hot\n",
      "\n",
      "Arguments:\n",
      "    tensor (LongTensor): class values of any shape.\n",
      "    num_classes (int):  Total number of classes. If set to -1, the number\n",
      "        of classes will be inferred as one greater than the largest class\n",
      "        value in the input tensor.\n",
      "\n",
      "Returns:\n",
      "    LongTensor that has one more dimension with 1 values at the\n",
      "    index of last dimension indicated by the input, and 0 everywhere\n",
      "    else.\n",
      "\n",
      "Examples:\n",
      "    >>> F.one_hot(torch.arange(0, 5) % 3)\n",
      "    tensor([[1, 0, 0],\n",
      "            [0, 1, 0],\n",
      "            [0, 0, 1],\n",
      "            [1, 0, 0],\n",
      "            [0, 1, 0]])\n",
      "    >>> F.one_hot(torch.arange(0, 5) % 3, num_classes=5)\n",
      "    tensor([[1, 0, 0, 0, 0],\n",
      "            [0, 1, 0, 0, 0],\n",
      "            [0, 0, 1, 0, 0],\n",
      "            [1, 0, 0, 0, 0],\n",
      "            [0, 1, 0, 0, 0]])\n",
      "    >>> F.one_hot(torch.arange(0, 6).view(3,2) % 3)\n",
      "    tensor([[[1, 0, 0],\n",
      "             [0, 1, 0]],\n",
      "            [[0, 0, 1],\n",
      "             [1, 0, 0]],\n",
      "            [[0, 1, 0],\n",
      "             [0, 0, 1]]])\n",
      "\u001b[0;31mType:\u001b[0m      builtin_function_or_method"
     ]
    }
   ],
   "source": [
    "from torch.nn.functional import one_hot\n",
    "one_hot?"
   ]
  },
  {
   "cell_type": "code",
   "execution_count": 10,
   "id": "84b9623a",
   "metadata": {},
   "outputs": [
    {
     "data": {
      "text/plain": [
       "(56, 1498)"
      ]
     },
     "execution_count": 10,
     "metadata": {},
     "output_type": "execute_result"
    }
   ],
   "source": [
    "labels = np.arange(N_timepoints)[:, None] * np.ones((1, N_trial))\n",
    "labels.shape"
   ]
  },
  {
   "cell_type": "code",
   "execution_count": 18,
   "id": "f825ab78",
   "metadata": {},
   "outputs": [
    {
     "data": {
      "text/plain": [
       "array([772,   3, 564, ..., 327, 355, 168])"
      ]
     },
     "execution_count": 18,
     "metadata": {},
     "output_type": "execute_result"
    }
   ],
   "source": [
    "ratio_train = 80/100\n",
    "N_trial_train = int(N_trial*ratio_train)\n",
    "N_trial_test = N_trial - N_trial_train\n",
    "idx_trial = np.random.permutation(N_trial)\n",
    "idx_trial"
   ]
  },
  {
   "cell_type": "code",
   "execution_count": 42,
   "id": "6d714ae3",
   "metadata": {},
   "outputs": [
    {
     "name": "stdout",
     "output_type": "stream",
     "text": [
      "\u001b[0;31mInit signature:\u001b[0m \u001b[0mtorch\u001b[0m\u001b[0;34m.\u001b[0m\u001b[0mnn\u001b[0m\u001b[0;34m.\u001b[0m\u001b[0mSoftmax\u001b[0m\u001b[0;34m(\u001b[0m\u001b[0mdim\u001b[0m\u001b[0;34m:\u001b[0m \u001b[0mOptional\u001b[0m\u001b[0;34m[\u001b[0m\u001b[0mint\u001b[0m\u001b[0;34m]\u001b[0m \u001b[0;34m=\u001b[0m \u001b[0;32mNone\u001b[0m\u001b[0;34m)\u001b[0m \u001b[0;34m->\u001b[0m \u001b[0;32mNone\u001b[0m\u001b[0;34m\u001b[0m\u001b[0;34m\u001b[0m\u001b[0m\n",
      "\u001b[0;31mDocstring:\u001b[0m     \n",
      "Applies the Softmax function to an n-dimensional input Tensor\n",
      "rescaling them so that the elements of the n-dimensional output Tensor\n",
      "lie in the range [0,1] and sum to 1.\n",
      "\n",
      "Softmax is defined as:\n",
      "\n",
      ".. math::\n",
      "    \\text{Softmax}(x_{i}) = \\frac{\\exp(x_i)}{\\sum_j \\exp(x_j)}\n",
      "\n",
      "When the input Tensor is a sparse tensor then the unspecified\n",
      "values are treated as ``-inf``.\n",
      "\n",
      "Shape:\n",
      "    - Input: :math:`(*)` where `*` means, any number of additional\n",
      "      dimensions\n",
      "    - Output: :math:`(*)`, same shape as the input\n",
      "\n",
      "Returns:\n",
      "    a Tensor of the same dimension and shape as the input with\n",
      "    values in the range [0, 1]\n",
      "\n",
      "Args:\n",
      "    dim (int): A dimension along which Softmax will be computed (so every slice\n",
      "        along dim will sum to 1).\n",
      "\n",
      ".. note::\n",
      "    This module doesn't work directly with NLLLoss,\n",
      "    which expects the Log to be computed between the Softmax and itself.\n",
      "    Use `LogSoftmax` instead (it's faster and has better numerical properties).\n",
      "\n",
      "Examples::\n",
      "\n",
      "    >>> m = nn.Softmax(dim=1)\n",
      "    >>> input = torch.randn(2, 3)\n",
      "    >>> output = m(input)\n",
      "\u001b[0;31mInit docstring:\u001b[0m Initializes internal Module state, shared by both nn.Module and ScriptModule.\n",
      "\u001b[0;31mFile:\u001b[0m           /opt/homebrew/lib/python3.11/site-packages/torch/nn/modules/activation.py\n",
      "\u001b[0;31mType:\u001b[0m           type\n",
      "\u001b[0;31mSubclasses:\u001b[0m     Softmax"
     ]
    }
   ],
   "source": [
    "torch.nn.Softmax?"
   ]
  },
  {
   "attachments": {},
   "cell_type": "markdown",
   "id": "e9714952",
   "metadata": {},
   "source": [
    "### logistic regression model with NaNs"
   ]
  },
  {
   "cell_type": "markdown",
   "id": "4c568a01",
   "metadata": {},
   "source": [
    "### inference model"
   ]
  },
  {
   "cell_type": "code",
   "execution_count": 19,
   "id": "ff55e8fa",
   "metadata": {},
   "outputs": [],
   "source": [
    "import torch\n",
    "from torch.utils.data import TensorDataset, DataLoader\n",
    "torch.set_default_tensor_type(\"torch.DoubleTensor\") # -> torch.tensor([1.2, 3]).dtype = torch.float64\n",
    "# see https://sebastianraschka.com/faq/docs/pytorch-crossentropy.html#pytorch-loss-input-confusion-cheatsheet\n",
    "criterion = torch.nn.BCELoss(reduction=\"mean\") # loss divided by output size\n",
    "#criterion = torch.nn.NLLLoss(reduction=\"mean\") # loss divided by output size\n",
    "\n",
    "\n",
    "class LogisticRegressionModel(torch.nn.Module):\n",
    "    def __init__(self, N_input, n_classes, logit0=torch.log(1.*torch.ones(1)), logit_wt=torch.log(0.1*torch.ones(1))):\n",
    "        super(LogisticRegressionModel, self).__init__() \n",
    "        # self.linear = torch.nn.Linear(N, n_classes, bias=bias)\n",
    "\n",
    "        self.bias = torch.nn.Parameter(logit0 * torch.ones(1, n_classes))\n",
    "        self.weight = torch.nn.Parameter(logit_wt * torch.ones((N_input, n_classes)))\n",
    "        # self.nl = torch.nn.Softmax(n_classes)\n",
    "        self.nl = torch.nn.Sigmoid()\n",
    "\n",
    "    def forward(self, X_input):\n",
    "        # X_input.shape = N_batch, N_input\n",
    "        X_input[torch.isnan(X_input)] = 0.\n",
    "        return self.nl(X_input @ self.weight +  self.bias)"
   ]
  },
  {
   "cell_type": "code",
   "execution_count": 33,
   "id": "8b94dc1f",
   "metadata": {},
   "outputs": [
    {
     "data": {
      "text/plain": [
       "(torch.Size([56, 107]), torch.Size([56, 56]))"
      ]
     },
     "execution_count": 33,
     "metadata": {},
     "output_type": "execute_result"
    }
   ],
   "source": [
    "logistic_model = LogisticRegressionModel(N_neuron, N_timepoints)\n",
    "i_trial = 3\n",
    "X = torch.tensor(fr[:, :, i_trial].astype(float))\n",
    "outputs = logistic_model(X)\n",
    "X.shape, outputs.shape"
   ]
  },
  {
   "cell_type": "code",
   "execution_count": 34,
   "id": "98dce17f",
   "metadata": {},
   "outputs": [
    {
     "name": "stdout",
     "output_type": "stream",
     "text": [
      "Iteration: 0 - Loss: 1.78515\n",
      "Iteration: 16 - Loss: 1.78511\n",
      "Iteration: 32 - Loss: 1.78507\n",
      "Iteration: 48 - Loss: 1.78503\n",
      "Iteration: 64 - Loss: 1.78503\n",
      "Iteration: 80 - Loss: 1.78498\n",
      "Iteration: 96 - Loss: 1.78496\n",
      "Iteration: 112 - Loss: 1.78489\n",
      "Iteration: 128 - Loss: 1.78478\n",
      "Iteration: 144 - Loss: 1.78455\n",
      "Iteration: 160 - Loss: 1.78460\n",
      "Iteration: 176 - Loss: 1.78462\n",
      "Iteration: 192 - Loss: 1.78461\n",
      "Iteration: 208 - Loss: 1.78461\n",
      "Iteration: 224 - Loss: 1.78461\n",
      "Iteration: 240 - Loss: 1.78461\n",
      "Iteration: 256 - Loss: 1.78461\n",
      "Iteration: 272 - Loss: 1.78461\n",
      "Iteration: 288 - Loss: 1.78461\n",
      "Iteration: 304 - Loss: 1.78460\n",
      "Iteration: 320 - Loss: 1.78460\n",
      "Iteration: 336 - Loss: 1.78460\n",
      "Iteration: 352 - Loss: 1.78460\n",
      "Iteration: 368 - Loss: 1.78460\n",
      "Iteration: 384 - Loss: 1.78460\n",
      "Iteration: 400 - Loss: 1.78460\n",
      "Iteration: 416 - Loss: 1.78460\n",
      "Iteration: 432 - Loss: 1.78460\n",
      "Iteration: 448 - Loss: 1.78455\n",
      "Iteration: 464 - Loss: 1.78440\n",
      "Iteration: 480 - Loss: 1.78436\n",
      "Iteration: 496 - Loss: 1.78437\n",
      "Iteration: 512 - Loss: 1.78437\n"
     ]
    }
   ],
   "source": [
    "learning_rate = 0.005\n",
    "beta1, beta2 = 0.9, 0.999\n",
    "betas = (beta1, beta2)\n",
    "num_epochs = 2 ** 9 + 1\n",
    "batch_size = 256\n",
    "n_classes=10\n",
    "amsgrad = True  # gives similar results\n",
    "amsgrad = False # gives similar results\n",
    "\n",
    "def fit_data(fr,\n",
    "            learning_rate=learning_rate,\n",
    "            batch_size=batch_size,  # gamma=gamma,\n",
    "            num_epochs=num_epochs,\n",
    "            betas=betas,\n",
    "            verbose=False, **kwargs\n",
    "        ):\n",
    "\n",
    "\n",
    "    logistic_model = LogisticRegressionModel(N_neuron, N_timepoints)\n",
    "    # logistic_model = logistic_model.to(device)\n",
    "    logistic_model.train()\n",
    "    optimizer = torch.optim.Adam(\n",
    "        logistic_model.parameters(), lr=learning_rate, betas=betas, amsgrad=amsgrad\n",
    "    )\n",
    "    for epoch in range(int(num_epochs)):\n",
    "        logistic_model.train()\n",
    "        losses = []\n",
    "        for i_trial in idx_trial[range(N_trial_train)]:\n",
    "            X = torch.tensor(fr[:, :, i_trial].astype(float))\n",
    "            time_labels = np.arange(N_timepoints)[X.sum(axis=1)>0]\n",
    "            X = X[X.sum(axis=1)>0, :]\n",
    "            labels = one_hot(torch.tensor(time_labels), num_classes=N_timepoints)*1.\n",
    "            # X_, labels_ = X_.to(device), labels_.to(device)\n",
    "            outputs = logistic_model(X)\n",
    "            loss = criterion(outputs, labels)\n",
    "\n",
    "            optimizer.zero_grad()\n",
    "            loss.backward()\n",
    "            optimizer.step()\n",
    "            losses.append(loss.item())\n",
    "\n",
    "        if verbose and (epoch % (num_epochs // 32) == 0):\n",
    "            print(f\"Iteration: {epoch} - Loss: {np.mean(losses):.5f}\")\n",
    "\n",
    "    return logistic_model\n",
    "\n",
    "logistic_model = fit_data(fr, verbose=True)"
   ]
  },
  {
   "cell_type": "code",
   "execution_count": 26,
   "id": "63d1dd5c",
   "metadata": {},
   "outputs": [
    {
     "data": {
      "text/plain": [
       "((107, 56), (5992,))"
      ]
     },
     "execution_count": 26,
     "metadata": {},
     "output_type": "execute_result"
    }
   ],
   "source": [
    "logistic_model.weight.detach().numpy().shape, logistic_model.weight.detach().numpy().ravel().shape"
   ]
  },
  {
   "cell_type": "code",
   "execution_count": 37,
   "id": "0bb4ce15",
   "metadata": {},
   "outputs": [
    {
     "data": {
      "text/plain": [
       "(array([[3.33329519e-163, 3.33329519e-163, 3.33329519e-163, ...,\n",
       "         3.33329519e-163, 3.33329519e-163, 3.33329519e-163],\n",
       "        [3.33329519e-223, 3.33329519e-223, 3.33329519e-223, ...,\n",
       "         3.33329519e-223, 3.33329519e-223, 3.33329519e-223],\n",
       "        [3.33329519e-233, 3.33329519e-233, 3.33329519e-233, ...,\n",
       "         3.33329519e-233, 3.33329519e-233, 3.33329519e-233],\n",
       "        ...,\n",
       "        [1.75436589e-132, 1.75436589e-132, 1.75436589e-132, ...,\n",
       "         1.75436589e-132, 1.75436589e-132, 1.75436589e-132],\n",
       "        [3.50672518e-052, 3.50672518e-052, 3.50672518e-052, ...,\n",
       "         3.50672518e-052, 3.50672518e-052, 3.50672518e-052],\n",
       "        [0.00000000e+000, 0.00000000e+000, 0.00000000e+000, ...,\n",
       "         0.00000000e+000, 0.00000000e+000, 0.00000000e+000]]),\n",
       " (56, 56))"
      ]
     },
     "execution_count": 37,
     "metadata": {},
     "output_type": "execute_result"
    }
   ],
   "source": [
    "with torch.no_grad():\n",
    "    counts = np.zeros((N_timepoints, N_timepoints))\n",
    "    outputs = np.zeros((N_timepoints, N_timepoints))\n",
    "    for i_trial in idx_trial[range(N_trial_train, N_trial)]:\n",
    "        X = torch.tensor(fr[:, :, i_trial].astype(float))\n",
    "        idx_nonzero = X.sum(axis=1)>0\n",
    "        counts[idx_nonzero, :] += 1\n",
    "        time_labels = np.arange(N_timepoints)[idx_nonzero]\n",
    "        X = X[idx_nonzero, :]\n",
    "        output = logistic_model(X).numpy()\n",
    "        outputs[idx_nonzero, :] += output\n",
    "\n",
    "    outputs = outputs/counts\n",
    "\n",
    "outputs, outputs.shape"
   ]
  },
  {
   "cell_type": "code",
   "execution_count": 38,
   "id": "9910077f",
   "metadata": {},
   "outputs": [
    {
     "data": {
      "text/plain": [
       "torch.Size([56, 107])"
      ]
     },
     "execution_count": 38,
     "metadata": {},
     "output_type": "execute_result"
    }
   ],
   "source": [
    "torch.tensor(fr[:, :, i_trial].astype(float)).shape"
   ]
  },
  {
   "cell_type": "code",
   "execution_count": null,
   "id": "252425cf",
   "metadata": {},
   "outputs": [],
   "source": [
    "i_trial = 200\n",
    "fig, ax = plt.subplots(figsize=(13, 8))\n",
    "ax.imshow(fr[:, :, i_trial].T, cmap='viridis');"
   ]
  },
  {
   "cell_type": "code",
   "execution_count": 16,
   "id": "d29fc724",
   "metadata": {},
   "outputs": [
    {
     "data": {
      "text/plain": [
       "(torch.Size([56, 107]),\n",
       " tensor([480., 460., 490., 420., 440., 390., 370., 360., 390., 420., 520., 600.,\n",
       "         610., 560., 490., 440., 410., 380., 440., 470., 420., 430., 460., 460.,\n",
       "         480., 550., 530., 510., 500., 460., 430., 460., 480., 480., 470., 440.,\n",
       "         410., 420., 480., 490., 540., 450., 350., 190., 100.]))"
      ]
     },
     "execution_count": 16,
     "metadata": {},
     "output_type": "execute_result"
    }
   ],
   "source": [
    "X = torch.tensor(fr[:, :, i_trial].astype(float))\n",
    "X.shape, X.sum(axis=1)[X.sum(axis=1)>0]"
   ]
  },
  {
   "cell_type": "code",
   "execution_count": null,
   "id": "2252651e",
   "metadata": {},
   "outputs": [],
   "source": [
    "torch.isnan(torch.tensor(fr[:, :, i_trial].astype(float))).sum()"
   ]
  },
  {
   "cell_type": "code",
   "execution_count": 40,
   "id": "47780c09",
   "metadata": {},
   "outputs": [
    {
     "data": {
      "text/plain": [
       "<matplotlib.image.AxesImage at 0x12d16de50>"
      ]
     },
     "execution_count": 40,
     "metadata": {},
     "output_type": "execute_result"
    },
    {
     "data": {
      "image/png": "[encoded data removed]",
      "text/plain": [
       "<Figure size 1300x1300 with 1 Axes>"
      ]
     },
     "metadata": {},
     "output_type": "display_data"
    }
   ],
   "source": [
    "fig, ax = plt.subplots(figsize=(13, 13))\n",
    "ax.plot([-3, 3], [-3, 3], 'r--')\n",
    "#ax.plot(logistic_model.linear.bias.detach().numpy(), 'r')\n",
    "# ax.plot(W[-1, :], 'r--')\n",
    "ax.imshow(outputs, cmap='viridis')"
   ]
  },
  {
   "cell_type": "code",
   "execution_count": 41,
   "id": "0fa287de",
   "metadata": {},
   "outputs": [
    {
     "data": {
      "text/plain": [
       "array([[3.33329519e-163, 3.33329519e-163, 3.33329519e-163,\n",
       "        3.33329519e-163, 3.33329519e-163],\n",
       "       [3.33329519e-223, 3.33329519e-223, 3.33329519e-223,\n",
       "        3.33329519e-223, 3.33329519e-223],\n",
       "       [3.33329519e-233, 3.33329519e-233, 3.33329519e-233,\n",
       "        3.33329519e-233, 3.33329519e-233],\n",
       "       [3.32948266e-233, 3.32948266e-233, 3.32948266e-233,\n",
       "        3.32948266e-233, 3.32948266e-233],\n",
       "       [3.33329519e-193, 3.33329519e-193, 3.33329519e-193,\n",
       "        3.33329519e-193, 3.33329519e-193]])"
      ]
     },
     "execution_count": 41,
     "metadata": {},
     "output_type": "execute_result"
    }
   ],
   "source": [
    "outputs[:5, :5]"
   ]
  },
  {
   "cell_type": "code",
   "execution_count": null,
   "id": "a8378946",
   "metadata": {},
   "outputs": [],
   "source": []
  }
 ],
 "metadata": {
  "kernelspec": {
   "display_name": "Python 3",
   "language": "python",
   "name": "python3"
  },
  "language_info": {
   "codemirror_mode": {
    "name": "ipython",
    "version": 3
   },
   "file_extension": ".py",
   "mimetype": "text/x-python",
   "name": "python",
   "nbconvert_exporter": "python",
   "pygments_lexer": "ipython3",
   "version": "3.11.4"
  }
 },
 "nbformat": 4,
 "nbformat_minor": 5
}
