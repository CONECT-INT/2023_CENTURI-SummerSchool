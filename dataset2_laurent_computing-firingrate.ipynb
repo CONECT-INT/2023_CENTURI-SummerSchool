{
 "cells": [
  {
   "cell_type": "code",
   "execution_count": 1,
   "id": "f1fec7f6-4c47-4c18-90ec-11e430dab517",
   "metadata": {},
   "outputs": [],
   "source": [
    "import numpy as np\n",
    "import matplotlib.pyplot as plt\n",
    "from pathlib import Path"
   ]
  },
  {
   "cell_type": "code",
   "execution_count": 2,
   "id": "9008a877",
   "metadata": {},
   "outputs": [
    {
     "name": "stdout",
     "output_type": "stream",
     "text": [
      "total 2319280\n",
      "-rw-r--r--  1 laurentperrinet  staff   211M Jun 14 10:42 H_Ready-Set_bin1ms_alignedReady.mat\n",
      "-rw-r--r--  1 laurentperrinet  staff   407M Jun 14 10:55 G_Ready-Set_bin1ms_alignedReady.mat\n",
      "-rw-r--r--@ 1 laurentperrinet  staff   2.0K Jun 15 12:29 README.md\n",
      "-rw-r--r--@ 1 laurentperrinet  staff   183M Jun 27 15:52 G_Ready-Set_bin1ms_alignedReady_session=0.npz\n",
      "-rw-r--r--@ 1 laurentperrinet  staff   212M Jun 27 15:52 G_Ready-Set_bin1ms_alignedReady_session=1.npz\n",
      "-rw-r--r--@ 1 laurentperrinet  staff    17M Jun 27 15:52 H_Ready-Set_bin1ms_alignedReady_session=0.npz\n",
      "-rw-r--r--@ 1 laurentperrinet  staff    68M Jun 27 15:52 H_Ready-Set_bin1ms_alignedReady_session=1.npz\n"
     ]
    }
   ],
   "source": [
    "%ls -ltrh /Users/laurentperrinet/quantic/grants/Polychronies/RSG-spikepatterns/Data/"
   ]
  },
  {
   "cell_type": "code",
   "execution_count": 3,
   "id": "854af98e-6f5d-4b74-8c3a-7e3e258f2aa2",
   "metadata": {},
   "outputs": [],
   "source": [
    "# i_session = 0\n",
    "# monkey = 'G'\n",
    "# path = Path.home()/'quantic'/'grants'/'polychronies'/'RSG-spikepatterns'/'Data'/f'{monkey}_Ready-Set_bin1ms_alignedReady_session={i_session}.npy'\n",
    "# data = np.load(path)\n",
    "# N_time, N_neurons, N_trial = data.shape\n",
    "# N_time, N_neurons, N_trial"
   ]
  },
  {
   "cell_type": "code",
   "execution_count": 4,
   "id": "16476f59",
   "metadata": {},
   "outputs": [],
   "source": [
    "i_session = 0\n",
    "monkey = 'G'\n",
    "path = Path.home()/'quantic'/'grants'/'polychronies'/'RSG-spikepatterns'/'Data'/f'{monkey}_Ready-Set_bin1ms_alignedReady_session={i_session}.npz'\n",
    "\n",
    "dictdata = np.load(path)\n"
   ]
  },
  {
   "cell_type": "code",
   "execution_count": 5,
   "id": "4e47ffed",
   "metadata": {},
   "outputs": [],
   "source": [
    "data, id_neuron, id_short, t_s, t_p = dictdata['data'], dictdata['id_neuron'], dictdata['id_short'], dictdata['t_s'], dictdata['t_p']\n"
   ]
  },
  {
   "attachments": {},
   "cell_type": "markdown",
   "id": "f019247f",
   "metadata": {},
   "source": [
    "transferring back the 255 into NaNs"
   ]
  },
  {
   "cell_type": "code",
   "execution_count": 20,
   "id": "395463c0",
   "metadata": {},
   "outputs": [],
   "source": [
    "data = data.astype(float)"
   ]
  },
  {
   "cell_type": "code",
   "execution_count": 21,
   "id": "698aea1b",
   "metadata": {},
   "outputs": [],
   "source": [
    "data[data==255] = np.nan"
   ]
  },
  {
   "cell_type": "code",
   "execution_count": 23,
   "id": "dd801b48",
   "metadata": {},
   "outputs": [
    {
     "data": {
      "text/plain": [
       "(1200, 107, 1498)"
      ]
     },
     "execution_count": 23,
     "metadata": {},
     "output_type": "execute_result"
    }
   ],
   "source": [
    "N_time, N_neurons, N_trial = data.shape\n",
    "N_time, N_neurons, N_trial"
   ]
  },
  {
   "attachments": {},
   "cell_type": "markdown",
   "id": "75bc541b",
   "metadata": {},
   "source": [
    "## displaying some raster plots"
   ]
  },
  {
   "cell_type": "code",
   "execution_count": 25,
   "id": "014bf315",
   "metadata": {},
   "outputs": [
    {
     "name": "stdout",
     "output_type": "stream",
     "text": [
      "0 2.839377737294586 0.8299818088877707\n"
     ]
    }
   ],
   "source": [
    "print(i_session, np.mean(np.nanmean(data, axis=(0, 1))*1000), np.std(np.nanmean(data, axis=(0, 1))*1000))"
   ]
  },
  {
   "cell_type": "code",
   "execution_count": 26,
   "id": "2a0d65bf",
   "metadata": {},
   "outputs": [
    {
     "data": {
      "text/plain": [
       "(1200, 107)"
      ]
     },
     "execution_count": 26,
     "metadata": {},
     "output_type": "execute_result"
    }
   ],
   "source": [
    "i_trial = 0\n",
    "data_trimT = data[np.isnan(data[:, :, i_trial]).sum(axis=1)<N_neurons, :, i_trial]\n",
    "data_trimT.shape"
   ]
  },
  {
   "cell_type": "code",
   "execution_count": 27,
   "id": "025e2420",
   "metadata": {},
   "outputs": [
    {
     "data": {
      "text/plain": [
       "(1200, 107)"
      ]
     },
     "execution_count": 27,
     "metadata": {},
     "output_type": "execute_result"
    }
   ],
   "source": [
    "data_trim = data_trimT[:, np.isnan(data_trimT).sum(axis=0)==0]\n",
    "data_trim.shape"
   ]
  },
  {
   "cell_type": "code",
   "execution_count": 28,
   "id": "58fdd143",
   "metadata": {},
   "outputs": [
    {
     "data": {
      "image/png": "[encoded data removed]",
      "text/plain": [
       "<Figure size 1300x800 with 1 Axes>"
      ]
     },
     "metadata": {},
     "output_type": "display_data"
    }
   ],
   "source": [
    "fig, ax = plt.subplots(figsize=(13, 8))\n",
    "ax.imshow((data_trim>0)[:300, :].T, cmap='gray');"
   ]
  },
  {
   "attachments": {},
   "cell_type": "markdown",
   "id": "087cad23",
   "metadata": {},
   "source": [
    "### checking we have the good t_s on each trial"
   ]
  },
  {
   "cell_type": "code",
   "execution_count": 29,
   "id": "6855dc76",
   "metadata": {},
   "outputs": [
    {
     "name": "stdout",
     "output_type": "stream",
     "text": [
      "ts= 1200\n",
      "ts= 1200\n",
      "ts= 1200\n",
      "ts= 1200\n",
      "ts= 1200\n",
      "ts= 1200\n",
      "ts= 1200\n",
      "ts= 1200\n",
      "ts= 1200\n",
      "ts= 1200\n",
      "ts= 1200\n",
      "ts= 1200\n"
     ]
    }
   ],
   "source": [
    "for i_trial in range(N_trial):\n",
    "    print('ts=', (np.isnan(data[:, :, i_trial]).sum(axis=1)<N_neurons).sum())\n",
    "    if i_trial>10: break\n"
   ]
  },
  {
   "cell_type": "code",
   "execution_count": 30,
   "id": "290e3e00",
   "metadata": {},
   "outputs": [
    {
     "data": {
      "text/plain": [
       "array([ True,  True,  True,  True,  True,  True,  True,  True,  True,\n",
       "        True,  True,  True,  True,  True,  True,  True,  True,  True,\n",
       "        True,  True,  True,  True,  True,  True,  True,  True,  True,\n",
       "        True,  True,  True,  True,  True,  True,  True,  True,  True,\n",
       "        True,  True,  True,  True,  True,  True,  True,  True,  True,\n",
       "        True,  True,  True,  True,  True,  True,  True,  True,  True,\n",
       "        True,  True,  True,  True,  True,  True,  True,  True,  True,\n",
       "        True,  True,  True,  True,  True,  True,  True,  True,  True,\n",
       "        True,  True,  True,  True,  True,  True,  True,  True,  True,\n",
       "        True,  True,  True,  True,  True,  True,  True,  True,  True,\n",
       "        True,  True,  True,  True,  True,  True,  True,  True,  True,\n",
       "        True,  True,  True,  True,  True,  True,  True,  True])"
      ]
     },
     "execution_count": 30,
     "metadata": {},
     "output_type": "execute_result"
    }
   ],
   "source": [
    "active_neurons = np.isnan(data_trimT).sum(axis=0)==0\n",
    "active_neurons"
   ]
  },
  {
   "attachments": {},
   "cell_type": "markdown",
   "id": "62b0b690",
   "metadata": {},
   "source": [
    "### computing some firing rates"
   ]
  },
  {
   "cell_type": "code",
   "execution_count": 31,
   "id": "5f0c65d4",
   "metadata": {},
   "outputs": [],
   "source": [
    "DeltaT = 100 # number of time bins on which we average\n",
    "dt = 40 # points on which we comute the "
   ]
  },
  {
   "cell_type": "code",
   "execution_count": 32,
   "id": "5ec9a4e7",
   "metadata": {},
   "outputs": [
    {
     "data": {
      "text/plain": [
       "array([[[0., 0., 0., ..., 0., 0., 0.],\n",
       "        [0., 0., 0., ..., 0., 0., 0.],\n",
       "        [0., 0., 0., ..., 0., 0., 0.],\n",
       "        ...,\n",
       "        [0., 0., 0., ..., 0., 0., 0.],\n",
       "        [0., 0., 0., ..., 0., 0., 0.],\n",
       "        [0., 0., 0., ..., 0., 0., 0.]],\n",
       "\n",
       "       [[0., 0., 0., ..., 0., 0., 0.],\n",
       "        [0., 0., 0., ..., 0., 0., 0.],\n",
       "        [0., 0., 0., ..., 0., 0., 0.],\n",
       "        ...,\n",
       "        [0., 0., 1., ..., 0., 0., 0.],\n",
       "        [0., 0., 0., ..., 0., 0., 0.],\n",
       "        [0., 0., 0., ..., 0., 0., 0.]],\n",
       "\n",
       "       [[0., 0., 0., ..., 0., 0., 0.],\n",
       "        [0., 0., 0., ..., 0., 0., 0.],\n",
       "        [0., 0., 0., ..., 0., 0., 0.],\n",
       "        ...,\n",
       "        [0., 0., 0., ..., 0., 0., 0.],\n",
       "        [0., 0., 0., ..., 0., 0., 0.],\n",
       "        [0., 0., 0., ..., 0., 0., 0.]],\n",
       "\n",
       "       ...,\n",
       "\n",
       "       [[0., 0., 0., ..., 0., 0., 0.],\n",
       "        [0., 0., 0., ..., 0., 0., 0.],\n",
       "        [0., 0., 0., ..., 0., 0., 0.],\n",
       "        ...,\n",
       "        [0., 0., 0., ..., 0., 0., 0.],\n",
       "        [0., 0., 0., ..., 0., 0., 0.],\n",
       "        [0., 0., 0., ..., 0., 0., 0.]],\n",
       "\n",
       "       [[0., 1., 0., ..., 0., 0., 0.],\n",
       "        [0., 0., 0., ..., 0., 0., 0.],\n",
       "        [0., 0., 0., ..., 0., 0., 0.],\n",
       "        ...,\n",
       "        [0., 0., 0., ..., 0., 0., 0.],\n",
       "        [0., 0., 0., ..., 0., 0., 0.],\n",
       "        [0., 0., 0., ..., 0., 0., 0.]],\n",
       "\n",
       "       [[0., 0., 0., ..., 0., 0., 0.],\n",
       "        [0., 0., 0., ..., 0., 0., 0.],\n",
       "        [0., 0., 0., ..., 0., 0., 0.],\n",
       "        ...,\n",
       "        [0., 0., 0., ..., 0., 0., 0.],\n",
       "        [0., 0., 0., ..., 0., 0., 0.],\n",
       "        [0., 0., 0., ..., 0., 0., 0.]]])"
      ]
     },
     "execution_count": 32,
     "metadata": {},
     "output_type": "execute_result"
    }
   ],
   "source": [
    "data\n"
   ]
  },
  {
   "cell_type": "code",
   "execution_count": null,
   "id": "2cd76d43",
   "metadata": {},
   "outputs": [],
   "source": []
  }
 ],
 "metadata": {
  "kernelspec": {
   "display_name": "Python 3",
   "language": "python",
   "name": "python3"
  },
  "language_info": {
   "codemirror_mode": {
    "name": "ipython",
    "version": 3
   },
   "file_extension": ".py",
   "mimetype": "text/x-python",
   "name": "python",
   "nbconvert_exporter": "python",
   "pygments_lexer": "ipython3",
   "version": "3.11.4"
  }
 },
 "nbformat": 4,
 "nbformat_minor": 5
}
